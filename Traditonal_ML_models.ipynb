{
 "cells": [
  {
   "cell_type": "code",
   "execution_count": 79,
   "id": "5b864a60-d9f0-4ee1-89fa-88b78e92057e",
   "metadata": {},
   "outputs": [],
   "source": [
    "import os \n",
    "os.getcwd()\n",
    "import numpy as np\n",
    "import sklearn.preprocessing\n",
    "import seaborn as sns\n",
    "import matplotlib.pyplot as plt\n",
    "import pandas as pd\n",
    "from sklearn.metrics import plot_confusion_matrix\n",
    "import warnings\n",
    "warnings.filterwarnings(\"ignore\")\n",
    "\n",
    "# Clean data\n",
    "import re\n"
   ]
  },
  {
   "cell_type": "code",
   "execution_count": 80,
   "id": "e49b7fb0",
   "metadata": {},
   "outputs": [],
   "source": [
    "def look_n_load(path):\n",
    "    df = pd.read_csv(path)\n",
    "    print('\\nShape:', df.shape)\n",
    "    print('\\nColumns:', list(df.columns))\n",
    "#     print('\\n',df.describe())\n",
    "    print('\\nMissing proportions:\\n', df.isna().sum()/len(df))\n",
    "    return df"
   ]
  },
  {
   "cell_type": "code",
   "execution_count": 81,
   "id": "f441d217",
   "metadata": {},
   "outputs": [
    {
     "name": "stdout",
     "output_type": "stream",
     "text": [
      "\n",
      "Shape: (447712, 11)\n",
      "\n",
      "Columns: ['subject_id', 'stay_id', 'temperature', 'heartrate', 'resprate', 'o2sat', 'sbp', 'dbp', 'pain', 'acuity', 'chiefcomplaint']\n",
      "\n",
      "Missing proportions:\n",
      " subject_id        0.000000\n",
      "stay_id           0.000000\n",
      "temperature       0.054935\n",
      "heartrate         0.040111\n",
      "resprate          0.047743\n",
      "o2sat             0.048355\n",
      "sbp               0.042941\n",
      "dbp               0.044823\n",
      "pain              0.030415\n",
      "acuity            0.016368\n",
      "chiefcomplaint    0.000051\n",
      "dtype: float64\n"
     ]
    }
   ],
   "source": [
    "triage = look_n_load('triage.csv')\n"
   ]
  },
  {
   "cell_type": "code",
   "execution_count": 83,
   "id": "300fc3b1",
   "metadata": {},
   "outputs": [
    {
     "name": "stdout",
     "output_type": "stream",
     "text": [
      "\n",
      "Shape: (1646976, 11)\n",
      "\n",
      "Columns: ['subject_id', 'stay_id', 'charttime', 'temperature', 'heartrate', 'resprate', 'o2sat', 'sbp', 'dbp', 'rhythm', 'pain']\n",
      "\n",
      "Missing proportions:\n",
      " subject_id     0.000000\n",
      "stay_id        0.000000\n",
      "charttime      0.000000\n",
      "temperature    0.360779\n",
      "heartrate      0.044546\n",
      "resprate       0.057115\n",
      "o2sat          0.086914\n",
      "sbp            0.051936\n",
      "dbp            0.051936\n",
      "rhythm         0.961874\n",
      "pain           0.283495\n",
      "dtype: float64\n"
     ]
    }
   ],
   "source": [
    "vitalsign = look_n_load('vitalsign.csv')\n"
   ]
  },
  {
   "cell_type": "code",
   "execution_count": 84,
   "id": "1676498e",
   "metadata": {},
   "outputs": [
    {
     "name": "stdout",
     "output_type": "stream",
     "text": [
      "\n",
      "Shape: (447712, 9)\n",
      "\n",
      "Columns: ['subject_id', 'hadm_id', 'stay_id', 'intime', 'outtime', 'gender', 'race', 'arrival_transport', 'disposition']\n",
      "\n",
      "Missing proportions:\n",
      " subject_id           0.000000\n",
      "hadm_id              0.522213\n",
      "stay_id              0.000000\n",
      "intime               0.000000\n",
      "outtime              0.000000\n",
      "gender               0.000000\n",
      "race                 0.000000\n",
      "arrival_transport    0.000000\n",
      "disposition          0.000000\n",
      "dtype: float64\n"
     ]
    }
   ],
   "source": [
    "edstays = look_n_load('edstays.csv')\n"
   ]
  },
  {
   "cell_type": "code",
   "execution_count": 85,
   "id": "935d05d8",
   "metadata": {},
   "outputs": [
    {
     "name": "stdout",
     "output_type": "stream",
     "text": [
      "\n",
      "Shape: (946692, 6)\n",
      "\n",
      "Columns: ['subject_id', 'stay_id', 'seq_num', 'icd_code', 'icd_version', 'icd_title']\n",
      "\n",
      "Missing proportions:\n",
      " subject_id     0.0\n",
      "stay_id        0.0\n",
      "seq_num        0.0\n",
      "icd_code       0.0\n",
      "icd_version    0.0\n",
      "icd_title      0.0\n",
      "dtype: float64\n"
     ]
    }
   ],
   "source": [
    "diagnosis = look_n_load('diagnosis.csv')\n"
   ]
  },
  {
   "cell_type": "code",
   "execution_count": 86,
   "id": "f0b80e5a-6f02-4773-bc41-bb99887ca156",
   "metadata": {},
   "outputs": [
    {
     "data": {
      "text/html": [
       "<div>\n",
       "<style scoped>\n",
       "    .dataframe tbody tr th:only-of-type {\n",
       "        vertical-align: middle;\n",
       "    }\n",
       "\n",
       "    .dataframe tbody tr th {\n",
       "        vertical-align: top;\n",
       "    }\n",
       "\n",
       "    .dataframe thead th {\n",
       "        text-align: right;\n",
       "    }\n",
       "</style>\n",
       "<table border=\"1\" class=\"dataframe\">\n",
       "  <thead>\n",
       "    <tr style=\"text-align: right;\">\n",
       "      <th></th>\n",
       "      <th>subject_id</th>\n",
       "      <th>hadm_id</th>\n",
       "      <th>stay_id</th>\n",
       "      <th>intime</th>\n",
       "      <th>outtime</th>\n",
       "      <th>gender</th>\n",
       "      <th>race</th>\n",
       "      <th>arrival_transport</th>\n",
       "      <th>disposition</th>\n",
       "      <th>difftime</th>\n",
       "      <th>nights</th>\n",
       "      <th>hours</th>\n",
       "      <th>discharge_hour</th>\n",
       "      <th>admission_hour</th>\n",
       "      <th>admission_date</th>\n",
       "      <th>admission_day</th>\n",
       "    </tr>\n",
       "  </thead>\n",
       "  <tbody>\n",
       "    <tr>\n",
       "      <th>0</th>\n",
       "      <td>10000032</td>\n",
       "      <td>22595853.0</td>\n",
       "      <td>33258284</td>\n",
       "      <td>2180-06-05 19:17:00</td>\n",
       "      <td>2180-06-05 23:30:00</td>\n",
       "      <td>F</td>\n",
       "      <td>WHITE</td>\n",
       "      <td>AMBULANCE</td>\n",
       "      <td>ADMITTED</td>\n",
       "      <td>0 days 04:13:00</td>\n",
       "      <td>0</td>\n",
       "      <td>4.2</td>\n",
       "      <td>23</td>\n",
       "      <td>19</td>\n",
       "      <td>2180-06-05</td>\n",
       "      <td>5</td>\n",
       "    </tr>\n",
       "    <tr>\n",
       "      <th>1</th>\n",
       "      <td>10000032</td>\n",
       "      <td>22841357.0</td>\n",
       "      <td>38112554</td>\n",
       "      <td>2180-06-26 15:54:00</td>\n",
       "      <td>2180-06-26 21:31:00</td>\n",
       "      <td>F</td>\n",
       "      <td>WHITE</td>\n",
       "      <td>AMBULANCE</td>\n",
       "      <td>ADMITTED</td>\n",
       "      <td>0 days 05:37:00</td>\n",
       "      <td>0</td>\n",
       "      <td>5.6</td>\n",
       "      <td>21</td>\n",
       "      <td>15</td>\n",
       "      <td>2180-06-26</td>\n",
       "      <td>26</td>\n",
       "    </tr>\n",
       "    <tr>\n",
       "      <th>2</th>\n",
       "      <td>10000032</td>\n",
       "      <td>25742920.0</td>\n",
       "      <td>35968195</td>\n",
       "      <td>2180-05-08 20:58:00</td>\n",
       "      <td>2180-06-08 01:44:00</td>\n",
       "      <td>F</td>\n",
       "      <td>WHITE</td>\n",
       "      <td>AMBULANCE</td>\n",
       "      <td>ADMITTED</td>\n",
       "      <td>30 days 04:46:00</td>\n",
       "      <td>30</td>\n",
       "      <td>724.8</td>\n",
       "      <td>1</td>\n",
       "      <td>20</td>\n",
       "      <td>2180-05-08</td>\n",
       "      <td>8</td>\n",
       "    </tr>\n",
       "    <tr>\n",
       "      <th>3</th>\n",
       "      <td>10000032</td>\n",
       "      <td>29079034.0</td>\n",
       "      <td>32952584</td>\n",
       "      <td>2180-07-22 16:24:00</td>\n",
       "      <td>2180-07-23 05:54:00</td>\n",
       "      <td>F</td>\n",
       "      <td>WHITE</td>\n",
       "      <td>AMBULANCE</td>\n",
       "      <td>HOME</td>\n",
       "      <td>0 days 13:30:00</td>\n",
       "      <td>0</td>\n",
       "      <td>13.5</td>\n",
       "      <td>5</td>\n",
       "      <td>16</td>\n",
       "      <td>2180-07-22</td>\n",
       "      <td>22</td>\n",
       "    </tr>\n",
       "    <tr>\n",
       "      <th>4</th>\n",
       "      <td>10000032</td>\n",
       "      <td>29079034.0</td>\n",
       "      <td>39399961</td>\n",
       "      <td>2180-07-23 05:54:00</td>\n",
       "      <td>2180-07-23 14:00:00</td>\n",
       "      <td>F</td>\n",
       "      <td>WHITE</td>\n",
       "      <td>AMBULANCE</td>\n",
       "      <td>ADMITTED</td>\n",
       "      <td>0 days 08:06:00</td>\n",
       "      <td>0</td>\n",
       "      <td>8.1</td>\n",
       "      <td>14</td>\n",
       "      <td>5</td>\n",
       "      <td>2180-07-23</td>\n",
       "      <td>23</td>\n",
       "    </tr>\n",
       "    <tr>\n",
       "      <th>...</th>\n",
       "      <td>...</td>\n",
       "      <td>...</td>\n",
       "      <td>...</td>\n",
       "      <td>...</td>\n",
       "      <td>...</td>\n",
       "      <td>...</td>\n",
       "      <td>...</td>\n",
       "      <td>...</td>\n",
       "      <td>...</td>\n",
       "      <td>...</td>\n",
       "      <td>...</td>\n",
       "      <td>...</td>\n",
       "      <td>...</td>\n",
       "      <td>...</td>\n",
       "      <td>...</td>\n",
       "      <td>...</td>\n",
       "    </tr>\n",
       "    <tr>\n",
       "      <th>447707</th>\n",
       "      <td>19999784</td>\n",
       "      <td>26194817.0</td>\n",
       "      <td>35692999</td>\n",
       "      <td>2119-06-18 14:21:00</td>\n",
       "      <td>2119-06-18 21:09:00</td>\n",
       "      <td>M</td>\n",
       "      <td>BLACK/AFRICAN AMERICAN</td>\n",
       "      <td>WALK IN</td>\n",
       "      <td>ADMITTED</td>\n",
       "      <td>0 days 06:48:00</td>\n",
       "      <td>0</td>\n",
       "      <td>6.8</td>\n",
       "      <td>21</td>\n",
       "      <td>14</td>\n",
       "      <td>2119-06-18</td>\n",
       "      <td>18</td>\n",
       "    </tr>\n",
       "    <tr>\n",
       "      <th>447708</th>\n",
       "      <td>19999828</td>\n",
       "      <td>25744818.0</td>\n",
       "      <td>32917002</td>\n",
       "      <td>2149-08-01 09:11:00</td>\n",
       "      <td>2149-08-01 18:12:00</td>\n",
       "      <td>F</td>\n",
       "      <td>WHITE</td>\n",
       "      <td>AMBULANCE</td>\n",
       "      <td>ADMITTED</td>\n",
       "      <td>0 days 09:01:00</td>\n",
       "      <td>0</td>\n",
       "      <td>9.0</td>\n",
       "      <td>18</td>\n",
       "      <td>9</td>\n",
       "      <td>2149-08-01</td>\n",
       "      <td>1</td>\n",
       "    </tr>\n",
       "    <tr>\n",
       "      <th>447709</th>\n",
       "      <td>19999828</td>\n",
       "      <td>29734428.0</td>\n",
       "      <td>30712109</td>\n",
       "      <td>2147-07-17 17:18:00</td>\n",
       "      <td>2147-07-18 17:34:00</td>\n",
       "      <td>F</td>\n",
       "      <td>WHITE</td>\n",
       "      <td>WALK IN</td>\n",
       "      <td>ADMITTED</td>\n",
       "      <td>1 days 00:16:00</td>\n",
       "      <td>1</td>\n",
       "      <td>24.3</td>\n",
       "      <td>17</td>\n",
       "      <td>17</td>\n",
       "      <td>2147-07-17</td>\n",
       "      <td>17</td>\n",
       "    </tr>\n",
       "    <tr>\n",
       "      <th>447710</th>\n",
       "      <td>19999914</td>\n",
       "      <td>NaN</td>\n",
       "      <td>32002659</td>\n",
       "      <td>2158-12-24 11:41:00</td>\n",
       "      <td>2158-12-24 11:56:00</td>\n",
       "      <td>F</td>\n",
       "      <td>UNKNOWN</td>\n",
       "      <td>UNKNOWN</td>\n",
       "      <td>ELOPED</td>\n",
       "      <td>0 days 00:15:00</td>\n",
       "      <td>0</td>\n",
       "      <td>0.2</td>\n",
       "      <td>11</td>\n",
       "      <td>11</td>\n",
       "      <td>2158-12-24</td>\n",
       "      <td>24</td>\n",
       "    </tr>\n",
       "    <tr>\n",
       "      <th>447711</th>\n",
       "      <td>19999987</td>\n",
       "      <td>23865745.0</td>\n",
       "      <td>34731548</td>\n",
       "      <td>2145-02-11 19:28:00</td>\n",
       "      <td>2145-02-11 22:59:00</td>\n",
       "      <td>F</td>\n",
       "      <td>UNKNOWN</td>\n",
       "      <td>AMBULANCE</td>\n",
       "      <td>ADMITTED</td>\n",
       "      <td>0 days 03:31:00</td>\n",
       "      <td>0</td>\n",
       "      <td>3.5</td>\n",
       "      <td>22</td>\n",
       "      <td>19</td>\n",
       "      <td>2145-02-11</td>\n",
       "      <td>11</td>\n",
       "    </tr>\n",
       "  </tbody>\n",
       "</table>\n",
       "<p>447712 rows × 16 columns</p>\n",
       "</div>"
      ],
      "text/plain": [
       "        subject_id     hadm_id   stay_id              intime  \\\n",
       "0         10000032  22595853.0  33258284 2180-06-05 19:17:00   \n",
       "1         10000032  22841357.0  38112554 2180-06-26 15:54:00   \n",
       "2         10000032  25742920.0  35968195 2180-05-08 20:58:00   \n",
       "3         10000032  29079034.0  32952584 2180-07-22 16:24:00   \n",
       "4         10000032  29079034.0  39399961 2180-07-23 05:54:00   \n",
       "...            ...         ...       ...                 ...   \n",
       "447707    19999784  26194817.0  35692999 2119-06-18 14:21:00   \n",
       "447708    19999828  25744818.0  32917002 2149-08-01 09:11:00   \n",
       "447709    19999828  29734428.0  30712109 2147-07-17 17:18:00   \n",
       "447710    19999914         NaN  32002659 2158-12-24 11:41:00   \n",
       "447711    19999987  23865745.0  34731548 2145-02-11 19:28:00   \n",
       "\n",
       "                   outtime gender                    race arrival_transport  \\\n",
       "0      2180-06-05 23:30:00      F                   WHITE         AMBULANCE   \n",
       "1      2180-06-26 21:31:00      F                   WHITE         AMBULANCE   \n",
       "2      2180-06-08 01:44:00      F                   WHITE         AMBULANCE   \n",
       "3      2180-07-23 05:54:00      F                   WHITE         AMBULANCE   \n",
       "4      2180-07-23 14:00:00      F                   WHITE         AMBULANCE   \n",
       "...                    ...    ...                     ...               ...   \n",
       "447707 2119-06-18 21:09:00      M  BLACK/AFRICAN AMERICAN           WALK IN   \n",
       "447708 2149-08-01 18:12:00      F                   WHITE         AMBULANCE   \n",
       "447709 2147-07-18 17:34:00      F                   WHITE           WALK IN   \n",
       "447710 2158-12-24 11:56:00      F                 UNKNOWN           UNKNOWN   \n",
       "447711 2145-02-11 22:59:00      F                 UNKNOWN         AMBULANCE   \n",
       "\n",
       "       disposition         difftime  nights  hours  discharge_hour  \\\n",
       "0         ADMITTED  0 days 04:13:00       0    4.2              23   \n",
       "1         ADMITTED  0 days 05:37:00       0    5.6              21   \n",
       "2         ADMITTED 30 days 04:46:00      30  724.8               1   \n",
       "3             HOME  0 days 13:30:00       0   13.5               5   \n",
       "4         ADMITTED  0 days 08:06:00       0    8.1              14   \n",
       "...            ...              ...     ...    ...             ...   \n",
       "447707    ADMITTED  0 days 06:48:00       0    6.8              21   \n",
       "447708    ADMITTED  0 days 09:01:00       0    9.0              18   \n",
       "447709    ADMITTED  1 days 00:16:00       1   24.3              17   \n",
       "447710      ELOPED  0 days 00:15:00       0    0.2              11   \n",
       "447711    ADMITTED  0 days 03:31:00       0    3.5              22   \n",
       "\n",
       "        admission_hour admission_date  admission_day  \n",
       "0                   19     2180-06-05              5  \n",
       "1                   15     2180-06-26             26  \n",
       "2                   20     2180-05-08              8  \n",
       "3                   16     2180-07-22             22  \n",
       "4                    5     2180-07-23             23  \n",
       "...                ...            ...            ...  \n",
       "447707              14     2119-06-18             18  \n",
       "447708               9     2149-08-01              1  \n",
       "447709              17     2147-07-17             17  \n",
       "447710              11     2158-12-24             24  \n",
       "447711              19     2145-02-11             11  \n",
       "\n",
       "[447712 rows x 16 columns]"
      ]
     },
     "execution_count": 86,
     "metadata": {},
     "output_type": "execute_result"
    }
   ],
   "source": [
    "# creating hours column of for lenght of stay\n",
    "if type(edstays['intime'][0]) == type('str'): \n",
    "    edstays['intime'] = pd.to_datetime(edstays['intime'])\n",
    "    edstays['outtime'] = pd.to_datetime(edstays['outtime'])\n",
    "\n",
    "    edstays['difftime'] = edstays['outtime'] - edstays['intime']\n",
    "    edstays['nights'] = [x.days for x in edstays.difftime]\n",
    "    edstays['hours'] = [round(x.total_seconds() / 60 / 60, 1) for x in edstays.difftime]\n",
    "\n",
    "    # need to ensure exact time of dishcarge has been maintained and only the date ambiguated \n",
    "    edstays['discharge_hour'] = [x.hour for x in edstays.outtime]\n",
    "    edstays['admission_hour'] = [x.hour for x in edstays.intime]\n",
    "\n",
    "    edstays['admission_date'] = [x.date() for x in edstays.intime]\n",
    "    edstays['admission_day'] = [x.day for x in edstays.intime]\n",
    "\n",
    "patients_seen = pd.DataFrame(edstays['admission_date'].value_counts()).reset_index()\n",
    "patients_seen = patients_seen.rename(columns={'index':'admission_date', 'admission_date':'patients_seen'})\n",
    "\n",
    "edstays\n",
    "# # overnight stays, not just hours"
   ]
  },
  {
   "cell_type": "code",
   "execution_count": 87,
   "id": "59e93e1f-30b9-41a1-8aa0-25489a49fbdc",
   "metadata": {},
   "outputs": [
    {
     "data": {
      "text/html": [
       "<div>\n",
       "<style scoped>\n",
       "    .dataframe tbody tr th:only-of-type {\n",
       "        vertical-align: middle;\n",
       "    }\n",
       "\n",
       "    .dataframe tbody tr th {\n",
       "        vertical-align: top;\n",
       "    }\n",
       "\n",
       "    .dataframe thead th {\n",
       "        text-align: right;\n",
       "    }\n",
       "</style>\n",
       "<table border=\"1\" class=\"dataframe\">\n",
       "  <thead>\n",
       "    <tr style=\"text-align: right;\">\n",
       "      <th></th>\n",
       "      <th>subject_id</th>\n",
       "      <th>hadm_id</th>\n",
       "      <th>stay_id</th>\n",
       "      <th>intime</th>\n",
       "      <th>outtime</th>\n",
       "      <th>gender</th>\n",
       "      <th>race</th>\n",
       "      <th>arrival_transport</th>\n",
       "      <th>disposition</th>\n",
       "      <th>difftime</th>\n",
       "      <th>nights</th>\n",
       "      <th>hours</th>\n",
       "      <th>discharge_hour</th>\n",
       "      <th>admission_hour</th>\n",
       "      <th>admission_date</th>\n",
       "      <th>admission_day</th>\n",
       "    </tr>\n",
       "  </thead>\n",
       "  <tbody>\n",
       "    <tr>\n",
       "      <th>0</th>\n",
       "      <td>10000032</td>\n",
       "      <td>22595853.0</td>\n",
       "      <td>33258284</td>\n",
       "      <td>2180-06-05 19:17:00</td>\n",
       "      <td>2180-06-05 23:30:00</td>\n",
       "      <td>F</td>\n",
       "      <td>WHITE</td>\n",
       "      <td>AMBULANCE</td>\n",
       "      <td>ADMITTED</td>\n",
       "      <td>0 days 04:13:00</td>\n",
       "      <td>0</td>\n",
       "      <td>4.2</td>\n",
       "      <td>23</td>\n",
       "      <td>19</td>\n",
       "      <td>2180-06-05</td>\n",
       "      <td>5</td>\n",
       "    </tr>\n",
       "    <tr>\n",
       "      <th>1</th>\n",
       "      <td>10000032</td>\n",
       "      <td>22841357.0</td>\n",
       "      <td>38112554</td>\n",
       "      <td>2180-06-26 15:54:00</td>\n",
       "      <td>2180-06-26 21:31:00</td>\n",
       "      <td>F</td>\n",
       "      <td>WHITE</td>\n",
       "      <td>AMBULANCE</td>\n",
       "      <td>ADMITTED</td>\n",
       "      <td>0 days 05:37:00</td>\n",
       "      <td>0</td>\n",
       "      <td>5.6</td>\n",
       "      <td>21</td>\n",
       "      <td>15</td>\n",
       "      <td>2180-06-26</td>\n",
       "      <td>26</td>\n",
       "    </tr>\n",
       "    <tr>\n",
       "      <th>2</th>\n",
       "      <td>10000032</td>\n",
       "      <td>25742920.0</td>\n",
       "      <td>35968195</td>\n",
       "      <td>2180-05-08 20:58:00</td>\n",
       "      <td>2180-06-08 01:44:00</td>\n",
       "      <td>F</td>\n",
       "      <td>WHITE</td>\n",
       "      <td>AMBULANCE</td>\n",
       "      <td>ADMITTED</td>\n",
       "      <td>30 days 04:46:00</td>\n",
       "      <td>30</td>\n",
       "      <td>724.8</td>\n",
       "      <td>1</td>\n",
       "      <td>20</td>\n",
       "      <td>2180-05-08</td>\n",
       "      <td>8</td>\n",
       "    </tr>\n",
       "    <tr>\n",
       "      <th>4</th>\n",
       "      <td>10000032</td>\n",
       "      <td>29079034.0</td>\n",
       "      <td>39399961</td>\n",
       "      <td>2180-07-23 05:54:00</td>\n",
       "      <td>2180-07-23 14:00:00</td>\n",
       "      <td>F</td>\n",
       "      <td>WHITE</td>\n",
       "      <td>AMBULANCE</td>\n",
       "      <td>ADMITTED</td>\n",
       "      <td>0 days 08:06:00</td>\n",
       "      <td>0</td>\n",
       "      <td>8.1</td>\n",
       "      <td>14</td>\n",
       "      <td>5</td>\n",
       "      <td>2180-07-23</td>\n",
       "      <td>23</td>\n",
       "    </tr>\n",
       "    <tr>\n",
       "      <th>5</th>\n",
       "      <td>10000084</td>\n",
       "      <td>23052089.0</td>\n",
       "      <td>35203156</td>\n",
       "      <td>2160-11-20 20:36:00</td>\n",
       "      <td>2160-11-21 03:20:00</td>\n",
       "      <td>M</td>\n",
       "      <td>WHITE</td>\n",
       "      <td>WALK IN</td>\n",
       "      <td>ADMITTED</td>\n",
       "      <td>0 days 06:44:00</td>\n",
       "      <td>0</td>\n",
       "      <td>6.7</td>\n",
       "      <td>3</td>\n",
       "      <td>20</td>\n",
       "      <td>2160-11-20</td>\n",
       "      <td>20</td>\n",
       "    </tr>\n",
       "    <tr>\n",
       "      <th>...</th>\n",
       "      <td>...</td>\n",
       "      <td>...</td>\n",
       "      <td>...</td>\n",
       "      <td>...</td>\n",
       "      <td>...</td>\n",
       "      <td>...</td>\n",
       "      <td>...</td>\n",
       "      <td>...</td>\n",
       "      <td>...</td>\n",
       "      <td>...</td>\n",
       "      <td>...</td>\n",
       "      <td>...</td>\n",
       "      <td>...</td>\n",
       "      <td>...</td>\n",
       "      <td>...</td>\n",
       "      <td>...</td>\n",
       "    </tr>\n",
       "    <tr>\n",
       "      <th>447706</th>\n",
       "      <td>19999784</td>\n",
       "      <td>25715748.0</td>\n",
       "      <td>34149746</td>\n",
       "      <td>2119-11-08 09:15:00</td>\n",
       "      <td>2119-11-08 13:40:00</td>\n",
       "      <td>M</td>\n",
       "      <td>BLACK/AFRICAN AMERICAN</td>\n",
       "      <td>WALK IN</td>\n",
       "      <td>ADMITTED</td>\n",
       "      <td>0 days 04:25:00</td>\n",
       "      <td>0</td>\n",
       "      <td>4.4</td>\n",
       "      <td>13</td>\n",
       "      <td>9</td>\n",
       "      <td>2119-11-08</td>\n",
       "      <td>8</td>\n",
       "    </tr>\n",
       "    <tr>\n",
       "      <th>447707</th>\n",
       "      <td>19999784</td>\n",
       "      <td>26194817.0</td>\n",
       "      <td>35692999</td>\n",
       "      <td>2119-06-18 14:21:00</td>\n",
       "      <td>2119-06-18 21:09:00</td>\n",
       "      <td>M</td>\n",
       "      <td>BLACK/AFRICAN AMERICAN</td>\n",
       "      <td>WALK IN</td>\n",
       "      <td>ADMITTED</td>\n",
       "      <td>0 days 06:48:00</td>\n",
       "      <td>0</td>\n",
       "      <td>6.8</td>\n",
       "      <td>21</td>\n",
       "      <td>14</td>\n",
       "      <td>2119-06-18</td>\n",
       "      <td>18</td>\n",
       "    </tr>\n",
       "    <tr>\n",
       "      <th>447708</th>\n",
       "      <td>19999828</td>\n",
       "      <td>25744818.0</td>\n",
       "      <td>32917002</td>\n",
       "      <td>2149-08-01 09:11:00</td>\n",
       "      <td>2149-08-01 18:12:00</td>\n",
       "      <td>F</td>\n",
       "      <td>WHITE</td>\n",
       "      <td>AMBULANCE</td>\n",
       "      <td>ADMITTED</td>\n",
       "      <td>0 days 09:01:00</td>\n",
       "      <td>0</td>\n",
       "      <td>9.0</td>\n",
       "      <td>18</td>\n",
       "      <td>9</td>\n",
       "      <td>2149-08-01</td>\n",
       "      <td>1</td>\n",
       "    </tr>\n",
       "    <tr>\n",
       "      <th>447709</th>\n",
       "      <td>19999828</td>\n",
       "      <td>29734428.0</td>\n",
       "      <td>30712109</td>\n",
       "      <td>2147-07-17 17:18:00</td>\n",
       "      <td>2147-07-18 17:34:00</td>\n",
       "      <td>F</td>\n",
       "      <td>WHITE</td>\n",
       "      <td>WALK IN</td>\n",
       "      <td>ADMITTED</td>\n",
       "      <td>1 days 00:16:00</td>\n",
       "      <td>1</td>\n",
       "      <td>24.3</td>\n",
       "      <td>17</td>\n",
       "      <td>17</td>\n",
       "      <td>2147-07-17</td>\n",
       "      <td>17</td>\n",
       "    </tr>\n",
       "    <tr>\n",
       "      <th>447711</th>\n",
       "      <td>19999987</td>\n",
       "      <td>23865745.0</td>\n",
       "      <td>34731548</td>\n",
       "      <td>2145-02-11 19:28:00</td>\n",
       "      <td>2145-02-11 22:59:00</td>\n",
       "      <td>F</td>\n",
       "      <td>UNKNOWN</td>\n",
       "      <td>AMBULANCE</td>\n",
       "      <td>ADMITTED</td>\n",
       "      <td>0 days 03:31:00</td>\n",
       "      <td>0</td>\n",
       "      <td>3.5</td>\n",
       "      <td>22</td>\n",
       "      <td>19</td>\n",
       "      <td>2145-02-11</td>\n",
       "      <td>11</td>\n",
       "    </tr>\n",
       "  </tbody>\n",
       "</table>\n",
       "<p>173739 rows × 16 columns</p>\n",
       "</div>"
      ],
      "text/plain": [
       "        subject_id     hadm_id   stay_id              intime  \\\n",
       "0         10000032  22595853.0  33258284 2180-06-05 19:17:00   \n",
       "1         10000032  22841357.0  38112554 2180-06-26 15:54:00   \n",
       "2         10000032  25742920.0  35968195 2180-05-08 20:58:00   \n",
       "4         10000032  29079034.0  39399961 2180-07-23 05:54:00   \n",
       "5         10000084  23052089.0  35203156 2160-11-20 20:36:00   \n",
       "...            ...         ...       ...                 ...   \n",
       "447706    19999784  25715748.0  34149746 2119-11-08 09:15:00   \n",
       "447707    19999784  26194817.0  35692999 2119-06-18 14:21:00   \n",
       "447708    19999828  25744818.0  32917002 2149-08-01 09:11:00   \n",
       "447709    19999828  29734428.0  30712109 2147-07-17 17:18:00   \n",
       "447711    19999987  23865745.0  34731548 2145-02-11 19:28:00   \n",
       "\n",
       "                   outtime gender                    race arrival_transport  \\\n",
       "0      2180-06-05 23:30:00      F                   WHITE         AMBULANCE   \n",
       "1      2180-06-26 21:31:00      F                   WHITE         AMBULANCE   \n",
       "2      2180-06-08 01:44:00      F                   WHITE         AMBULANCE   \n",
       "4      2180-07-23 14:00:00      F                   WHITE         AMBULANCE   \n",
       "5      2160-11-21 03:20:00      M                   WHITE           WALK IN   \n",
       "...                    ...    ...                     ...               ...   \n",
       "447706 2119-11-08 13:40:00      M  BLACK/AFRICAN AMERICAN           WALK IN   \n",
       "447707 2119-06-18 21:09:00      M  BLACK/AFRICAN AMERICAN           WALK IN   \n",
       "447708 2149-08-01 18:12:00      F                   WHITE         AMBULANCE   \n",
       "447709 2147-07-18 17:34:00      F                   WHITE           WALK IN   \n",
       "447711 2145-02-11 22:59:00      F                 UNKNOWN         AMBULANCE   \n",
       "\n",
       "       disposition         difftime  nights  hours  discharge_hour  \\\n",
       "0         ADMITTED  0 days 04:13:00       0    4.2              23   \n",
       "1         ADMITTED  0 days 05:37:00       0    5.6              21   \n",
       "2         ADMITTED 30 days 04:46:00      30  724.8               1   \n",
       "4         ADMITTED  0 days 08:06:00       0    8.1              14   \n",
       "5         ADMITTED  0 days 06:44:00       0    6.7               3   \n",
       "...            ...              ...     ...    ...             ...   \n",
       "447706    ADMITTED  0 days 04:25:00       0    4.4              13   \n",
       "447707    ADMITTED  0 days 06:48:00       0    6.8              21   \n",
       "447708    ADMITTED  0 days 09:01:00       0    9.0              18   \n",
       "447709    ADMITTED  1 days 00:16:00       1   24.3              17   \n",
       "447711    ADMITTED  0 days 03:31:00       0    3.5              22   \n",
       "\n",
       "        admission_hour admission_date  admission_day  \n",
       "0                   19     2180-06-05              5  \n",
       "1                   15     2180-06-26             26  \n",
       "2                   20     2180-05-08              8  \n",
       "4                    5     2180-07-23             23  \n",
       "5                   20     2160-11-20             20  \n",
       "...                ...            ...            ...  \n",
       "447706               9     2119-11-08              8  \n",
       "447707              14     2119-06-18             18  \n",
       "447708               9     2149-08-01              1  \n",
       "447709              17     2147-07-17             17  \n",
       "447711              19     2145-02-11             11  \n",
       "\n",
       "[173739 rows x 16 columns]"
      ]
     },
     "execution_count": 87,
     "metadata": {},
     "output_type": "execute_result"
    }
   ],
   "source": [
    "# Looking for values where person is either admitted or transferred for lenght of stay\n",
    "res=edstays[(edstays.disposition == \"ADMITTED\") | (edstays.disposition == 'TRANSFER')]\n",
    "res"
   ]
  },
  {
   "cell_type": "code",
   "execution_count": 88,
   "id": "758ed621",
   "metadata": {},
   "outputs": [],
   "source": [
    "max = res['hours'].max()"
   ]
  },
  {
   "cell_type": "code",
   "execution_count": 89,
   "id": "c24f6c4d-cf81-4c08-81ab-b7378bc85e51",
   "metadata": {},
   "outputs": [],
   "source": [
    "\n",
    "# removed negative hours. grouped length of stay column as stay(hours)\n",
    "# for predicting\n",
    "res.loc[res['hours'].between(0,6), 'stay'] = '0-6 '\n",
    "res.loc[res['hours'].between(6.1,12), 'stay'] = '6-12'\n",
    "res.loc[res['hours'].between(12.1,24), 'stay'] = '12-24 '\n",
    "res.loc[res['hours']>24, 'stay'] = '24+'"
   ]
  },
  {
   "cell_type": "code",
   "execution_count": 90,
   "id": "a4ef51e6",
   "metadata": {},
   "outputs": [
    {
     "data": {
      "text/html": [
       "<div>\n",
       "<style scoped>\n",
       "    .dataframe tbody tr th:only-of-type {\n",
       "        vertical-align: middle;\n",
       "    }\n",
       "\n",
       "    .dataframe tbody tr th {\n",
       "        vertical-align: top;\n",
       "    }\n",
       "\n",
       "    .dataframe thead th {\n",
       "        text-align: right;\n",
       "    }\n",
       "</style>\n",
       "<table border=\"1\" class=\"dataframe\">\n",
       "  <thead>\n",
       "    <tr style=\"text-align: right;\">\n",
       "      <th></th>\n",
       "      <th>subject_id</th>\n",
       "      <th>hadm_id</th>\n",
       "      <th>stay_id</th>\n",
       "      <th>intime</th>\n",
       "      <th>outtime</th>\n",
       "      <th>gender</th>\n",
       "      <th>race</th>\n",
       "      <th>arrival_transport</th>\n",
       "      <th>disposition</th>\n",
       "      <th>difftime</th>\n",
       "      <th>nights</th>\n",
       "      <th>hours</th>\n",
       "      <th>discharge_hour</th>\n",
       "      <th>admission_hour</th>\n",
       "      <th>admission_date</th>\n",
       "      <th>admission_day</th>\n",
       "      <th>stay</th>\n",
       "    </tr>\n",
       "  </thead>\n",
       "  <tbody>\n",
       "    <tr>\n",
       "      <th>0</th>\n",
       "      <td>10000032</td>\n",
       "      <td>22595853.0</td>\n",
       "      <td>33258284</td>\n",
       "      <td>2180-06-05 19:17:00</td>\n",
       "      <td>2180-06-05 23:30:00</td>\n",
       "      <td>F</td>\n",
       "      <td>WHITE</td>\n",
       "      <td>AMBULANCE</td>\n",
       "      <td>ADMITTED</td>\n",
       "      <td>0 days 04:13:00</td>\n",
       "      <td>0</td>\n",
       "      <td>4.2</td>\n",
       "      <td>23</td>\n",
       "      <td>19</td>\n",
       "      <td>2180-06-05</td>\n",
       "      <td>5</td>\n",
       "      <td>0-6</td>\n",
       "    </tr>\n",
       "    <tr>\n",
       "      <th>1</th>\n",
       "      <td>10000032</td>\n",
       "      <td>22841357.0</td>\n",
       "      <td>38112554</td>\n",
       "      <td>2180-06-26 15:54:00</td>\n",
       "      <td>2180-06-26 21:31:00</td>\n",
       "      <td>F</td>\n",
       "      <td>WHITE</td>\n",
       "      <td>AMBULANCE</td>\n",
       "      <td>ADMITTED</td>\n",
       "      <td>0 days 05:37:00</td>\n",
       "      <td>0</td>\n",
       "      <td>5.6</td>\n",
       "      <td>21</td>\n",
       "      <td>15</td>\n",
       "      <td>2180-06-26</td>\n",
       "      <td>26</td>\n",
       "      <td>0-6</td>\n",
       "    </tr>\n",
       "    <tr>\n",
       "      <th>2</th>\n",
       "      <td>10000032</td>\n",
       "      <td>25742920.0</td>\n",
       "      <td>35968195</td>\n",
       "      <td>2180-05-08 20:58:00</td>\n",
       "      <td>2180-06-08 01:44:00</td>\n",
       "      <td>F</td>\n",
       "      <td>WHITE</td>\n",
       "      <td>AMBULANCE</td>\n",
       "      <td>ADMITTED</td>\n",
       "      <td>30 days 04:46:00</td>\n",
       "      <td>30</td>\n",
       "      <td>724.8</td>\n",
       "      <td>1</td>\n",
       "      <td>20</td>\n",
       "      <td>2180-05-08</td>\n",
       "      <td>8</td>\n",
       "      <td>24+</td>\n",
       "    </tr>\n",
       "    <tr>\n",
       "      <th>4</th>\n",
       "      <td>10000032</td>\n",
       "      <td>29079034.0</td>\n",
       "      <td>39399961</td>\n",
       "      <td>2180-07-23 05:54:00</td>\n",
       "      <td>2180-07-23 14:00:00</td>\n",
       "      <td>F</td>\n",
       "      <td>WHITE</td>\n",
       "      <td>AMBULANCE</td>\n",
       "      <td>ADMITTED</td>\n",
       "      <td>0 days 08:06:00</td>\n",
       "      <td>0</td>\n",
       "      <td>8.1</td>\n",
       "      <td>14</td>\n",
       "      <td>5</td>\n",
       "      <td>2180-07-23</td>\n",
       "      <td>23</td>\n",
       "      <td>6-12</td>\n",
       "    </tr>\n",
       "    <tr>\n",
       "      <th>5</th>\n",
       "      <td>10000084</td>\n",
       "      <td>23052089.0</td>\n",
       "      <td>35203156</td>\n",
       "      <td>2160-11-20 20:36:00</td>\n",
       "      <td>2160-11-21 03:20:00</td>\n",
       "      <td>M</td>\n",
       "      <td>WHITE</td>\n",
       "      <td>WALK IN</td>\n",
       "      <td>ADMITTED</td>\n",
       "      <td>0 days 06:44:00</td>\n",
       "      <td>0</td>\n",
       "      <td>6.7</td>\n",
       "      <td>3</td>\n",
       "      <td>20</td>\n",
       "      <td>2160-11-20</td>\n",
       "      <td>20</td>\n",
       "      <td>6-12</td>\n",
       "    </tr>\n",
       "    <tr>\n",
       "      <th>...</th>\n",
       "      <td>...</td>\n",
       "      <td>...</td>\n",
       "      <td>...</td>\n",
       "      <td>...</td>\n",
       "      <td>...</td>\n",
       "      <td>...</td>\n",
       "      <td>...</td>\n",
       "      <td>...</td>\n",
       "      <td>...</td>\n",
       "      <td>...</td>\n",
       "      <td>...</td>\n",
       "      <td>...</td>\n",
       "      <td>...</td>\n",
       "      <td>...</td>\n",
       "      <td>...</td>\n",
       "      <td>...</td>\n",
       "      <td>...</td>\n",
       "    </tr>\n",
       "    <tr>\n",
       "      <th>447706</th>\n",
       "      <td>19999784</td>\n",
       "      <td>25715748.0</td>\n",
       "      <td>34149746</td>\n",
       "      <td>2119-11-08 09:15:00</td>\n",
       "      <td>2119-11-08 13:40:00</td>\n",
       "      <td>M</td>\n",
       "      <td>BLACK/AFRICAN AMERICAN</td>\n",
       "      <td>WALK IN</td>\n",
       "      <td>ADMITTED</td>\n",
       "      <td>0 days 04:25:00</td>\n",
       "      <td>0</td>\n",
       "      <td>4.4</td>\n",
       "      <td>13</td>\n",
       "      <td>9</td>\n",
       "      <td>2119-11-08</td>\n",
       "      <td>8</td>\n",
       "      <td>0-6</td>\n",
       "    </tr>\n",
       "    <tr>\n",
       "      <th>447707</th>\n",
       "      <td>19999784</td>\n",
       "      <td>26194817.0</td>\n",
       "      <td>35692999</td>\n",
       "      <td>2119-06-18 14:21:00</td>\n",
       "      <td>2119-06-18 21:09:00</td>\n",
       "      <td>M</td>\n",
       "      <td>BLACK/AFRICAN AMERICAN</td>\n",
       "      <td>WALK IN</td>\n",
       "      <td>ADMITTED</td>\n",
       "      <td>0 days 06:48:00</td>\n",
       "      <td>0</td>\n",
       "      <td>6.8</td>\n",
       "      <td>21</td>\n",
       "      <td>14</td>\n",
       "      <td>2119-06-18</td>\n",
       "      <td>18</td>\n",
       "      <td>6-12</td>\n",
       "    </tr>\n",
       "    <tr>\n",
       "      <th>447708</th>\n",
       "      <td>19999828</td>\n",
       "      <td>25744818.0</td>\n",
       "      <td>32917002</td>\n",
       "      <td>2149-08-01 09:11:00</td>\n",
       "      <td>2149-08-01 18:12:00</td>\n",
       "      <td>F</td>\n",
       "      <td>WHITE</td>\n",
       "      <td>AMBULANCE</td>\n",
       "      <td>ADMITTED</td>\n",
       "      <td>0 days 09:01:00</td>\n",
       "      <td>0</td>\n",
       "      <td>9.0</td>\n",
       "      <td>18</td>\n",
       "      <td>9</td>\n",
       "      <td>2149-08-01</td>\n",
       "      <td>1</td>\n",
       "      <td>6-12</td>\n",
       "    </tr>\n",
       "    <tr>\n",
       "      <th>447709</th>\n",
       "      <td>19999828</td>\n",
       "      <td>29734428.0</td>\n",
       "      <td>30712109</td>\n",
       "      <td>2147-07-17 17:18:00</td>\n",
       "      <td>2147-07-18 17:34:00</td>\n",
       "      <td>F</td>\n",
       "      <td>WHITE</td>\n",
       "      <td>WALK IN</td>\n",
       "      <td>ADMITTED</td>\n",
       "      <td>1 days 00:16:00</td>\n",
       "      <td>1</td>\n",
       "      <td>24.3</td>\n",
       "      <td>17</td>\n",
       "      <td>17</td>\n",
       "      <td>2147-07-17</td>\n",
       "      <td>17</td>\n",
       "      <td>24+</td>\n",
       "    </tr>\n",
       "    <tr>\n",
       "      <th>447711</th>\n",
       "      <td>19999987</td>\n",
       "      <td>23865745.0</td>\n",
       "      <td>34731548</td>\n",
       "      <td>2145-02-11 19:28:00</td>\n",
       "      <td>2145-02-11 22:59:00</td>\n",
       "      <td>F</td>\n",
       "      <td>UNKNOWN</td>\n",
       "      <td>AMBULANCE</td>\n",
       "      <td>ADMITTED</td>\n",
       "      <td>0 days 03:31:00</td>\n",
       "      <td>0</td>\n",
       "      <td>3.5</td>\n",
       "      <td>22</td>\n",
       "      <td>19</td>\n",
       "      <td>2145-02-11</td>\n",
       "      <td>11</td>\n",
       "      <td>0-6</td>\n",
       "    </tr>\n",
       "  </tbody>\n",
       "</table>\n",
       "<p>173739 rows × 17 columns</p>\n",
       "</div>"
      ],
      "text/plain": [
       "        subject_id     hadm_id   stay_id              intime  \\\n",
       "0         10000032  22595853.0  33258284 2180-06-05 19:17:00   \n",
       "1         10000032  22841357.0  38112554 2180-06-26 15:54:00   \n",
       "2         10000032  25742920.0  35968195 2180-05-08 20:58:00   \n",
       "4         10000032  29079034.0  39399961 2180-07-23 05:54:00   \n",
       "5         10000084  23052089.0  35203156 2160-11-20 20:36:00   \n",
       "...            ...         ...       ...                 ...   \n",
       "447706    19999784  25715748.0  34149746 2119-11-08 09:15:00   \n",
       "447707    19999784  26194817.0  35692999 2119-06-18 14:21:00   \n",
       "447708    19999828  25744818.0  32917002 2149-08-01 09:11:00   \n",
       "447709    19999828  29734428.0  30712109 2147-07-17 17:18:00   \n",
       "447711    19999987  23865745.0  34731548 2145-02-11 19:28:00   \n",
       "\n",
       "                   outtime gender                    race arrival_transport  \\\n",
       "0      2180-06-05 23:30:00      F                   WHITE         AMBULANCE   \n",
       "1      2180-06-26 21:31:00      F                   WHITE         AMBULANCE   \n",
       "2      2180-06-08 01:44:00      F                   WHITE         AMBULANCE   \n",
       "4      2180-07-23 14:00:00      F                   WHITE         AMBULANCE   \n",
       "5      2160-11-21 03:20:00      M                   WHITE           WALK IN   \n",
       "...                    ...    ...                     ...               ...   \n",
       "447706 2119-11-08 13:40:00      M  BLACK/AFRICAN AMERICAN           WALK IN   \n",
       "447707 2119-06-18 21:09:00      M  BLACK/AFRICAN AMERICAN           WALK IN   \n",
       "447708 2149-08-01 18:12:00      F                   WHITE         AMBULANCE   \n",
       "447709 2147-07-18 17:34:00      F                   WHITE           WALK IN   \n",
       "447711 2145-02-11 22:59:00      F                 UNKNOWN         AMBULANCE   \n",
       "\n",
       "       disposition         difftime  nights  hours  discharge_hour  \\\n",
       "0         ADMITTED  0 days 04:13:00       0    4.2              23   \n",
       "1         ADMITTED  0 days 05:37:00       0    5.6              21   \n",
       "2         ADMITTED 30 days 04:46:00      30  724.8               1   \n",
       "4         ADMITTED  0 days 08:06:00       0    8.1              14   \n",
       "5         ADMITTED  0 days 06:44:00       0    6.7               3   \n",
       "...            ...              ...     ...    ...             ...   \n",
       "447706    ADMITTED  0 days 04:25:00       0    4.4              13   \n",
       "447707    ADMITTED  0 days 06:48:00       0    6.8              21   \n",
       "447708    ADMITTED  0 days 09:01:00       0    9.0              18   \n",
       "447709    ADMITTED  1 days 00:16:00       1   24.3              17   \n",
       "447711    ADMITTED  0 days 03:31:00       0    3.5              22   \n",
       "\n",
       "        admission_hour admission_date  admission_day  stay  \n",
       "0                   19     2180-06-05              5  0-6   \n",
       "1                   15     2180-06-26             26  0-6   \n",
       "2                   20     2180-05-08              8   24+  \n",
       "4                    5     2180-07-23             23  6-12  \n",
       "5                   20     2160-11-20             20  6-12  \n",
       "...                ...            ...            ...   ...  \n",
       "447706               9     2119-11-08              8  0-6   \n",
       "447707              14     2119-06-18             18  6-12  \n",
       "447708               9     2149-08-01              1  6-12  \n",
       "447709              17     2147-07-17             17   24+  \n",
       "447711              19     2145-02-11             11  0-6   \n",
       "\n",
       "[173739 rows x 17 columns]"
      ]
     },
     "execution_count": 90,
     "metadata": {},
     "output_type": "execute_result"
    }
   ],
   "source": [
    "res"
   ]
  },
  {
   "cell_type": "code",
   "execution_count": 91,
   "id": "d9c1fafe",
   "metadata": {},
   "outputs": [
    {
     "data": {
      "text/plain": [
       "Index(['subject_id', 'hadm_id', 'stay_id', 'intime', 'outtime', 'gender',\n",
       "       'race', 'arrival_transport', 'disposition', 'difftime', 'nights',\n",
       "       'hours', 'discharge_hour', 'admission_hour', 'admission_date',\n",
       "       'admission_day', 'stay'],\n",
       "      dtype='object')"
      ]
     },
     "execution_count": 91,
     "metadata": {},
     "output_type": "execute_result"
    }
   ],
   "source": [
    "res.columns"
   ]
  },
  {
   "cell_type": "code",
   "execution_count": 92,
   "id": "80745f7b-8917-490a-b949-66b50e0130ec",
   "metadata": {},
   "outputs": [
    {
     "data": {
      "text/plain": [
       "ADMITTED    166303\n",
       "TRANSFER      7436\n",
       "Name: disposition, dtype: int64"
      ]
     },
     "execution_count": 92,
     "metadata": {},
     "output_type": "execute_result"
    }
   ],
   "source": [
    "res['disposition'].value_counts()"
   ]
  },
  {
   "cell_type": "code",
   "execution_count": 93,
   "id": "b84bf2c1",
   "metadata": {},
   "outputs": [
    {
     "data": {
      "text/html": [
       "<div>\n",
       "<style scoped>\n",
       "    .dataframe tbody tr th:only-of-type {\n",
       "        vertical-align: middle;\n",
       "    }\n",
       "\n",
       "    .dataframe tbody tr th {\n",
       "        vertical-align: top;\n",
       "    }\n",
       "\n",
       "    .dataframe thead th {\n",
       "        text-align: right;\n",
       "    }\n",
       "</style>\n",
       "<table border=\"1\" class=\"dataframe\">\n",
       "  <thead>\n",
       "    <tr style=\"text-align: right;\">\n",
       "      <th></th>\n",
       "      <th>subject_id</th>\n",
       "      <th>stay_id</th>\n",
       "      <th>gender</th>\n",
       "      <th>race</th>\n",
       "      <th>arrival_transport</th>\n",
       "      <th>disposition</th>\n",
       "      <th>stay</th>\n",
       "    </tr>\n",
       "  </thead>\n",
       "  <tbody>\n",
       "    <tr>\n",
       "      <th>0</th>\n",
       "      <td>10000032</td>\n",
       "      <td>33258284</td>\n",
       "      <td>F</td>\n",
       "      <td>WHITE</td>\n",
       "      <td>AMBULANCE</td>\n",
       "      <td>ADMITTED</td>\n",
       "      <td>0-6</td>\n",
       "    </tr>\n",
       "    <tr>\n",
       "      <th>1</th>\n",
       "      <td>10000032</td>\n",
       "      <td>38112554</td>\n",
       "      <td>F</td>\n",
       "      <td>WHITE</td>\n",
       "      <td>AMBULANCE</td>\n",
       "      <td>ADMITTED</td>\n",
       "      <td>0-6</td>\n",
       "    </tr>\n",
       "    <tr>\n",
       "      <th>2</th>\n",
       "      <td>10000032</td>\n",
       "      <td>35968195</td>\n",
       "      <td>F</td>\n",
       "      <td>WHITE</td>\n",
       "      <td>AMBULANCE</td>\n",
       "      <td>ADMITTED</td>\n",
       "      <td>24+</td>\n",
       "    </tr>\n",
       "    <tr>\n",
       "      <th>4</th>\n",
       "      <td>10000032</td>\n",
       "      <td>39399961</td>\n",
       "      <td>F</td>\n",
       "      <td>WHITE</td>\n",
       "      <td>AMBULANCE</td>\n",
       "      <td>ADMITTED</td>\n",
       "      <td>6-12</td>\n",
       "    </tr>\n",
       "    <tr>\n",
       "      <th>5</th>\n",
       "      <td>10000084</td>\n",
       "      <td>35203156</td>\n",
       "      <td>M</td>\n",
       "      <td>WHITE</td>\n",
       "      <td>WALK IN</td>\n",
       "      <td>ADMITTED</td>\n",
       "      <td>6-12</td>\n",
       "    </tr>\n",
       "  </tbody>\n",
       "</table>\n",
       "</div>"
      ],
      "text/plain": [
       "   subject_id   stay_id gender   race arrival_transport disposition  stay\n",
       "0    10000032  33258284      F  WHITE         AMBULANCE    ADMITTED  0-6 \n",
       "1    10000032  38112554      F  WHITE         AMBULANCE    ADMITTED  0-6 \n",
       "2    10000032  35968195      F  WHITE         AMBULANCE    ADMITTED   24+\n",
       "4    10000032  39399961      F  WHITE         AMBULANCE    ADMITTED  6-12\n",
       "5    10000084  35203156      M  WHITE           WALK IN    ADMITTED  6-12"
      ]
     },
     "execution_count": 93,
     "metadata": {},
     "output_type": "execute_result"
    }
   ],
   "source": [
    "res = res[['subject_id', 'stay_id', 'gender', 'race', 'arrival_transport', 'disposition', 'stay']]\n",
    "res.head()"
   ]
  },
  {
   "cell_type": "code",
   "execution_count": 94,
   "id": "740e172c",
   "metadata": {},
   "outputs": [
    {
     "data": {
      "text/html": [
       "<div>\n",
       "<style scoped>\n",
       "    .dataframe tbody tr th:only-of-type {\n",
       "        vertical-align: middle;\n",
       "    }\n",
       "\n",
       "    .dataframe tbody tr th {\n",
       "        vertical-align: top;\n",
       "    }\n",
       "\n",
       "    .dataframe thead th {\n",
       "        text-align: right;\n",
       "    }\n",
       "</style>\n",
       "<table border=\"1\" class=\"dataframe\">\n",
       "  <thead>\n",
       "    <tr style=\"text-align: right;\">\n",
       "      <th></th>\n",
       "      <th>subject_id</th>\n",
       "      <th>stay_id</th>\n",
       "      <th>temperature</th>\n",
       "      <th>heartrate</th>\n",
       "      <th>resprate</th>\n",
       "      <th>o2sat</th>\n",
       "      <th>sbp</th>\n",
       "      <th>dbp</th>\n",
       "      <th>pain</th>\n",
       "      <th>acuity</th>\n",
       "      <th>chiefcomplaint</th>\n",
       "    </tr>\n",
       "  </thead>\n",
       "  <tbody>\n",
       "    <tr>\n",
       "      <th>0</th>\n",
       "      <td>10000032</td>\n",
       "      <td>32952584</td>\n",
       "      <td>97.8</td>\n",
       "      <td>87.0</td>\n",
       "      <td>14.0</td>\n",
       "      <td>97.0</td>\n",
       "      <td>71.0</td>\n",
       "      <td>43.0</td>\n",
       "      <td>7</td>\n",
       "      <td>2.0</td>\n",
       "      <td>Hypotension</td>\n",
       "    </tr>\n",
       "    <tr>\n",
       "      <th>1</th>\n",
       "      <td>10000032</td>\n",
       "      <td>33258284</td>\n",
       "      <td>98.4</td>\n",
       "      <td>70.0</td>\n",
       "      <td>16.0</td>\n",
       "      <td>97.0</td>\n",
       "      <td>106.0</td>\n",
       "      <td>63.0</td>\n",
       "      <td>0</td>\n",
       "      <td>3.0</td>\n",
       "      <td>Abd pain, Abdominal distention</td>\n",
       "    </tr>\n",
       "    <tr>\n",
       "      <th>2</th>\n",
       "      <td>10000032</td>\n",
       "      <td>35968195</td>\n",
       "      <td>99.4</td>\n",
       "      <td>105.0</td>\n",
       "      <td>18.0</td>\n",
       "      <td>96.0</td>\n",
       "      <td>106.0</td>\n",
       "      <td>57.0</td>\n",
       "      <td>10</td>\n",
       "      <td>3.0</td>\n",
       "      <td>n/v/d, Abd pain</td>\n",
       "    </tr>\n",
       "    <tr>\n",
       "      <th>3</th>\n",
       "      <td>10000032</td>\n",
       "      <td>38112554</td>\n",
       "      <td>98.9</td>\n",
       "      <td>88.0</td>\n",
       "      <td>18.0</td>\n",
       "      <td>97.0</td>\n",
       "      <td>116.0</td>\n",
       "      <td>88.0</td>\n",
       "      <td>10</td>\n",
       "      <td>3.0</td>\n",
       "      <td>Abdominal distention</td>\n",
       "    </tr>\n",
       "    <tr>\n",
       "      <th>4</th>\n",
       "      <td>10000032</td>\n",
       "      <td>39399961</td>\n",
       "      <td>98.7</td>\n",
       "      <td>77.0</td>\n",
       "      <td>16.0</td>\n",
       "      <td>98.0</td>\n",
       "      <td>96.0</td>\n",
       "      <td>50.0</td>\n",
       "      <td>13</td>\n",
       "      <td>2.0</td>\n",
       "      <td>Abdominal distention, Abd pain, LETHAGIC</td>\n",
       "    </tr>\n",
       "  </tbody>\n",
       "</table>\n",
       "</div>"
      ],
      "text/plain": [
       "   subject_id   stay_id  temperature  heartrate  resprate  o2sat    sbp   dbp  \\\n",
       "0    10000032  32952584         97.8       87.0      14.0   97.0   71.0  43.0   \n",
       "1    10000032  33258284         98.4       70.0      16.0   97.0  106.0  63.0   \n",
       "2    10000032  35968195         99.4      105.0      18.0   96.0  106.0  57.0   \n",
       "3    10000032  38112554         98.9       88.0      18.0   97.0  116.0  88.0   \n",
       "4    10000032  39399961         98.7       77.0      16.0   98.0   96.0  50.0   \n",
       "\n",
       "  pain  acuity                            chiefcomplaint  \n",
       "0    7     2.0                               Hypotension  \n",
       "1    0     3.0            Abd pain, Abdominal distention  \n",
       "2   10     3.0                           n/v/d, Abd pain  \n",
       "3   10     3.0                      Abdominal distention  \n",
       "4   13     2.0  Abdominal distention, Abd pain, LETHAGIC  "
      ]
     },
     "execution_count": 94,
     "metadata": {},
     "output_type": "execute_result"
    }
   ],
   "source": [
    "triage.head()"
   ]
  },
  {
   "cell_type": "code",
   "execution_count": 95,
   "id": "acc61ca7",
   "metadata": {},
   "outputs": [
    {
     "data": {
      "text/html": [
       "<div>\n",
       "<style scoped>\n",
       "    .dataframe tbody tr th:only-of-type {\n",
       "        vertical-align: middle;\n",
       "    }\n",
       "\n",
       "    .dataframe tbody tr th {\n",
       "        vertical-align: top;\n",
       "    }\n",
       "\n",
       "    .dataframe thead th {\n",
       "        text-align: right;\n",
       "    }\n",
       "</style>\n",
       "<table border=\"1\" class=\"dataframe\">\n",
       "  <thead>\n",
       "    <tr style=\"text-align: right;\">\n",
       "      <th></th>\n",
       "      <th>subject_id</th>\n",
       "      <th>stay_id</th>\n",
       "      <th>temperature</th>\n",
       "      <th>heartrate</th>\n",
       "      <th>resprate</th>\n",
       "      <th>o2sat</th>\n",
       "      <th>sbp</th>\n",
       "      <th>dbp</th>\n",
       "      <th>pain</th>\n",
       "      <th>acuity</th>\n",
       "      <th>chiefcomplaint</th>\n",
       "    </tr>\n",
       "  </thead>\n",
       "  <tbody>\n",
       "    <tr>\n",
       "      <th>0</th>\n",
       "      <td>10000032</td>\n",
       "      <td>32952584</td>\n",
       "      <td>97.8</td>\n",
       "      <td>87.0</td>\n",
       "      <td>14.0</td>\n",
       "      <td>97.0</td>\n",
       "      <td>71.0</td>\n",
       "      <td>43.0</td>\n",
       "      <td>7</td>\n",
       "      <td>2.0</td>\n",
       "      <td>Hypotension</td>\n",
       "    </tr>\n",
       "    <tr>\n",
       "      <th>1</th>\n",
       "      <td>10000032</td>\n",
       "      <td>33258284</td>\n",
       "      <td>98.4</td>\n",
       "      <td>70.0</td>\n",
       "      <td>16.0</td>\n",
       "      <td>97.0</td>\n",
       "      <td>106.0</td>\n",
       "      <td>63.0</td>\n",
       "      <td>0</td>\n",
       "      <td>3.0</td>\n",
       "      <td>Abd pain, Abdominal distention</td>\n",
       "    </tr>\n",
       "    <tr>\n",
       "      <th>2</th>\n",
       "      <td>10000032</td>\n",
       "      <td>35968195</td>\n",
       "      <td>99.4</td>\n",
       "      <td>105.0</td>\n",
       "      <td>18.0</td>\n",
       "      <td>96.0</td>\n",
       "      <td>106.0</td>\n",
       "      <td>57.0</td>\n",
       "      <td>10</td>\n",
       "      <td>3.0</td>\n",
       "      <td>n/v/d, Abd pain</td>\n",
       "    </tr>\n",
       "    <tr>\n",
       "      <th>3</th>\n",
       "      <td>10000032</td>\n",
       "      <td>38112554</td>\n",
       "      <td>98.9</td>\n",
       "      <td>88.0</td>\n",
       "      <td>18.0</td>\n",
       "      <td>97.0</td>\n",
       "      <td>116.0</td>\n",
       "      <td>88.0</td>\n",
       "      <td>10</td>\n",
       "      <td>3.0</td>\n",
       "      <td>Abdominal distention</td>\n",
       "    </tr>\n",
       "    <tr>\n",
       "      <th>4</th>\n",
       "      <td>10000032</td>\n",
       "      <td>39399961</td>\n",
       "      <td>98.7</td>\n",
       "      <td>77.0</td>\n",
       "      <td>16.0</td>\n",
       "      <td>98.0</td>\n",
       "      <td>96.0</td>\n",
       "      <td>50.0</td>\n",
       "      <td>13</td>\n",
       "      <td>2.0</td>\n",
       "      <td>Abdominal distention, Abd pain, LETHAGIC</td>\n",
       "    </tr>\n",
       "  </tbody>\n",
       "</table>\n",
       "</div>"
      ],
      "text/plain": [
       "   subject_id   stay_id  temperature  heartrate  resprate  o2sat    sbp   dbp  \\\n",
       "0    10000032  32952584         97.8       87.0      14.0   97.0   71.0  43.0   \n",
       "1    10000032  33258284         98.4       70.0      16.0   97.0  106.0  63.0   \n",
       "2    10000032  35968195         99.4      105.0      18.0   96.0  106.0  57.0   \n",
       "3    10000032  38112554         98.9       88.0      18.0   97.0  116.0  88.0   \n",
       "4    10000032  39399961         98.7       77.0      16.0   98.0   96.0  50.0   \n",
       "\n",
       "  pain  acuity                            chiefcomplaint  \n",
       "0    7     2.0                               Hypotension  \n",
       "1    0     3.0            Abd pain, Abdominal distention  \n",
       "2   10     3.0                           n/v/d, Abd pain  \n",
       "3   10     3.0                      Abdominal distention  \n",
       "4   13     2.0  Abdominal distention, Abd pain, LETHAGIC  "
      ]
     },
     "execution_count": 95,
     "metadata": {},
     "output_type": "execute_result"
    }
   ],
   "source": [
    "triage = triage[['subject_id', 'stay_id', 'temperature', 'heartrate', 'resprate', 'o2sat', 'sbp', 'dbp', 'pain', 'acuity',\n",
    "                'chiefcomplaint']]\n",
    "triage.head()"
   ]
  },
  {
   "cell_type": "code",
   "execution_count": 96,
   "id": "ed061bde",
   "metadata": {},
   "outputs": [
    {
     "data": {
      "text/html": [
       "<div>\n",
       "<style scoped>\n",
       "    .dataframe tbody tr th:only-of-type {\n",
       "        vertical-align: middle;\n",
       "    }\n",
       "\n",
       "    .dataframe tbody tr th {\n",
       "        vertical-align: top;\n",
       "    }\n",
       "\n",
       "    .dataframe thead th {\n",
       "        text-align: right;\n",
       "    }\n",
       "</style>\n",
       "<table border=\"1\" class=\"dataframe\">\n",
       "  <thead>\n",
       "    <tr style=\"text-align: right;\">\n",
       "      <th></th>\n",
       "      <th>subject_id</th>\n",
       "      <th>stay_id</th>\n",
       "      <th>gender</th>\n",
       "      <th>race</th>\n",
       "      <th>arrival_transport</th>\n",
       "      <th>disposition</th>\n",
       "      <th>stay</th>\n",
       "      <th>temperature</th>\n",
       "      <th>heartrate</th>\n",
       "      <th>resprate</th>\n",
       "      <th>o2sat</th>\n",
       "      <th>sbp</th>\n",
       "      <th>dbp</th>\n",
       "      <th>pain</th>\n",
       "      <th>acuity</th>\n",
       "      <th>chiefcomplaint</th>\n",
       "    </tr>\n",
       "  </thead>\n",
       "  <tbody>\n",
       "    <tr>\n",
       "      <th>0</th>\n",
       "      <td>10000032</td>\n",
       "      <td>33258284</td>\n",
       "      <td>F</td>\n",
       "      <td>WHITE</td>\n",
       "      <td>AMBULANCE</td>\n",
       "      <td>ADMITTED</td>\n",
       "      <td>0-6</td>\n",
       "      <td>98.4</td>\n",
       "      <td>70.0</td>\n",
       "      <td>16.0</td>\n",
       "      <td>97.0</td>\n",
       "      <td>106.0</td>\n",
       "      <td>63.0</td>\n",
       "      <td>0</td>\n",
       "      <td>3.0</td>\n",
       "      <td>Abd pain, Abdominal distention</td>\n",
       "    </tr>\n",
       "    <tr>\n",
       "      <th>1</th>\n",
       "      <td>10000032</td>\n",
       "      <td>38112554</td>\n",
       "      <td>F</td>\n",
       "      <td>WHITE</td>\n",
       "      <td>AMBULANCE</td>\n",
       "      <td>ADMITTED</td>\n",
       "      <td>0-6</td>\n",
       "      <td>98.9</td>\n",
       "      <td>88.0</td>\n",
       "      <td>18.0</td>\n",
       "      <td>97.0</td>\n",
       "      <td>116.0</td>\n",
       "      <td>88.0</td>\n",
       "      <td>10</td>\n",
       "      <td>3.0</td>\n",
       "      <td>Abdominal distention</td>\n",
       "    </tr>\n",
       "    <tr>\n",
       "      <th>2</th>\n",
       "      <td>10000032</td>\n",
       "      <td>35968195</td>\n",
       "      <td>F</td>\n",
       "      <td>WHITE</td>\n",
       "      <td>AMBULANCE</td>\n",
       "      <td>ADMITTED</td>\n",
       "      <td>24+</td>\n",
       "      <td>99.4</td>\n",
       "      <td>105.0</td>\n",
       "      <td>18.0</td>\n",
       "      <td>96.0</td>\n",
       "      <td>106.0</td>\n",
       "      <td>57.0</td>\n",
       "      <td>10</td>\n",
       "      <td>3.0</td>\n",
       "      <td>n/v/d, Abd pain</td>\n",
       "    </tr>\n",
       "    <tr>\n",
       "      <th>3</th>\n",
       "      <td>10000032</td>\n",
       "      <td>39399961</td>\n",
       "      <td>F</td>\n",
       "      <td>WHITE</td>\n",
       "      <td>AMBULANCE</td>\n",
       "      <td>ADMITTED</td>\n",
       "      <td>6-12</td>\n",
       "      <td>98.7</td>\n",
       "      <td>77.0</td>\n",
       "      <td>16.0</td>\n",
       "      <td>98.0</td>\n",
       "      <td>96.0</td>\n",
       "      <td>50.0</td>\n",
       "      <td>13</td>\n",
       "      <td>2.0</td>\n",
       "      <td>Abdominal distention, Abd pain, LETHAGIC</td>\n",
       "    </tr>\n",
       "    <tr>\n",
       "      <th>4</th>\n",
       "      <td>10000084</td>\n",
       "      <td>35203156</td>\n",
       "      <td>M</td>\n",
       "      <td>WHITE</td>\n",
       "      <td>WALK IN</td>\n",
       "      <td>ADMITTED</td>\n",
       "      <td>6-12</td>\n",
       "      <td>97.5</td>\n",
       "      <td>78.0</td>\n",
       "      <td>16.0</td>\n",
       "      <td>100.0</td>\n",
       "      <td>114.0</td>\n",
       "      <td>71.0</td>\n",
       "      <td>0</td>\n",
       "      <td>2.0</td>\n",
       "      <td>Confusion, Hallucinations</td>\n",
       "    </tr>\n",
       "  </tbody>\n",
       "</table>\n",
       "</div>"
      ],
      "text/plain": [
       "   subject_id   stay_id gender   race arrival_transport disposition  stay  \\\n",
       "0    10000032  33258284      F  WHITE         AMBULANCE    ADMITTED  0-6    \n",
       "1    10000032  38112554      F  WHITE         AMBULANCE    ADMITTED  0-6    \n",
       "2    10000032  35968195      F  WHITE         AMBULANCE    ADMITTED   24+   \n",
       "3    10000032  39399961      F  WHITE         AMBULANCE    ADMITTED  6-12   \n",
       "4    10000084  35203156      M  WHITE           WALK IN    ADMITTED  6-12   \n",
       "\n",
       "   temperature  heartrate  resprate  o2sat    sbp   dbp pain  acuity  \\\n",
       "0         98.4       70.0      16.0   97.0  106.0  63.0    0     3.0   \n",
       "1         98.9       88.0      18.0   97.0  116.0  88.0   10     3.0   \n",
       "2         99.4      105.0      18.0   96.0  106.0  57.0   10     3.0   \n",
       "3         98.7       77.0      16.0   98.0   96.0  50.0   13     2.0   \n",
       "4         97.5       78.0      16.0  100.0  114.0  71.0    0     2.0   \n",
       "\n",
       "                             chiefcomplaint  \n",
       "0            Abd pain, Abdominal distention  \n",
       "1                      Abdominal distention  \n",
       "2                           n/v/d, Abd pain  \n",
       "3  Abdominal distention, Abd pain, LETHAGIC  \n",
       "4                 Confusion, Hallucinations  "
      ]
     },
     "execution_count": 96,
     "metadata": {},
     "output_type": "execute_result"
    }
   ],
   "source": [
    "df = res.merge(triage, how='inner', on=['subject_id', 'stay_id'])\n",
    "df.head()"
   ]
  },
  {
   "cell_type": "code",
   "execution_count": 97,
   "id": "63241131",
   "metadata": {},
   "outputs": [
    {
     "name": "stdout",
     "output_type": "stream",
     "text": [
      "<class 'pandas.core.frame.DataFrame'>\n",
      "Int64Index: 173739 entries, 0 to 173738\n",
      "Data columns (total 16 columns):\n",
      " #   Column             Non-Null Count   Dtype  \n",
      "---  ------             --------------   -----  \n",
      " 0   subject_id         173739 non-null  int64  \n",
      " 1   stay_id            173739 non-null  int64  \n",
      " 2   gender             173739 non-null  object \n",
      " 3   race               173739 non-null  object \n",
      " 4   arrival_transport  173739 non-null  object \n",
      " 5   disposition        173739 non-null  object \n",
      " 6   stay               170162 non-null  object \n",
      " 7   temperature        157889 non-null  float64\n",
      " 8   heartrate          161315 non-null  float64\n",
      " 9   resprate           159569 non-null  float64\n",
      " 10  o2sat              159549 non-null  float64\n",
      " 11  sbp                160954 non-null  float64\n",
      " 12  dbp                160569 non-null  float64\n",
      " 13  pain               165279 non-null  object \n",
      " 14  acuity             169039 non-null  float64\n",
      " 15  chiefcomplaint     173733 non-null  object \n",
      "dtypes: float64(7), int64(2), object(7)\n",
      "memory usage: 22.5+ MB\n"
     ]
    }
   ],
   "source": [
    "df.info()"
   ]
  },
  {
   "cell_type": "code",
   "execution_count": 98,
   "id": "462fa12f",
   "metadata": {},
   "outputs": [
    {
     "data": {
      "text/plain": [
       "subject_id               0\n",
       "stay_id                  0\n",
       "gender                   0\n",
       "race                     0\n",
       "arrival_transport        0\n",
       "disposition              0\n",
       "stay                  3577\n",
       "temperature          15850\n",
       "heartrate            12424\n",
       "resprate             14170\n",
       "o2sat                14190\n",
       "sbp                  12785\n",
       "dbp                  13170\n",
       "pain                  8460\n",
       "acuity                4700\n",
       "chiefcomplaint           6\n",
       "dtype: int64"
      ]
     },
     "execution_count": 98,
     "metadata": {},
     "output_type": "execute_result"
    }
   ],
   "source": [
    "df.isna().sum()"
   ]
  },
  {
   "cell_type": "code",
   "execution_count": 99,
   "id": "05f31978",
   "metadata": {},
   "outputs": [
    {
     "data": {
      "text/plain": [
       "173739"
      ]
     },
     "execution_count": 99,
     "metadata": {},
     "output_type": "execute_result"
    }
   ],
   "source": [
    "len(df)"
   ]
  },
  {
   "cell_type": "code",
   "execution_count": 100,
   "id": "857c0044",
   "metadata": {},
   "outputs": [
    {
     "data": {
      "text/plain": [
       "148835"
      ]
     },
     "execution_count": 100,
     "metadata": {},
     "output_type": "execute_result"
    }
   ],
   "source": [
    "df = df.dropna()\n",
    "len(df)"
   ]
  },
  {
   "cell_type": "code",
   "execution_count": 101,
   "id": "0fef7ea3",
   "metadata": {},
   "outputs": [],
   "source": [
    "df.drop(columns=['pain'], inplace=True)"
   ]
  },
  {
   "cell_type": "code",
   "execution_count": 102,
   "id": "a5a99fa0",
   "metadata": {},
   "outputs": [
    {
     "data": {
      "text/plain": [
       "Index(['subject_id', 'stay_id', 'gender', 'race', 'arrival_transport',\n",
       "       'disposition', 'stay', 'temperature', 'heartrate', 'resprate', 'o2sat',\n",
       "       'sbp', 'dbp', 'acuity', 'chiefcomplaint'],\n",
       "      dtype='object')"
      ]
     },
     "execution_count": 102,
     "metadata": {},
     "output_type": "execute_result"
    }
   ],
   "source": [
    "df.columns"
   ]
  },
  {
   "cell_type": "code",
   "execution_count": 103,
   "id": "4a919267",
   "metadata": {},
   "outputs": [],
   "source": [
    "df['Stay'] = df['stay']"
   ]
  },
  {
   "cell_type": "code",
   "execution_count": 104,
   "id": "1a2c903e",
   "metadata": {},
   "outputs": [],
   "source": [
    "df.drop(columns=['stay', 'chiefcomplaint', 'subject_id', 'stay_id'], inplace=True)"
   ]
  },
  {
   "cell_type": "code",
   "execution_count": 105,
   "id": "6f9a2ab7",
   "metadata": {},
   "outputs": [
    {
     "data": {
      "text/html": [
       "<div>\n",
       "<style scoped>\n",
       "    .dataframe tbody tr th:only-of-type {\n",
       "        vertical-align: middle;\n",
       "    }\n",
       "\n",
       "    .dataframe tbody tr th {\n",
       "        vertical-align: top;\n",
       "    }\n",
       "\n",
       "    .dataframe thead th {\n",
       "        text-align: right;\n",
       "    }\n",
       "</style>\n",
       "<table border=\"1\" class=\"dataframe\">\n",
       "  <thead>\n",
       "    <tr style=\"text-align: right;\">\n",
       "      <th></th>\n",
       "      <th>gender</th>\n",
       "      <th>race</th>\n",
       "      <th>arrival_transport</th>\n",
       "      <th>disposition</th>\n",
       "      <th>temperature</th>\n",
       "      <th>heartrate</th>\n",
       "      <th>resprate</th>\n",
       "      <th>o2sat</th>\n",
       "      <th>sbp</th>\n",
       "      <th>dbp</th>\n",
       "      <th>acuity</th>\n",
       "      <th>Stay</th>\n",
       "    </tr>\n",
       "  </thead>\n",
       "  <tbody>\n",
       "    <tr>\n",
       "      <th>0</th>\n",
       "      <td>F</td>\n",
       "      <td>WHITE</td>\n",
       "      <td>AMBULANCE</td>\n",
       "      <td>ADMITTED</td>\n",
       "      <td>98.4</td>\n",
       "      <td>70.0</td>\n",
       "      <td>16.0</td>\n",
       "      <td>97.0</td>\n",
       "      <td>106.0</td>\n",
       "      <td>63.0</td>\n",
       "      <td>3.0</td>\n",
       "      <td>0-6</td>\n",
       "    </tr>\n",
       "    <tr>\n",
       "      <th>1</th>\n",
       "      <td>F</td>\n",
       "      <td>WHITE</td>\n",
       "      <td>AMBULANCE</td>\n",
       "      <td>ADMITTED</td>\n",
       "      <td>98.9</td>\n",
       "      <td>88.0</td>\n",
       "      <td>18.0</td>\n",
       "      <td>97.0</td>\n",
       "      <td>116.0</td>\n",
       "      <td>88.0</td>\n",
       "      <td>3.0</td>\n",
       "      <td>0-6</td>\n",
       "    </tr>\n",
       "    <tr>\n",
       "      <th>2</th>\n",
       "      <td>F</td>\n",
       "      <td>WHITE</td>\n",
       "      <td>AMBULANCE</td>\n",
       "      <td>ADMITTED</td>\n",
       "      <td>99.4</td>\n",
       "      <td>105.0</td>\n",
       "      <td>18.0</td>\n",
       "      <td>96.0</td>\n",
       "      <td>106.0</td>\n",
       "      <td>57.0</td>\n",
       "      <td>3.0</td>\n",
       "      <td>24+</td>\n",
       "    </tr>\n",
       "    <tr>\n",
       "      <th>3</th>\n",
       "      <td>F</td>\n",
       "      <td>WHITE</td>\n",
       "      <td>AMBULANCE</td>\n",
       "      <td>ADMITTED</td>\n",
       "      <td>98.7</td>\n",
       "      <td>77.0</td>\n",
       "      <td>16.0</td>\n",
       "      <td>98.0</td>\n",
       "      <td>96.0</td>\n",
       "      <td>50.0</td>\n",
       "      <td>2.0</td>\n",
       "      <td>6-12</td>\n",
       "    </tr>\n",
       "    <tr>\n",
       "      <th>4</th>\n",
       "      <td>M</td>\n",
       "      <td>WHITE</td>\n",
       "      <td>WALK IN</td>\n",
       "      <td>ADMITTED</td>\n",
       "      <td>97.5</td>\n",
       "      <td>78.0</td>\n",
       "      <td>16.0</td>\n",
       "      <td>100.0</td>\n",
       "      <td>114.0</td>\n",
       "      <td>71.0</td>\n",
       "      <td>2.0</td>\n",
       "      <td>6-12</td>\n",
       "    </tr>\n",
       "  </tbody>\n",
       "</table>\n",
       "</div>"
      ],
      "text/plain": [
       "  gender   race arrival_transport disposition  temperature  heartrate  \\\n",
       "0      F  WHITE         AMBULANCE    ADMITTED         98.4       70.0   \n",
       "1      F  WHITE         AMBULANCE    ADMITTED         98.9       88.0   \n",
       "2      F  WHITE         AMBULANCE    ADMITTED         99.4      105.0   \n",
       "3      F  WHITE         AMBULANCE    ADMITTED         98.7       77.0   \n",
       "4      M  WHITE           WALK IN    ADMITTED         97.5       78.0   \n",
       "\n",
       "   resprate  o2sat    sbp   dbp  acuity  Stay  \n",
       "0      16.0   97.0  106.0  63.0     3.0  0-6   \n",
       "1      18.0   97.0  116.0  88.0     3.0  0-6   \n",
       "2      18.0   96.0  106.0  57.0     3.0   24+  \n",
       "3      16.0   98.0   96.0  50.0     2.0  6-12  \n",
       "4      16.0  100.0  114.0  71.0     2.0  6-12  "
      ]
     },
     "execution_count": 105,
     "metadata": {},
     "output_type": "execute_result"
    }
   ],
   "source": [
    "df.head()"
   ]
  },
  {
   "cell_type": "code",
   "execution_count": 106,
   "id": "29aee78d",
   "metadata": {},
   "outputs": [],
   "source": [
    "from sklearn.preprocessing import LabelEncoder"
   ]
  },
  {
   "cell_type": "code",
   "execution_count": 107,
   "id": "fcf3239a",
   "metadata": {},
   "outputs": [],
   "source": [
    "le = LabelEncoder()\n",
    "\n",
    "df['gender'] = le.fit_transform(df['gender'])\n",
    "df['race'] = le.fit_transform(df['race'])\n",
    "df['arrival_transport'] = le.fit_transform(df['arrival_transport'])\n",
    "df['disposition'] = le.fit_transform(df['disposition'])\n"
   ]
  },
  {
   "cell_type": "code",
   "execution_count": 108,
   "id": "5086bd2f",
   "metadata": {},
   "outputs": [
    {
     "data": {
      "text/html": [
       "<div>\n",
       "<style scoped>\n",
       "    .dataframe tbody tr th:only-of-type {\n",
       "        vertical-align: middle;\n",
       "    }\n",
       "\n",
       "    .dataframe tbody tr th {\n",
       "        vertical-align: top;\n",
       "    }\n",
       "\n",
       "    .dataframe thead th {\n",
       "        text-align: right;\n",
       "    }\n",
       "</style>\n",
       "<table border=\"1\" class=\"dataframe\">\n",
       "  <thead>\n",
       "    <tr style=\"text-align: right;\">\n",
       "      <th></th>\n",
       "      <th>gender</th>\n",
       "      <th>race</th>\n",
       "      <th>arrival_transport</th>\n",
       "      <th>disposition</th>\n",
       "      <th>temperature</th>\n",
       "      <th>heartrate</th>\n",
       "      <th>resprate</th>\n",
       "      <th>o2sat</th>\n",
       "      <th>sbp</th>\n",
       "      <th>dbp</th>\n",
       "      <th>acuity</th>\n",
       "      <th>Stay</th>\n",
       "    </tr>\n",
       "  </thead>\n",
       "  <tbody>\n",
       "    <tr>\n",
       "      <th>0</th>\n",
       "      <td>0</td>\n",
       "      <td>28</td>\n",
       "      <td>0</td>\n",
       "      <td>0</td>\n",
       "      <td>98.4</td>\n",
       "      <td>70.0</td>\n",
       "      <td>16.0</td>\n",
       "      <td>97.0</td>\n",
       "      <td>106.0</td>\n",
       "      <td>63.0</td>\n",
       "      <td>3.0</td>\n",
       "      <td>0-6</td>\n",
       "    </tr>\n",
       "    <tr>\n",
       "      <th>1</th>\n",
       "      <td>0</td>\n",
       "      <td>28</td>\n",
       "      <td>0</td>\n",
       "      <td>0</td>\n",
       "      <td>98.9</td>\n",
       "      <td>88.0</td>\n",
       "      <td>18.0</td>\n",
       "      <td>97.0</td>\n",
       "      <td>116.0</td>\n",
       "      <td>88.0</td>\n",
       "      <td>3.0</td>\n",
       "      <td>0-6</td>\n",
       "    </tr>\n",
       "    <tr>\n",
       "      <th>2</th>\n",
       "      <td>0</td>\n",
       "      <td>28</td>\n",
       "      <td>0</td>\n",
       "      <td>0</td>\n",
       "      <td>99.4</td>\n",
       "      <td>105.0</td>\n",
       "      <td>18.0</td>\n",
       "      <td>96.0</td>\n",
       "      <td>106.0</td>\n",
       "      <td>57.0</td>\n",
       "      <td>3.0</td>\n",
       "      <td>24+</td>\n",
       "    </tr>\n",
       "    <tr>\n",
       "      <th>3</th>\n",
       "      <td>0</td>\n",
       "      <td>28</td>\n",
       "      <td>0</td>\n",
       "      <td>0</td>\n",
       "      <td>98.7</td>\n",
       "      <td>77.0</td>\n",
       "      <td>16.0</td>\n",
       "      <td>98.0</td>\n",
       "      <td>96.0</td>\n",
       "      <td>50.0</td>\n",
       "      <td>2.0</td>\n",
       "      <td>6-12</td>\n",
       "    </tr>\n",
       "    <tr>\n",
       "      <th>4</th>\n",
       "      <td>1</td>\n",
       "      <td>28</td>\n",
       "      <td>4</td>\n",
       "      <td>0</td>\n",
       "      <td>97.5</td>\n",
       "      <td>78.0</td>\n",
       "      <td>16.0</td>\n",
       "      <td>100.0</td>\n",
       "      <td>114.0</td>\n",
       "      <td>71.0</td>\n",
       "      <td>2.0</td>\n",
       "      <td>6-12</td>\n",
       "    </tr>\n",
       "  </tbody>\n",
       "</table>\n",
       "</div>"
      ],
      "text/plain": [
       "   gender  race  arrival_transport  disposition  temperature  heartrate  \\\n",
       "0       0    28                  0            0         98.4       70.0   \n",
       "1       0    28                  0            0         98.9       88.0   \n",
       "2       0    28                  0            0         99.4      105.0   \n",
       "3       0    28                  0            0         98.7       77.0   \n",
       "4       1    28                  4            0         97.5       78.0   \n",
       "\n",
       "   resprate  o2sat    sbp   dbp  acuity  Stay  \n",
       "0      16.0   97.0  106.0  63.0     3.0  0-6   \n",
       "1      18.0   97.0  116.0  88.0     3.0  0-6   \n",
       "2      18.0   96.0  106.0  57.0     3.0   24+  \n",
       "3      16.0   98.0   96.0  50.0     2.0  6-12  \n",
       "4      16.0  100.0  114.0  71.0     2.0  6-12  "
      ]
     },
     "execution_count": 108,
     "metadata": {},
     "output_type": "execute_result"
    }
   ],
   "source": [
    "df.head()"
   ]
  },
  {
   "cell_type": "code",
   "execution_count": 109,
   "id": "7796323c",
   "metadata": {},
   "outputs": [],
   "source": [
    "X = df.iloc[:, :-1].values"
   ]
  },
  {
   "cell_type": "code",
   "execution_count": 110,
   "id": "3aa4b5d8",
   "metadata": {},
   "outputs": [],
   "source": [
    "y = df.iloc[:, -1].values"
   ]
  },
  {
   "cell_type": "code",
   "execution_count": 111,
   "id": "f60c057b",
   "metadata": {},
   "outputs": [],
   "source": [
    "from sklearn.model_selection import train_test_split"
   ]
  },
  {
   "cell_type": "code",
   "execution_count": 112,
   "id": "53d8a2c2",
   "metadata": {},
   "outputs": [],
   "source": [
    "X_train, X_test, y_train, y_test = train_test_split(X, y, test_size=0.33, random_state=42)"
   ]
  },
  {
   "cell_type": "markdown",
   "id": "f456c024",
   "metadata": {},
   "source": [
    "## Baseline Model - Dummy Classifier"
   ]
  },
  {
   "cell_type": "code",
   "execution_count": 113,
   "id": "40a8047a",
   "metadata": {},
   "outputs": [
    {
     "name": "stdout",
     "output_type": "stream",
     "text": [
      "              precision    recall  f1-score   support\n",
      "\n",
      "        0-6      0.4086    1.0000    0.5802     20069\n",
      "      12-24      0.0000    0.0000    0.0000      3798\n",
      "         24+     0.0000    0.0000    0.0000      7049\n",
      "        6-12     0.0000    0.0000    0.0000     18200\n",
      "\n",
      "    accuracy                         0.4086     49116\n",
      "   macro avg     0.1022    0.2500    0.1450     49116\n",
      "weighted avg     0.1670    0.4086    0.2371     49116\n",
      "\n"
     ]
    }
   ],
   "source": [
    "# Build a null model to compare with the model performance\n",
    "from sklearn.dummy import DummyClassifier\n",
    "from sklearn.metrics import accuracy_score, precision_score, recall_score, f1_score, roc_auc_score, confusion_matrix\n",
    "from sklearn.metrics import classification_report\n",
    "\n",
    "# create a dummy classifier\n",
    "dummy_clf = DummyClassifier(strategy=\"most_frequent\")\n",
    "# fit the dummy classifier\n",
    "dummy_clf.fit(X_train, y_train)\n",
    "\n",
    "# predict the test set\n",
    "y_pred = dummy_clf.predict(X_test)\n",
    "# print the classification_report\n",
    "print(classification_report(y_test, y_pred, digits=4))"
   ]
  },
  {
   "cell_type": "code",
   "execution_count": 114,
   "id": "99513314",
   "metadata": {},
   "outputs": [
    {
     "name": "stdout",
     "output_type": "stream",
     "text": [
      "0.4086041208567473\n"
     ]
    }
   ],
   "source": [
    "print(accuracy_score(y_test, y_pred))"
   ]
  },
  {
   "cell_type": "code",
   "execution_count": 115,
   "id": "4827cc89",
   "metadata": {},
   "outputs": [
    {
     "data": {
      "text/plain": [
       "<sklearn.metrics._plot.confusion_matrix.ConfusionMatrixDisplay at 0x7fad3f2abdf0>"
      ]
     },
     "execution_count": 115,
     "metadata": {},
     "output_type": "execute_result"
    },
    {
     "data": {
      "image/png": "[encoded data removed]",
      "text/plain": [
       "<Figure size 1080x576 with 2 Axes>"
      ]
     },
     "metadata": {
      "needs_background": "light"
     },
     "output_type": "display_data"
    }
   ],
   "source": [
    "plot_confusion_matrix(dummy_clf, X_test, y_test)"
   ]
  },
  {
   "cell_type": "markdown",
   "id": "06c48dcf",
   "metadata": {},
   "source": [
    "## Random Forest Model¶"
   ]
  },
  {
   "cell_type": "code",
   "execution_count": 116,
   "id": "d85252cb",
   "metadata": {},
   "outputs": [],
   "source": [
    "from sklearn.ensemble import RandomForestClassifier"
   ]
  },
  {
   "cell_type": "code",
   "execution_count": 117,
   "id": "0b9396fb",
   "metadata": {},
   "outputs": [],
   "source": [
    "rfc = RandomForestClassifier(n_estimators=150, max_features='auto', random_state=101)"
   ]
  },
  {
   "cell_type": "code",
   "execution_count": 118,
   "id": "de889cfe",
   "metadata": {},
   "outputs": [
    {
     "data": {
      "text/plain": [
       "RandomForestClassifier(n_estimators=150, random_state=101)"
      ]
     },
     "execution_count": 118,
     "metadata": {},
     "output_type": "execute_result"
    }
   ],
   "source": [
    "rfc.fit(X_train, y_train)"
   ]
  },
  {
   "cell_type": "code",
   "execution_count": 119,
   "id": "4554798f",
   "metadata": {},
   "outputs": [],
   "source": [
    "preds=rfc.predict(X_test)"
   ]
  },
  {
   "cell_type": "code",
   "execution_count": 120,
   "id": "def45bf5",
   "metadata": {},
   "outputs": [
    {
     "data": {
      "text/plain": [
       "array(['6-12', '0-6 ', '0-6 ', ..., '6-12', '24+', '0-6 '], dtype=object)"
      ]
     },
     "execution_count": 120,
     "metadata": {},
     "output_type": "execute_result"
    }
   ],
   "source": [
    "preds"
   ]
  },
  {
   "cell_type": "code",
   "execution_count": 121,
   "id": "fdded8ac",
   "metadata": {},
   "outputs": [],
   "source": [
    "from sklearn.metrics import accuracy_score, confusion_matrix, classification_report, plot_confusion_matrix"
   ]
  },
  {
   "cell_type": "code",
   "execution_count": 122,
   "id": "9a8a5a23",
   "metadata": {},
   "outputs": [],
   "source": [
    "plt.rcParams[\"figure.figsize\"] = (15,8)"
   ]
  },
  {
   "cell_type": "code",
   "execution_count": 123,
   "id": "fde5b788-c2f6-477c-83ba-11391aec5f7c",
   "metadata": {},
   "outputs": [
    {
     "name": "stdout",
     "output_type": "stream",
     "text": [
      "0.4278239270298884\n"
     ]
    }
   ],
   "source": [
    "print(accuracy_score(y_test, preds))"
   ]
  },
  {
   "cell_type": "code",
   "execution_count": 124,
   "id": "dc10aaf8",
   "metadata": {},
   "outputs": [
    {
     "data": {
      "text/plain": [
       "<sklearn.metrics._plot.confusion_matrix.ConfusionMatrixDisplay at 0x7fad281a5ca0>"
      ]
     },
     "execution_count": 124,
     "metadata": {},
     "output_type": "execute_result"
    },
    {
     "data": {
      "image/png": "[encoded data removed]",
      "text/plain": [
       "<Figure size 1080x576 with 2 Axes>"
      ]
     },
     "metadata": {
      "needs_background": "light"
     },
     "output_type": "display_data"
    }
   ],
   "source": [
    "plot_confusion_matrix(rfc, X_test, y_test)"
   ]
  },
  {
   "cell_type": "code",
   "execution_count": 125,
   "id": "099e99fa",
   "metadata": {},
   "outputs": [
    {
     "name": "stdout",
     "output_type": "stream",
     "text": [
      "              precision    recall  f1-score   support\n",
      "\n",
      "        0-6        0.45      0.59      0.51     20069\n",
      "      12-24        0.17      0.01      0.02      3798\n",
      "         24+       0.36      0.10      0.15      7049\n",
      "        6-12       0.41      0.47      0.43     18200\n",
      "\n",
      "    accuracy                           0.43     49116\n",
      "   macro avg       0.35      0.29      0.28     49116\n",
      "weighted avg       0.40      0.43      0.39     49116\n",
      "\n"
     ]
    }
   ],
   "source": [
    "print(classification_report(y_test, preds))"
   ]
  },
  {
   "cell_type": "code",
   "execution_count": 126,
   "id": "849fe53f",
   "metadata": {},
   "outputs": [
    {
     "data": {
      "text/plain": [
       "Text(0.5, 0, 'Feature Importance')"
      ]
     },
     "execution_count": 126,
     "metadata": {},
     "output_type": "execute_result"
    },
    {
     "data": {
      "image/png": "[encoded data removed]",
      "text/plain": [
       "<Figure size 1080x576 with 1 Axes>"
      ]
     },
     "metadata": {
      "needs_background": "light"
     },
     "output_type": "display_data"
    }
   ],
   "source": [
    "sort = rfc.feature_importances_.argsort()\n",
    "plt.bar(df.columns[sort], rfc.feature_importances_[sort])\n",
    "plt.xticks(rotation=90)\n",
    "plt.xlabel(\"Feature Importance\")"
   ]
  },
  {
   "cell_type": "markdown",
   "id": "f9b6efaa",
   "metadata": {},
   "source": [
    "## Decision Tree"
   ]
  },
  {
   "cell_type": "code",
   "execution_count": 127,
   "id": "4d6163d6",
   "metadata": {},
   "outputs": [],
   "source": [
    "from sklearn.tree import DecisionTreeClassifier\n",
    "from sklearn.model_selection import GridSearchCV"
   ]
  },
  {
   "cell_type": "code",
   "execution_count": 128,
   "id": "3170d317",
   "metadata": {},
   "outputs": [
    {
     "name": "stdout",
     "output_type": "stream",
     "text": [
      "              precision    recall  f1-score   support\n",
      "\n",
      "        0-6      0.4327    0.4217    0.4271     20069\n",
      "      12-24      0.0883    0.0987    0.0932      3798\n",
      "         24+     0.1649    0.1768    0.1706      7049\n",
      "        6-12     0.3834    0.3740    0.3786     18200\n",
      "\n",
      "    accuracy                         0.3439     49116\n",
      "   macro avg     0.2673    0.2678    0.2674     49116\n",
      "weighted avg     0.3494    0.3439    0.3465     49116\n",
      "\n"
     ]
    }
   ],
   "source": [
    "dtc = DecisionTreeClassifier(random_state=42)\n",
    "dtc.fit(X_train, y_train)\n",
    "# predict the test set\n",
    "y_pred = dtc.predict(X_test)\n",
    "# print the classification_report\n",
    "print(classification_report(y_test, y_pred, digits=4))"
   ]
  },
  {
   "cell_type": "code",
   "execution_count": 129,
   "id": "cd80599c",
   "metadata": {},
   "outputs": [
    {
     "name": "stdout",
     "output_type": "stream",
     "text": [
      "0.3438797947715612\n"
     ]
    }
   ],
   "source": [
    "print(accuracy_score(y_test, y_pred))"
   ]
  },
  {
   "cell_type": "code",
   "execution_count": 130,
   "id": "30664945",
   "metadata": {},
   "outputs": [
    {
     "data": {
      "text/plain": [
       "<sklearn.metrics._plot.confusion_matrix.ConfusionMatrixDisplay at 0x7fad691221c0>"
      ]
     },
     "execution_count": 130,
     "metadata": {},
     "output_type": "execute_result"
    },
    {
     "data": {
      "image/png": "[encoded data removed]",
      "text/plain": [
       "<Figure size 1080x576 with 2 Axes>"
      ]
     },
     "metadata": {
      "needs_background": "light"
     },
     "output_type": "display_data"
    }
   ],
   "source": [
    "plot_confusion_matrix(dtc, X_test, y_test)"
   ]
  },
  {
   "cell_type": "code",
   "execution_count": 147,
   "id": "3da3c921-d706-4115-87c1-795c19e308d4",
   "metadata": {},
   "outputs": [
    {
     "data": {
      "text/plain": [
       "Text(0.5, 0, 'Feature Importance')"
      ]
     },
     "execution_count": 147,
     "metadata": {},
     "output_type": "execute_result"
    },
    {
     "data": {
      "image/png": "[encoded data removed]",
      "text/plain": [
       "<Figure size 1080x576 with 1 Axes>"
      ]
     },
     "metadata": {
      "needs_background": "light"
     },
     "output_type": "display_data"
    }
   ],
   "source": [
    "sort = dtc.feature_importances_.argsort()\n",
    "plt.bar(df.columns[sort], dtc.feature_importances_[sort])\n",
    "plt.xticks(rotation=90)\n",
    "plt.xlabel(\"Feature Importance\")"
   ]
  },
  {
   "cell_type": "markdown",
   "id": "24e33c04-69ff-4382-ac42-cfa062bdf196",
   "metadata": {},
   "source": [
    "## Support Vector Classifier"
   ]
  },
  {
   "cell_type": "code",
   "execution_count": 131,
   "id": "28f9da9a",
   "metadata": {},
   "outputs": [],
   "source": [
    "# # SVC\n",
    "#from sklearn.svm import SVC\n",
    " \n",
    "#SVC = SVC(random_state=42)\n",
    "#SVC.fit(X_train, y_train)\n",
    "\n",
    "# # predict the test set\n",
    "#y_pred = SVC.predict(X_test)\n",
    "# # print the classification_report\n",
    "#print(classification_report(y_test, y_pred, digits=4))\n",
    "#print(accuracy_score(y_test, y_pred))"
   ]
  },
  {
   "cell_type": "markdown",
   "id": "82ce858d",
   "metadata": {},
   "source": [
    "## LDA"
   ]
  },
  {
   "cell_type": "code",
   "execution_count": 132,
   "id": "cf65b7a2",
   "metadata": {},
   "outputs": [
    {
     "name": "stdout",
     "output_type": "stream",
     "text": [
      "              precision    recall  f1-score   support\n",
      "\n",
      "        0-6      0.4697    0.6306    0.5384     20069\n",
      "      12-24      0.0000    0.0000    0.0000      3798\n",
      "         24+     0.4085    0.1261    0.1927      7049\n",
      "        6-12     0.4247    0.4665    0.4446     18200\n",
      "\n",
      "    accuracy                         0.4487     49116\n",
      "   macro avg     0.3257    0.3058    0.2939     49116\n",
      "weighted avg     0.4079    0.4487    0.4124     49116\n",
      "\n"
     ]
    }
   ],
   "source": [
    "# LDA \n",
    "from sklearn.discriminant_analysis import LinearDiscriminantAnalysis\n",
    "\n",
    "ldac = LinearDiscriminantAnalysis()\n",
    "ldac.fit(X_train, y_train)\n",
    "\n",
    "y_pred = ldac.predict(X_test)\n",
    "# print the classification_report\n",
    "print(classification_report(y_test, y_pred, digits=4))"
   ]
  },
  {
   "cell_type": "code",
   "execution_count": 133,
   "id": "723539cc",
   "metadata": {},
   "outputs": [
    {
     "name": "stdout",
     "output_type": "stream",
     "text": [
      "0.44865217037218014\n"
     ]
    }
   ],
   "source": [
    "print(accuracy_score(y_test, y_pred))"
   ]
  },
  {
   "cell_type": "code",
   "execution_count": 134,
   "id": "5fc81ec2",
   "metadata": {},
   "outputs": [
    {
     "data": {
      "text/plain": [
       "<sklearn.metrics._plot.confusion_matrix.ConfusionMatrixDisplay at 0x7fad4bfc1d30>"
      ]
     },
     "execution_count": 134,
     "metadata": {},
     "output_type": "execute_result"
    },
    {
     "data": {
      "image/png": "[encoded data removed]",
      "text/plain": [
       "<Figure size 1080x576 with 2 Axes>"
      ]
     },
     "metadata": {
      "needs_background": "light"
     },
     "output_type": "display_data"
    }
   ],
   "source": [
    "plot_confusion_matrix(ldac, X_test, y_test)"
   ]
  },
  {
   "cell_type": "markdown",
   "id": "eb71edeb-f83a-445b-ae5b-16dfccc4827f",
   "metadata": {},
   "source": [
    "## XGBoost"
   ]
  },
  {
   "cell_type": "code",
   "execution_count": 135,
   "id": "e0e172d5",
   "metadata": {},
   "outputs": [
    {
     "data": {
      "text/html": [
       "<div>\n",
       "<style scoped>\n",
       "    .dataframe tbody tr th:only-of-type {\n",
       "        vertical-align: middle;\n",
       "    }\n",
       "\n",
       "    .dataframe tbody tr th {\n",
       "        vertical-align: top;\n",
       "    }\n",
       "\n",
       "    .dataframe thead th {\n",
       "        text-align: right;\n",
       "    }\n",
       "</style>\n",
       "<table border=\"1\" class=\"dataframe\">\n",
       "  <thead>\n",
       "    <tr style=\"text-align: right;\">\n",
       "      <th></th>\n",
       "      <th>gender</th>\n",
       "      <th>race</th>\n",
       "      <th>arrival_transport</th>\n",
       "      <th>disposition</th>\n",
       "      <th>temperature</th>\n",
       "      <th>heartrate</th>\n",
       "      <th>resprate</th>\n",
       "      <th>o2sat</th>\n",
       "      <th>sbp</th>\n",
       "      <th>dbp</th>\n",
       "      <th>acuity</th>\n",
       "      <th>Stay</th>\n",
       "    </tr>\n",
       "  </thead>\n",
       "  <tbody>\n",
       "    <tr>\n",
       "      <th>0</th>\n",
       "      <td>0</td>\n",
       "      <td>28</td>\n",
       "      <td>0</td>\n",
       "      <td>0</td>\n",
       "      <td>98.4</td>\n",
       "      <td>70.0</td>\n",
       "      <td>16.0</td>\n",
       "      <td>97.0</td>\n",
       "      <td>106.0</td>\n",
       "      <td>63.0</td>\n",
       "      <td>3.0</td>\n",
       "      <td>0</td>\n",
       "    </tr>\n",
       "    <tr>\n",
       "      <th>1</th>\n",
       "      <td>0</td>\n",
       "      <td>28</td>\n",
       "      <td>0</td>\n",
       "      <td>0</td>\n",
       "      <td>98.9</td>\n",
       "      <td>88.0</td>\n",
       "      <td>18.0</td>\n",
       "      <td>97.0</td>\n",
       "      <td>116.0</td>\n",
       "      <td>88.0</td>\n",
       "      <td>3.0</td>\n",
       "      <td>0</td>\n",
       "    </tr>\n",
       "    <tr>\n",
       "      <th>2</th>\n",
       "      <td>0</td>\n",
       "      <td>28</td>\n",
       "      <td>0</td>\n",
       "      <td>0</td>\n",
       "      <td>99.4</td>\n",
       "      <td>105.0</td>\n",
       "      <td>18.0</td>\n",
       "      <td>96.0</td>\n",
       "      <td>106.0</td>\n",
       "      <td>57.0</td>\n",
       "      <td>3.0</td>\n",
       "      <td>2</td>\n",
       "    </tr>\n",
       "    <tr>\n",
       "      <th>3</th>\n",
       "      <td>0</td>\n",
       "      <td>28</td>\n",
       "      <td>0</td>\n",
       "      <td>0</td>\n",
       "      <td>98.7</td>\n",
       "      <td>77.0</td>\n",
       "      <td>16.0</td>\n",
       "      <td>98.0</td>\n",
       "      <td>96.0</td>\n",
       "      <td>50.0</td>\n",
       "      <td>2.0</td>\n",
       "      <td>3</td>\n",
       "    </tr>\n",
       "    <tr>\n",
       "      <th>4</th>\n",
       "      <td>1</td>\n",
       "      <td>28</td>\n",
       "      <td>4</td>\n",
       "      <td>0</td>\n",
       "      <td>97.5</td>\n",
       "      <td>78.0</td>\n",
       "      <td>16.0</td>\n",
       "      <td>100.0</td>\n",
       "      <td>114.0</td>\n",
       "      <td>71.0</td>\n",
       "      <td>2.0</td>\n",
       "      <td>3</td>\n",
       "    </tr>\n",
       "  </tbody>\n",
       "</table>\n",
       "</div>"
      ],
      "text/plain": [
       "   gender  race  arrival_transport  disposition  temperature  heartrate  \\\n",
       "0       0    28                  0            0         98.4       70.0   \n",
       "1       0    28                  0            0         98.9       88.0   \n",
       "2       0    28                  0            0         99.4      105.0   \n",
       "3       0    28                  0            0         98.7       77.0   \n",
       "4       1    28                  4            0         97.5       78.0   \n",
       "\n",
       "   resprate  o2sat    sbp   dbp  acuity  Stay  \n",
       "0      16.0   97.0  106.0  63.0     3.0     0  \n",
       "1      18.0   97.0  116.0  88.0     3.0     0  \n",
       "2      18.0   96.0  106.0  57.0     3.0     2  \n",
       "3      16.0   98.0   96.0  50.0     2.0     3  \n",
       "4      16.0  100.0  114.0  71.0     2.0     3  "
      ]
     },
     "execution_count": 135,
     "metadata": {},
     "output_type": "execute_result"
    }
   ],
   "source": [
    "df['Stay'] = le.fit_transform(df['Stay'])\n",
    "df.head()"
   ]
  },
  {
   "cell_type": "code",
   "execution_count": 136,
   "id": "00865445",
   "metadata": {},
   "outputs": [],
   "source": [
    "X = df.iloc[:, :-1].values\n",
    "y = df.iloc[:, -1].values"
   ]
  },
  {
   "cell_type": "code",
   "execution_count": 137,
   "id": "5b70c1d5",
   "metadata": {},
   "outputs": [],
   "source": [
    "X_train, X_test, y_train, y_test = train_test_split(X, y, test_size=0.33, random_state=42)"
   ]
  },
  {
   "cell_type": "code",
   "execution_count": 138,
   "id": "309dd819",
   "metadata": {},
   "outputs": [
    {
     "name": "stdout",
     "output_type": "stream",
     "text": [
      "              precision    recall  f1-score   support\n",
      "\n",
      "           0     0.4745    0.6222    0.5384     20069\n",
      "           1     0.1684    0.0042    0.0082      3798\n",
      "           2     0.4293    0.0994    0.1615      7049\n",
      "           3     0.4297    0.4975    0.4611     18200\n",
      "\n",
      "    accuracy                         0.4532     49116\n",
      "   macro avg     0.3755    0.3058    0.2923     49116\n",
      "weighted avg     0.4277    0.4532    0.4147     49116\n",
      "\n"
     ]
    }
   ],
   "source": [
    "## Import XGBoost \n",
    "from xgboost import XGBClassifier\n",
    "\n",
    "xgbc = XGBClassifier(random_state=42)\n",
    "xgbc.fit(X_train, y_train) \n",
    "y_pred = xgbc.predict(X_test)\n",
    "print(classification_report(y_test, y_pred, digits=4))"
   ]
  },
  {
   "cell_type": "code",
   "execution_count": 139,
   "id": "5c1d161d-1ea5-47e6-ad5e-bc85d4887cd2",
   "metadata": {},
   "outputs": [
    {
     "name": "stdout",
     "output_type": "stream",
     "text": [
      "0.4531924423813014\n"
     ]
    }
   ],
   "source": [
    "print(accuracy_score(y_test, y_pred))"
   ]
  },
  {
   "cell_type": "code",
   "execution_count": 140,
   "id": "c73e961c",
   "metadata": {},
   "outputs": [
    {
     "data": {
      "text/plain": [
       "<sklearn.metrics._plot.confusion_matrix.ConfusionMatrixDisplay at 0x7fad282011c0>"
      ]
     },
     "execution_count": 140,
     "metadata": {},
     "output_type": "execute_result"
    },
    {
     "data": {
      "image/png": "[encoded data removed]",
      "text/plain": [
       "<Figure size 1080x576 with 2 Axes>"
      ]
     },
     "metadata": {
      "needs_background": "light"
     },
     "output_type": "display_data"
    }
   ],
   "source": [
    "plot_confusion_matrix(xgbc, X_test, y_test)"
   ]
  },
  {
   "cell_type": "code",
   "execution_count": 141,
   "id": "0bc2e0ff-e0a6-45bc-9482-f931ecf9774b",
   "metadata": {},
   "outputs": [
    {
     "data": {
      "text/plain": [
       "Text(0.5, 0, 'Feature Importance')"
      ]
     },
     "execution_count": 141,
     "metadata": {},
     "output_type": "execute_result"
    },
    {
     "data": {
      "image/png": "[encoded data removed]",
      "text/plain": [
       "<Figure size 1080x576 with 1 Axes>"
      ]
     },
     "metadata": {
      "needs_background": "light"
     },
     "output_type": "display_data"
    }
   ],
   "source": [
    "sort = xgbc.feature_importances_.argsort()\n",
    "plt.bar(df.columns[sort], xgbc.feature_importances_[sort])\n",
    "plt.xticks(rotation=90)\n",
    "plt.xlabel(\"Feature Importance\")"
   ]
  },
  {
   "cell_type": "markdown",
   "id": "f9aa277e-93d7-4a0a-9fad-734efa8404a4",
   "metadata": {},
   "source": [
    "## Summary"
   ]
  },
  {
   "cell_type": "markdown",
   "id": "0d6a9432",
   "metadata": {},
   "source": [
    "##### 1. Null model has no performance while others do, some better than others which means that models are learning.\n",
    "##### 2. Random Forest Classifier was the best model in terms of predictiion, followed by XGBoost, which gave bad results than what was expected, but can be improved further with hyperparameters optimization.\n",
    "##### 3. The traditional machine learning models showed the possibility of predicting the stay of the patients.\n",
    "##### 4. Some data balancing techniques can be tried to improve the models performance.\n",
    "##### 5. Hyperparameter tuning is another aspect to look at.\n",
    "##### 6. Can use more advance and complex models.\n",
    "##### 7. Can try out neural networks and hybrid neaural networks.\n",
    "##### 8. NLP should also be taken in account on text data during further work.\n",
    "##### 9. Feature Importance can also be given some weightage in the next tasks."
   ]
  },
  {
   "cell_type": "code",
   "execution_count": 144,
   "id": "ca25bdaa-374f-4277-a5a6-6fd80bdb0162",
   "metadata": {},
   "outputs": [],
   "source": [
    "cols = list(df.columns)\n",
    "cols = [cols[-1]] + cols[:-1]\n",
    "df = df[cols]"
   ]
  },
  {
   "cell_type": "code",
   "execution_count": 145,
   "id": "03daa17a-09c8-4424-92a1-1684f41bddbf",
   "metadata": {},
   "outputs": [
    {
     "data": {
      "text/html": [
       "<div>\n",
       "<style scoped>\n",
       "    .dataframe tbody tr th:only-of-type {\n",
       "        vertical-align: middle;\n",
       "    }\n",
       "\n",
       "    .dataframe tbody tr th {\n",
       "        vertical-align: top;\n",
       "    }\n",
       "\n",
       "    .dataframe thead th {\n",
       "        text-align: right;\n",
       "    }\n",
       "</style>\n",
       "<table border=\"1\" class=\"dataframe\">\n",
       "  <thead>\n",
       "    <tr style=\"text-align: right;\">\n",
       "      <th></th>\n",
       "      <th>Stay</th>\n",
       "      <th>gender</th>\n",
       "      <th>race</th>\n",
       "      <th>arrival_transport</th>\n",
       "      <th>disposition</th>\n",
       "      <th>temperature</th>\n",
       "      <th>heartrate</th>\n",
       "      <th>resprate</th>\n",
       "      <th>o2sat</th>\n",
       "      <th>sbp</th>\n",
       "      <th>dbp</th>\n",
       "      <th>acuity</th>\n",
       "    </tr>\n",
       "  </thead>\n",
       "  <tbody>\n",
       "    <tr>\n",
       "      <th>0</th>\n",
       "      <td>0</td>\n",
       "      <td>0</td>\n",
       "      <td>28</td>\n",
       "      <td>0</td>\n",
       "      <td>0</td>\n",
       "      <td>98.4</td>\n",
       "      <td>70.0</td>\n",
       "      <td>16.0</td>\n",
       "      <td>97.0</td>\n",
       "      <td>106.0</td>\n",
       "      <td>63.0</td>\n",
       "      <td>3.0</td>\n",
       "    </tr>\n",
       "    <tr>\n",
       "      <th>1</th>\n",
       "      <td>0</td>\n",
       "      <td>0</td>\n",
       "      <td>28</td>\n",
       "      <td>0</td>\n",
       "      <td>0</td>\n",
       "      <td>98.9</td>\n",
       "      <td>88.0</td>\n",
       "      <td>18.0</td>\n",
       "      <td>97.0</td>\n",
       "      <td>116.0</td>\n",
       "      <td>88.0</td>\n",
       "      <td>3.0</td>\n",
       "    </tr>\n",
       "    <tr>\n",
       "      <th>2</th>\n",
       "      <td>2</td>\n",
       "      <td>0</td>\n",
       "      <td>28</td>\n",
       "      <td>0</td>\n",
       "      <td>0</td>\n",
       "      <td>99.4</td>\n",
       "      <td>105.0</td>\n",
       "      <td>18.0</td>\n",
       "      <td>96.0</td>\n",
       "      <td>106.0</td>\n",
       "      <td>57.0</td>\n",
       "      <td>3.0</td>\n",
       "    </tr>\n",
       "    <tr>\n",
       "      <th>3</th>\n",
       "      <td>3</td>\n",
       "      <td>0</td>\n",
       "      <td>28</td>\n",
       "      <td>0</td>\n",
       "      <td>0</td>\n",
       "      <td>98.7</td>\n",
       "      <td>77.0</td>\n",
       "      <td>16.0</td>\n",
       "      <td>98.0</td>\n",
       "      <td>96.0</td>\n",
       "      <td>50.0</td>\n",
       "      <td>2.0</td>\n",
       "    </tr>\n",
       "    <tr>\n",
       "      <th>4</th>\n",
       "      <td>3</td>\n",
       "      <td>1</td>\n",
       "      <td>28</td>\n",
       "      <td>4</td>\n",
       "      <td>0</td>\n",
       "      <td>97.5</td>\n",
       "      <td>78.0</td>\n",
       "      <td>16.0</td>\n",
       "      <td>100.0</td>\n",
       "      <td>114.0</td>\n",
       "      <td>71.0</td>\n",
       "      <td>2.0</td>\n",
       "    </tr>\n",
       "    <tr>\n",
       "      <th>...</th>\n",
       "      <td>...</td>\n",
       "      <td>...</td>\n",
       "      <td>...</td>\n",
       "      <td>...</td>\n",
       "      <td>...</td>\n",
       "      <td>...</td>\n",
       "      <td>...</td>\n",
       "      <td>...</td>\n",
       "      <td>...</td>\n",
       "      <td>...</td>\n",
       "      <td>...</td>\n",
       "      <td>...</td>\n",
       "    </tr>\n",
       "    <tr>\n",
       "      <th>173733</th>\n",
       "      <td>2</td>\n",
       "      <td>1</td>\n",
       "      <td>7</td>\n",
       "      <td>4</td>\n",
       "      <td>0</td>\n",
       "      <td>98.0</td>\n",
       "      <td>91.0</td>\n",
       "      <td>16.0</td>\n",
       "      <td>99.0</td>\n",
       "      <td>148.0</td>\n",
       "      <td>90.0</td>\n",
       "      <td>2.0</td>\n",
       "    </tr>\n",
       "    <tr>\n",
       "      <th>173734</th>\n",
       "      <td>0</td>\n",
       "      <td>1</td>\n",
       "      <td>7</td>\n",
       "      <td>4</td>\n",
       "      <td>0</td>\n",
       "      <td>98.8</td>\n",
       "      <td>92.0</td>\n",
       "      <td>18.0</td>\n",
       "      <td>100.0</td>\n",
       "      <td>122.0</td>\n",
       "      <td>77.0</td>\n",
       "      <td>3.0</td>\n",
       "    </tr>\n",
       "    <tr>\n",
       "      <th>173735</th>\n",
       "      <td>3</td>\n",
       "      <td>1</td>\n",
       "      <td>7</td>\n",
       "      <td>4</td>\n",
       "      <td>0</td>\n",
       "      <td>98.6</td>\n",
       "      <td>80.0</td>\n",
       "      <td>18.0</td>\n",
       "      <td>100.0</td>\n",
       "      <td>161.0</td>\n",
       "      <td>100.0</td>\n",
       "      <td>3.0</td>\n",
       "    </tr>\n",
       "    <tr>\n",
       "      <th>173736</th>\n",
       "      <td>3</td>\n",
       "      <td>0</td>\n",
       "      <td>28</td>\n",
       "      <td>0</td>\n",
       "      <td>0</td>\n",
       "      <td>96.6</td>\n",
       "      <td>112.0</td>\n",
       "      <td>18.0</td>\n",
       "      <td>100.0</td>\n",
       "      <td>110.0</td>\n",
       "      <td>82.0</td>\n",
       "      <td>2.0</td>\n",
       "    </tr>\n",
       "    <tr>\n",
       "      <th>173737</th>\n",
       "      <td>2</td>\n",
       "      <td>0</td>\n",
       "      <td>28</td>\n",
       "      <td>4</td>\n",
       "      <td>0</td>\n",
       "      <td>98.1</td>\n",
       "      <td>83.0</td>\n",
       "      <td>18.0</td>\n",
       "      <td>100.0</td>\n",
       "      <td>107.0</td>\n",
       "      <td>75.0</td>\n",
       "      <td>2.0</td>\n",
       "    </tr>\n",
       "  </tbody>\n",
       "</table>\n",
       "<p>148835 rows × 12 columns</p>\n",
       "</div>"
      ],
      "text/plain": [
       "        Stay  gender  race  arrival_transport  disposition  temperature  \\\n",
       "0          0       0    28                  0            0         98.4   \n",
       "1          0       0    28                  0            0         98.9   \n",
       "2          2       0    28                  0            0         99.4   \n",
       "3          3       0    28                  0            0         98.7   \n",
       "4          3       1    28                  4            0         97.5   \n",
       "...      ...     ...   ...                ...          ...          ...   \n",
       "173733     2       1     7                  4            0         98.0   \n",
       "173734     0       1     7                  4            0         98.8   \n",
       "173735     3       1     7                  4            0         98.6   \n",
       "173736     3       0    28                  0            0         96.6   \n",
       "173737     2       0    28                  4            0         98.1   \n",
       "\n",
       "        heartrate  resprate  o2sat    sbp    dbp  acuity  \n",
       "0            70.0      16.0   97.0  106.0   63.0     3.0  \n",
       "1            88.0      18.0   97.0  116.0   88.0     3.0  \n",
       "2           105.0      18.0   96.0  106.0   57.0     3.0  \n",
       "3            77.0      16.0   98.0   96.0   50.0     2.0  \n",
       "4            78.0      16.0  100.0  114.0   71.0     2.0  \n",
       "...           ...       ...    ...    ...    ...     ...  \n",
       "173733       91.0      16.0   99.0  148.0   90.0     2.0  \n",
       "173734       92.0      18.0  100.0  122.0   77.0     3.0  \n",
       "173735       80.0      18.0  100.0  161.0  100.0     3.0  \n",
       "173736      112.0      18.0  100.0  110.0   82.0     2.0  \n",
       "173737       83.0      18.0  100.0  107.0   75.0     2.0  \n",
       "\n",
       "[148835 rows x 12 columns]"
      ]
     },
     "execution_count": 145,
     "metadata": {},
     "output_type": "execute_result"
    }
   ],
   "source": [
    "df"
   ]
  },
  {
   "cell_type": "code",
   "execution_count": 146,
   "id": "407ce5e5-725c-4001-bb29-7425b7d01624",
   "metadata": {},
   "outputs": [
    {
     "data": {
      "text/plain": [
       "Text(0.5, 1.0, 'Correlation of Stay with other variables')"
      ]
     },
     "execution_count": 146,
     "metadata": {},
     "output_type": "execute_result"
    },
    {
     "data": {
      "image/png": "[encoded data removed]",
      "text/plain": [
       "<Figure size 1080x720 with 2 Axes>"
      ]
     },
     "metadata": {
      "needs_background": "light"
     },
     "output_type": "display_data"
    }
   ],
   "source": [
    "plt.figure(figsize=(15, 10))\n",
    "ax = plt.axes()\n",
    "sns.heatmap(df.corr(), cmap=\"magma\",annot=True, ax = ax)\n",
    "ax.set_title('Correlation of Stay with other variables')"
   ]
  },
  {
   "cell_type": "code",
   "execution_count": null,
   "id": "661e4513-73ee-411e-a516-c10c450a96ee",
   "metadata": {},
   "outputs": [],
   "source": []
  }
 ],
 "metadata": {
  "kernelspec": {
   "display_name": "Python 3 (ipykernel)",
   "language": "python",
   "name": "python3"
  },
  "language_info": {
   "codemirror_mode": {
    "name": "ipython",
    "version": 3
   },
   "file_extension": ".py",
   "mimetype": "text/x-python",
   "name": "python",
   "nbconvert_exporter": "python",
   "pygments_lexer": "ipython3",
   "version": "3.8.13"
  }
 },
 "nbformat": 4,
 "nbformat_minor": 5
}
