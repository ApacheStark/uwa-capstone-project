{
 "cells": [
  {
   "cell_type": "code",
   "execution_count": 38,
   "id": "e14689a2",
   "metadata": {},
   "outputs": [],
   "source": [
    "# data prep for admission rates\n",
    "import os\n",
    "\n",
    "def search_all_paths():\n",
    "    import sys\n",
    "    module_path = os.path.abspath(os.path.join('../..'))\n",
    "    if module_path not in sys.path:\n",
    "        sys.path.append(module_path)\n",
    "\n",
    "import pandas as pd\n",
    "\n",
    "search_all_paths()\n",
    "from capstone_functions import *\n",
    "from capstone_constants import *"
   ]
  },
  {
   "cell_type": "code",
   "execution_count": 32,
   "id": "e9c46d85",
   "metadata": {},
   "outputs": [],
   "source": [
    "# the only datasets available for admission rates are edstay and triage, both gathered upon arrival\n",
    "# there will be no further need for additional stage modelling"
   ]
  },
  {
   "cell_type": "code",
   "execution_count": 74,
   "id": "c1c199a8",
   "metadata": {},
   "outputs": [
    {
     "name": "stdout",
     "output_type": "stream",
     "text": [
      "\n",
      "Shape: (447712, 11)\n",
      "\n",
      "Columns: ['subject_id', 'stay_id', 'temperature', 'heartrate', 'resprate', 'o2sat', 'sbp', 'dbp', 'pain', 'acuity', 'chiefcomplaint']\n",
      "\n",
      "Missing proportions:\n",
      " subject_id        0.000000\n",
      "stay_id           0.000000\n",
      "temperature       0.054935\n",
      "heartrate         0.040111\n",
      "resprate          0.047743\n",
      "o2sat             0.048355\n",
      "sbp               0.042941\n",
      "dbp               0.044823\n",
      "pain              0.030415\n",
      "acuity            0.016368\n",
      "chiefcomplaint    0.000051\n",
      "dtype: float64\n",
      "\n",
      "Data:\n",
      "    subject_id   stay_id  temperature  heartrate  resprate  o2sat    sbp   dbp  \\\n",
      "0    10000032  32952584         97.8       87.0      14.0   97.0   71.0  43.0   \n",
      "1    10000032  33258284         98.4       70.0      16.0   97.0  106.0  63.0   \n",
      "2    10000032  35968195         99.4      105.0      18.0   96.0  106.0  57.0   \n",
      "3    10000032  38112554         98.9       88.0      18.0   97.0  116.0  88.0   \n",
      "4    10000032  39399961         98.7       77.0      16.0   98.0   96.0  50.0   \n",
      "\n",
      "  pain  acuity                            chiefcomplaint  \n",
      "0    7     2.0                               Hypotension  \n",
      "1    0     3.0            Abd pain, Abdominal distention  \n",
      "2   10     3.0                           n/v/d, Abd pain  \n",
      "3   10     3.0                      Abdominal distention  \n",
      "4   13     2.0  Abdominal distention, Abd pain, LETHAGIC  \n",
      "\n",
      "Shape: (447712, 9)\n",
      "\n",
      "Columns: ['subject_id', 'hadm_id', 'stay_id', 'intime', 'outtime', 'gender', 'race', 'arrival_transport', 'disposition']\n",
      "\n",
      "Missing proportions:\n",
      " subject_id           0.000000\n",
      "hadm_id              0.522213\n",
      "stay_id              0.000000\n",
      "intime               0.000000\n",
      "outtime              0.000000\n",
      "gender               0.000000\n",
      "race                 0.000000\n",
      "arrival_transport    0.000000\n",
      "disposition          0.000000\n",
      "dtype: float64\n",
      "\n",
      "Data:\n",
      "    subject_id     hadm_id   stay_id           intime          outtime gender  \\\n",
      "0    10000032  22595853.0  33258284   6/5/2180 19:17   6/5/2180 23:30      F   \n",
      "1    10000032  22841357.0  38112554  26/6/2180 15:54  26/6/2180 21:31      F   \n",
      "2    10000032  25742920.0  35968195   5/8/2180 20:58    6/8/2180 1:44      F   \n",
      "3    10000032  29079034.0  32952584  22/7/2180 16:24   23/7/2180 5:54      F   \n",
      "4    10000032  29079034.0  39399961   23/7/2180 5:54  23/7/2180 14:00      F   \n",
      "\n",
      "    race arrival_transport disposition  \n",
      "0  WHITE         AMBULANCE    ADMITTED  \n",
      "1  WHITE         AMBULANCE    ADMITTED  \n",
      "2  WHITE         AMBULANCE    ADMITTED  \n",
      "3  WHITE         AMBULANCE        HOME  \n",
      "4  WHITE         AMBULANCE    ADMITTED  \n"
     ]
    }
   ],
   "source": [
    "triage = look_n_load('../../DATA/triage.csv')\n",
    "edstays = look_n_load('../../DATA/edstays.csv')"
   ]
  },
  {
   "cell_type": "code",
   "execution_count": 75,
   "id": "8df9d628",
   "metadata": {},
   "outputs": [],
   "source": [
    "# create datetime variables to colelct in_hour, in_date, day of week, and capacity\n",
    "from datetime import datetime\n",
    "edstays['intime'] = pd.to_datetime(edstays.intime)\n",
    "edstays['in_date'] = [x.date() for x in edstays.intime]\n",
    "edstays['outtime'] = pd.to_datetime(edstays.outtime)\n",
    "edstays['out_date'] = [x.date() for x in edstays.outtime]\n",
    "\n",
    "edstays['diff_date'] = edstays['out_date'] - edstays['in_date']\n",
    "edstays['in_hour'] = [x.hour for x in edstays.intime]"
   ]
  },
  {
   "cell_type": "code",
   "execution_count": 76,
   "id": "fb996e2c",
   "metadata": {},
   "outputs": [],
   "source": [
    "def work_hours(x):\n",
    "    if x >= 8 and x <= 18:\n",
    "        return 1 \n",
    "    else:\n",
    "        return 0\n",
    "\n",
    "# whether they arrived during work hours or not \n",
    "edstays['work_hours'] = [work_hours(x) for x in edstays.in_hour]"
   ]
  },
  {
   "cell_type": "code",
   "execution_count": 77,
   "id": "b3a2a15e",
   "metadata": {},
   "outputs": [],
   "source": [
    "# get day of week\n",
    "edstays['in_day'] = [x.strftime('%A') for x in edstays.in_date]"
   ]
  },
  {
   "cell_type": "code",
   "execution_count": 78,
   "id": "512a78a7",
   "metadata": {},
   "outputs": [],
   "source": [
    "# get capacity of patients admitted\n",
    "# NOTE: a significantly improved method of hospital capacity was developed on my other laptop, will need to get it\n",
    "\n",
    "def get_capacity_df(df, in_date = 'in_date'):\n",
    "    capacity = df[df['disposition'].isin(['ADMITTED'])][in_date].value_counts().reset_index()\n",
    "    capacity.columns = [in_date, 'capacity']\n",
    "    return capacity\n",
    "\n",
    "capacity_df = get_capacity_df(edstays)\n",
    "\n",
    "edstays = pd.merge(edstays, capacity_df, on='in_date', how='left')\n",
    "\n",
    "edstays.capacity = edstays.capacity.fillna(0)"
   ]
  },
  {
   "cell_type": "code",
   "execution_count": 79,
   "id": "4da4a7f3",
   "metadata": {},
   "outputs": [],
   "source": [
    "# constant for desired dispositions\n",
    "ADMIT_RISK_KEEP_DISP = ['HOME','ADMITTED','TRANSFER']\n",
    "\n",
    "ADMIT_RISK_KEEP_COLS = [\n",
    "    'subject_id',\n",
    "    'stay_id',\n",
    "    'arrival_transport',\n",
    "    'admitted',\n",
    "    'work_hours',\n",
    "    'in_day',\n",
    "    'capacity'\n",
    "]\n",
    "\n",
    "# create binary variable\n",
    "edstays['admitted'] = edstays.apply(get_admission, axis=1)\n",
    "\n",
    "# filter dispositions\n",
    "edstays = edstays[edstays.disposition.isin(ADMIT_RISK_KEEP_DISP)]\n",
    "\n",
    "# grab subset to join to triage data\n",
    "edstays_subset = edstays[ADMIT_RISK_KEEP_COLS]"
   ]
  },
  {
   "cell_type": "code",
   "execution_count": 52,
   "id": "3dacbb65",
   "metadata": {},
   "outputs": [],
   "source": [
    "def rescale_temp(x):\n",
    "    if x > 200:\n",
    "        return x/10\n",
    "    else:\n",
    "        return x\n",
    "\n",
    "triage['temperature'] = [rescale_temp(x) for x in triage['temperature']]\n",
    "\n",
    "def rescale_heart(x):\n",
    "    if x > 300:\n",
    "        return x / 100\n",
    "    else:\n",
    "        return x\n",
    "    \n",
    "triage['heartrate'] = [rescale_heart(x) for x in triage['heartrate']]\n",
    "\n",
    "def rescale_pain(x):\n",
    "    try:\n",
    "        x = int(x)\n",
    "        if x > 100:\n",
    "            return 10\n",
    "        elif x > 10:\n",
    "            return x/10\n",
    "        elif x < 0:\n",
    "            return 0\n",
    "        else:\n",
    "            return x\n",
    "    except:\n",
    "        return None\n",
    "    \n",
    "triage['pain'] = [rescale_pain(x) for x in triage['pain']]\n",
    "triage['pain'] = pd.to_numeric(triage['pain'])\n"
   ]
  },
  {
   "cell_type": "code",
   "execution_count": 80,
   "id": "6294c456",
   "metadata": {},
   "outputs": [],
   "source": [
    "edstays_triage = pd.merge(edstays_subset, triage, on=['subject_id','stay_id'], how='left')\n",
    "edstays_triage.to_csv('../../DATA/admission_rate_edstay_triage_prep.csv')"
   ]
  },
  {
   "cell_type": "code",
   "execution_count": null,
   "id": "cda49d93",
   "metadata": {},
   "outputs": [],
   "source": []
  }
 ],
 "metadata": {
  "kernelspec": {
   "display_name": "Python 3",
   "language": "python",
   "name": "python3"
  },
  "language_info": {
   "codemirror_mode": {
    "name": "ipython",
    "version": 3
   },
   "file_extension": ".py",
   "mimetype": "text/x-python",
   "name": "python",
   "nbconvert_exporter": "python",
   "pygments_lexer": "ipython3",
   "version": "3.6.4"
  }
 },
 "nbformat": 4,
 "nbformat_minor": 5
}
