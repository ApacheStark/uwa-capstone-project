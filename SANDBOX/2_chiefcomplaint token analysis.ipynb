{
 "cells": [
  {
   "cell_type": "code",
   "execution_count": 1,
   "id": "23f049e6",
   "metadata": {},
   "outputs": [
    {
     "ename": "ModuleNotFoundError",
     "evalue": "No module named 'capstone_functions'",
     "output_type": "error",
     "traceback": [
      "\u001b[1;31m---------------------------------------------------------------------------\u001b[0m",
      "\u001b[1;31mModuleNotFoundError\u001b[0m                       Traceback (most recent call last)",
      "\u001b[1;32m<ipython-input-1-ce58bfb7c400>\u001b[0m in \u001b[0;36m<module>\u001b[1;34m\u001b[0m\n\u001b[0;32m      2\u001b[0m \u001b[1;32mimport\u001b[0m \u001b[0mnumpy\u001b[0m \u001b[1;32mas\u001b[0m \u001b[0mnp\u001b[0m\u001b[1;33m\u001b[0m\u001b[0m\n\u001b[0;32m      3\u001b[0m \u001b[1;33m\u001b[0m\u001b[0m\n\u001b[1;32m----> 4\u001b[1;33m \u001b[1;32mfrom\u001b[0m \u001b[0mcapstone_functions\u001b[0m \u001b[1;32mimport\u001b[0m \u001b[0mget_admission\u001b[0m\u001b[1;33m\u001b[0m\u001b[0m\n\u001b[0m\u001b[0;32m      5\u001b[0m \u001b[1;33m\u001b[0m\u001b[0m\n\u001b[0;32m      6\u001b[0m \u001b[0mtriage\u001b[0m \u001b[1;33m=\u001b[0m \u001b[0mpd\u001b[0m\u001b[1;33m.\u001b[0m\u001b[0mread_csv\u001b[0m\u001b[1;33m(\u001b[0m\u001b[1;34m'DATA/triage.csv'\u001b[0m\u001b[1;33m)\u001b[0m\u001b[1;33m\u001b[0m\u001b[0m\n",
      "\u001b[1;31mModuleNotFoundError\u001b[0m: No module named 'capstone_functions'"
     ]
    }
   ],
   "source": [
    "import pandas as pd\n",
    "import numpy as np\n",
    "\n",
    "from capstone_functions import get_admission\n",
    "\n",
    "triage = pd.read_csv('DATA/triage.csv')\n",
    "edstays = pd.read_csv('data/edstays.csv')\n",
    "\n",
    "triage.head()"
   ]
  },
  {
   "cell_type": "code",
   "execution_count": 10,
   "id": "1078869d",
   "metadata": {},
   "outputs": [],
   "source": [
    "triage.chiefcomplaint = [str(x).lower() for x in triage.chiefcomplaint]"
   ]
  },
  {
   "cell_type": "code",
   "execution_count": 19,
   "id": "a46f7e09",
   "metadata": {},
   "outputs": [
    {
     "data": {
      "text/plain": [
       "abd pain                               16601\n",
       "chest pain                             14619\n",
       "s/p fall                                7902\n",
       "dyspnea                                 7758\n",
       "headache                                5377\n",
       "                                       ...  \n",
       "confusion, difficulty finding words        1\n",
       "weakness, low k                            1\n",
       "l eye redness/pain                         1\n",
       "back pain   s/p fall                       1\n",
       "car vs. house                              1\n",
       "Name: chiefcomplaint, Length: 61228, dtype: int64"
      ]
     },
     "execution_count": 19,
     "metadata": {},
     "output_type": "execute_result"
    }
   ],
   "source": [
    "triage.chiefcomplaint.value_counts()"
   ]
  },
  {
   "cell_type": "code",
   "execution_count": 20,
   "id": "bfe3d552",
   "metadata": {},
   "outputs": [],
   "source": []
  },
  {
   "cell_type": "code",
   "execution_count": 21,
   "id": "d5e774dd",
   "metadata": {},
   "outputs": [
    {
     "data": {
      "text/html": [
       "<div>\n",
       "<style scoped>\n",
       "    .dataframe tbody tr th:only-of-type {\n",
       "        vertical-align: middle;\n",
       "    }\n",
       "\n",
       "    .dataframe tbody tr th {\n",
       "        vertical-align: top;\n",
       "    }\n",
       "\n",
       "    .dataframe thead th {\n",
       "        text-align: right;\n",
       "    }\n",
       "</style>\n",
       "<table border=\"1\" class=\"dataframe\">\n",
       "  <thead>\n",
       "    <tr style=\"text-align: right;\">\n",
       "      <th></th>\n",
       "      <th>subject_id</th>\n",
       "      <th>hadm_id</th>\n",
       "      <th>stay_id</th>\n",
       "      <th>intime</th>\n",
       "      <th>outtime</th>\n",
       "      <th>gender</th>\n",
       "      <th>race</th>\n",
       "      <th>arrival_transport</th>\n",
       "      <th>disposition</th>\n",
       "    </tr>\n",
       "  </thead>\n",
       "  <tbody>\n",
       "    <tr>\n",
       "      <th>0</th>\n",
       "      <td>10000032</td>\n",
       "      <td>22595853.0</td>\n",
       "      <td>33258284</td>\n",
       "      <td>6/5/2180 19:17</td>\n",
       "      <td>6/5/2180 23:30</td>\n",
       "      <td>F</td>\n",
       "      <td>WHITE</td>\n",
       "      <td>AMBULANCE</td>\n",
       "      <td>ADMITTED</td>\n",
       "    </tr>\n",
       "    <tr>\n",
       "      <th>1</th>\n",
       "      <td>10000032</td>\n",
       "      <td>22841357.0</td>\n",
       "      <td>38112554</td>\n",
       "      <td>26/6/2180 15:54</td>\n",
       "      <td>26/6/2180 21:31</td>\n",
       "      <td>F</td>\n",
       "      <td>WHITE</td>\n",
       "      <td>AMBULANCE</td>\n",
       "      <td>ADMITTED</td>\n",
       "    </tr>\n",
       "    <tr>\n",
       "      <th>2</th>\n",
       "      <td>10000032</td>\n",
       "      <td>25742920.0</td>\n",
       "      <td>35968195</td>\n",
       "      <td>5/8/2180 20:58</td>\n",
       "      <td>6/8/2180 1:44</td>\n",
       "      <td>F</td>\n",
       "      <td>WHITE</td>\n",
       "      <td>AMBULANCE</td>\n",
       "      <td>ADMITTED</td>\n",
       "    </tr>\n",
       "    <tr>\n",
       "      <th>3</th>\n",
       "      <td>10000032</td>\n",
       "      <td>29079034.0</td>\n",
       "      <td>32952584</td>\n",
       "      <td>22/7/2180 16:24</td>\n",
       "      <td>23/7/2180 5:54</td>\n",
       "      <td>F</td>\n",
       "      <td>WHITE</td>\n",
       "      <td>AMBULANCE</td>\n",
       "      <td>HOME</td>\n",
       "    </tr>\n",
       "    <tr>\n",
       "      <th>4</th>\n",
       "      <td>10000032</td>\n",
       "      <td>29079034.0</td>\n",
       "      <td>39399961</td>\n",
       "      <td>23/7/2180 5:54</td>\n",
       "      <td>23/7/2180 14:00</td>\n",
       "      <td>F</td>\n",
       "      <td>WHITE</td>\n",
       "      <td>AMBULANCE</td>\n",
       "      <td>ADMITTED</td>\n",
       "    </tr>\n",
       "  </tbody>\n",
       "</table>\n",
       "</div>"
      ],
      "text/plain": [
       "   subject_id     hadm_id   stay_id           intime          outtime gender  \\\n",
       "0    10000032  22595853.0  33258284   6/5/2180 19:17   6/5/2180 23:30      F   \n",
       "1    10000032  22841357.0  38112554  26/6/2180 15:54  26/6/2180 21:31      F   \n",
       "2    10000032  25742920.0  35968195   5/8/2180 20:58    6/8/2180 1:44      F   \n",
       "3    10000032  29079034.0  32952584  22/7/2180 16:24   23/7/2180 5:54      F   \n",
       "4    10000032  29079034.0  39399961   23/7/2180 5:54  23/7/2180 14:00      F   \n",
       "\n",
       "    race arrival_transport disposition  \n",
       "0  WHITE         AMBULANCE    ADMITTED  \n",
       "1  WHITE         AMBULANCE    ADMITTED  \n",
       "2  WHITE         AMBULANCE    ADMITTED  \n",
       "3  WHITE         AMBULANCE        HOME  \n",
       "4  WHITE         AMBULANCE    ADMITTED  "
      ]
     },
     "execution_count": 21,
     "metadata": {},
     "output_type": "execute_result"
    }
   ],
   "source": [
    "edstays.head()"
   ]
  },
  {
   "cell_type": "code",
   "execution_count": 23,
   "id": "79558d4e",
   "metadata": {},
   "outputs": [
    {
     "data": {
      "text/plain": [
       "HOME        254545\n",
       "ADMITTED    166303\n",
       "TRANSFER      7436\n",
       "Name: disposition, dtype: int64"
      ]
     },
     "execution_count": 23,
     "metadata": {},
     "output_type": "execute_result"
    }
   ],
   "source": [
    "edstays_sub = edstays[edstays.disposition.isin(['ADMITTED', 'HOME','TRANSFER'])]\n",
    "edstays_sub.disposition.value_counts()"
   ]
  },
  {
   "cell_type": "code",
   "execution_count": 25,
   "id": "4084b580",
   "metadata": {},
   "outputs": [
    {
     "name": "stderr",
     "output_type": "stream",
     "text": [
      "c:\\users\\samgh\\py_env\\lib\\site-packages\\ipykernel_launcher.py:7: SettingWithCopyWarning: \n",
      "A value is trying to be set on a copy of a slice from a DataFrame.\n",
      "Try using .loc[row_indexer,col_indexer] = value instead\n",
      "\n",
      "See the caveats in the documentation: https://pandas.pydata.org/pandas-docs/stable/user_guide/indexing.html#returning-a-view-versus-a-copy\n",
      "  import sys\n"
     ]
    },
    {
     "data": {
      "text/plain": [
       "0    254545\n",
       "1    173739\n",
       "Name: admitted, dtype: int64"
      ]
     },
     "execution_count": 25,
     "metadata": {},
     "output_type": "execute_result"
    }
   ],
   "source": [
    "edstays_sub['admitted'] = edstays_sub.apply(get_admission,axis=1) \n",
    "edstays_sub.admitted.value_counts()"
   ]
  },
  {
   "cell_type": "code",
   "execution_count": 26,
   "id": "38b3026d",
   "metadata": {},
   "outputs": [],
   "source": [
    "# what tokens in complaints are most common in each\n",
    "\n",
    "all_data = pd.merge(edstays_sub, triage, on=['subject_id','stay_id'], how='left')"
   ]
  },
  {
   "cell_type": "code",
   "execution_count": 31,
   "id": "ae088dfc",
   "metadata": {},
   "outputs": [
    {
     "data": {
      "text/plain": [
       "admitted\n",
       "0           254545\n",
       "1           173739\n",
       "dtype: int64"
      ]
     },
     "execution_count": 31,
     "metadata": {},
     "output_type": "execute_result"
    }
   ],
   "source": [
    "all_data[['admitted']].value_counts()"
   ]
  },
  {
   "cell_type": "code",
   "execution_count": 34,
   "id": "abd7724c",
   "metadata": {},
   "outputs": [
    {
     "data": {
      "text/plain": [
       "admitted  chiefcomplaint                              \n",
       "0         chest pain                                      9106\n",
       "          abd pain                                        8461\n",
       "1         abd pain                                        7266\n",
       "          dyspnea                                         5406\n",
       "0         s/p fall                                        4765\n",
       "                                                          ... \n",
       "1         back pain, positive blood cultures, transfer       1\n",
       "          back pain, pneumonia, transfer                     1\n",
       "          back pain, pneumonia                               1\n",
       "          back pain, pleuritic chest pain                    1\n",
       "0          10 min vision change                              1\n",
       "Length: 67962, dtype: int64"
      ]
     },
     "execution_count": 34,
     "metadata": {},
     "output_type": "execute_result"
    }
   ],
   "source": [
    "all_data[['admitted', 'chiefcomplaint']].value_counts()"
   ]
  },
  {
   "cell_type": "code",
   "execution_count": 98,
   "id": "1cba4418",
   "metadata": {},
   "outputs": [],
   "source": [
    "home_tokens = all_data[all_data.admitted==0]['chiefcomplaint']\n",
    "home_tokens = [x.split(', ') for x in home_tokens]\n",
    "home_tokens_flat = list()\n",
    "for tokens in home_tokens:\n",
    "    for token in tokens:\n",
    "        home_tokens_flat.append(token)\n",
    "home_counts = pd.DataFrame(data={'home_count':home_tokens_flat}).home_count.value_counts()\n",
    "\n",
    "home_counts_df = pd.DataFrame(home_counts).reset_index()\n",
    "\n",
    "\n",
    "admit_tokens = all_data[all_data.admitted==1]['chiefcomplaint']\n",
    "admit_tokens = [x.split(', ') for x in admit_tokens]\n",
    "admit_tokens_flat = list()\n",
    "for tokens in admit_tokens:\n",
    "    for token in tokens:\n",
    "        admit_tokens_flat.append(token)\n",
    "admit_counts = pd.DataFrame(data={'admit_count':admit_tokens_flat}).admit_count.value_counts()\n",
    "\n",
    "admit_counts_df = pd.DataFrame(admit_counts).reset_index()\n",
    "\n",
    "all_tokens = all_data['chiefcomplaint']\n",
    "all_tokens = [x.split(', ') for x in all_tokens]\n",
    "all_tokens_flat = list()\n",
    "for tokens in all_tokens:\n",
    "    for token in tokens:\n",
    "        all_tokens_flat.append(token)\n",
    "total_counts = pd.DataFrame(data={'total':all_tokens_flat}).total.value_counts()\n",
    "\n",
    "total_counts_df = pd.DataFrame(total_counts).reset_index()\n",
    "\n",
    "all_counts = pd.merge(\n",
    "    pd.merge(total_counts_df, home_counts_df, on='index', how='left'),\n",
    "    admit_counts_df, on = 'index', how='left')\n",
    "all_counts\n",
    "\n",
    "all_counts = all_counts.fillna(0)\n",
    "\n",
    "all_counts['home_pp'] = all_counts['home_count']/all_counts['total']\n",
    "all_counts['admit_pp'] = all_counts['admit_count']/all_counts['total']\n"
   ]
  },
  {
   "cell_type": "code",
   "execution_count": 110,
   "id": "4c55dc64",
   "metadata": {},
   "outputs": [],
   "source": [
    "all_counts_sub = all_counts[all_counts.total > 10]"
   ]
  },
  {
   "cell_type": "code",
   "execution_count": 106,
   "id": "03276967",
   "metadata": {},
   "outputs": [],
   "source": [
    "all_counts['home_pp'] = all_counts['home_count']/all_counts['total']\n",
    "all_counts['admit_pp'] = all_counts['admit_count']/all_counts['total']\n"
   ]
  },
  {
   "cell_type": "code",
   "execution_count": 112,
   "id": "acb4651a",
   "metadata": {},
   "outputs": [
    {
     "data": {
      "text/html": [
       "<div>\n",
       "<style scoped>\n",
       "    .dataframe tbody tr th:only-of-type {\n",
       "        vertical-align: middle;\n",
       "    }\n",
       "\n",
       "    .dataframe tbody tr th {\n",
       "        vertical-align: top;\n",
       "    }\n",
       "\n",
       "    .dataframe thead th {\n",
       "        text-align: right;\n",
       "    }\n",
       "</style>\n",
       "<table border=\"1\" class=\"dataframe\">\n",
       "  <thead>\n",
       "    <tr style=\"text-align: right;\">\n",
       "      <th></th>\n",
       "      <th>index</th>\n",
       "      <th>total</th>\n",
       "      <th>home_count</th>\n",
       "      <th>admit_count</th>\n",
       "      <th>home_pp</th>\n",
       "      <th>admit_pp</th>\n",
       "    </tr>\n",
       "  </thead>\n",
       "  <tbody>\n",
       "    <tr>\n",
       "      <th>1321</th>\n",
       "      <td>cold foot</td>\n",
       "      <td>12</td>\n",
       "      <td>0.0</td>\n",
       "      <td>12.0</td>\n",
       "      <td>0.0</td>\n",
       "      <td>1.0</td>\n",
       "    </tr>\n",
       "    <tr>\n",
       "      <th>874</th>\n",
       "      <td>pelvic fx</td>\n",
       "      <td>22</td>\n",
       "      <td>0.0</td>\n",
       "      <td>22.0</td>\n",
       "      <td>0.0</td>\n",
       "      <td>1.0</td>\n",
       "    </tr>\n",
       "    <tr>\n",
       "      <th>1196</th>\n",
       "      <td>for ercp</td>\n",
       "      <td>13</td>\n",
       "      <td>0.0</td>\n",
       "      <td>13.0</td>\n",
       "      <td>0.0</td>\n",
       "      <td>1.0</td>\n",
       "    </tr>\n",
       "    <tr>\n",
       "      <th>1385</th>\n",
       "      <td>dissection</td>\n",
       "      <td>11</td>\n",
       "      <td>0.0</td>\n",
       "      <td>11.0</td>\n",
       "      <td>0.0</td>\n",
       "      <td>1.0</td>\n",
       "    </tr>\n",
       "    <tr>\n",
       "      <th>1179</th>\n",
       "      <td>tib/fib fx</td>\n",
       "      <td>14</td>\n",
       "      <td>0.0</td>\n",
       "      <td>14.0</td>\n",
       "      <td>0.0</td>\n",
       "      <td>1.0</td>\n",
       "    </tr>\n",
       "    <tr>\n",
       "      <th>...</th>\n",
       "      <td>...</td>\n",
       "      <td>...</td>\n",
       "      <td>...</td>\n",
       "      <td>...</td>\n",
       "      <td>...</td>\n",
       "      <td>...</td>\n",
       "    </tr>\n",
       "    <tr>\n",
       "      <th>1211</th>\n",
       "      <td>sinus congestion</td>\n",
       "      <td>13</td>\n",
       "      <td>13.0</td>\n",
       "      <td>0.0</td>\n",
       "      <td>1.0</td>\n",
       "      <td>0.0</td>\n",
       "    </tr>\n",
       "    <tr>\n",
       "      <th>1214</th>\n",
       "      <td>accidental ingestion</td>\n",
       "      <td>13</td>\n",
       "      <td>13.0</td>\n",
       "      <td>0.0</td>\n",
       "      <td>1.0</td>\n",
       "      <td>0.0</td>\n",
       "    </tr>\n",
       "    <tr>\n",
       "      <th>727</th>\n",
       "      <td>chin lac</td>\n",
       "      <td>32</td>\n",
       "      <td>32.0</td>\n",
       "      <td>0.0</td>\n",
       "      <td>1.0</td>\n",
       "      <td>0.0</td>\n",
       "    </tr>\n",
       "    <tr>\n",
       "      <th>1192</th>\n",
       "      <td>rabies shot</td>\n",
       "      <td>13</td>\n",
       "      <td>13.0</td>\n",
       "      <td>0.0</td>\n",
       "      <td>1.0</td>\n",
       "      <td>0.0</td>\n",
       "    </tr>\n",
       "    <tr>\n",
       "      <th>1209</th>\n",
       "      <td>tongue laceration</td>\n",
       "      <td>13</td>\n",
       "      <td>13.0</td>\n",
       "      <td>0.0</td>\n",
       "      <td>1.0</td>\n",
       "      <td>0.0</td>\n",
       "    </tr>\n",
       "  </tbody>\n",
       "</table>\n",
       "<p>1400 rows × 6 columns</p>\n",
       "</div>"
      ],
      "text/plain": [
       "                     index  total  home_count  admit_count  home_pp  admit_pp\n",
       "1321             cold foot     12         0.0         12.0      0.0       1.0\n",
       "874              pelvic fx     22         0.0         22.0      0.0       1.0\n",
       "1196              for ercp     13         0.0         13.0      0.0       1.0\n",
       "1385            dissection     11         0.0         11.0      0.0       1.0\n",
       "1179            tib/fib fx     14         0.0         14.0      0.0       1.0\n",
       "...                    ...    ...         ...          ...      ...       ...\n",
       "1211      sinus congestion     13        13.0          0.0      1.0       0.0\n",
       "1214  accidental ingestion     13        13.0          0.0      1.0       0.0\n",
       "727               chin lac     32        32.0          0.0      1.0       0.0\n",
       "1192           rabies shot     13        13.0          0.0      1.0       0.0\n",
       "1209     tongue laceration     13        13.0          0.0      1.0       0.0\n",
       "\n",
       "[1400 rows x 6 columns]"
      ]
     },
     "execution_count": 112,
     "metadata": {},
     "output_type": "execute_result"
    }
   ],
   "source": [
    "all_counts_sub.sort_values(by='home_pp')"
   ]
  },
  {
   "cell_type": "code",
   "execution_count": 113,
   "id": "0baae6ad",
   "metadata": {},
   "outputs": [],
   "source": [
    "all_counts_sub.to_csv('chiefcomplaint_token_counts_by_admit.csv')"
   ]
  },
  {
   "cell_type": "code",
   "execution_count": 114,
   "id": "7edef0d5",
   "metadata": {},
   "outputs": [],
   "source": [
    "# look at exceptions with high (rest of triage data)"
   ]
  },
  {
   "cell_type": "code",
   "execution_count": 118,
   "id": "7a704ad9",
   "metadata": {},
   "outputs": [
    {
     "data": {
      "text/plain": [
       "HOME                           254545\n",
       "ADMITTED                       166303\n",
       "TRANSFER                         7436\n",
       "LEFT WITHOUT BEING SEEN          6516\n",
       "ELOPED                           6011\n",
       "OTHER                            4520\n",
       "LEFT AGAINST MEDICAL ADVICE      1986\n",
       "EXPIRED                           395\n",
       "Name: disposition, dtype: int64"
      ]
     },
     "execution_count": 118,
     "metadata": {},
     "output_type": "execute_result"
    }
   ],
   "source": [
    "edstays.disposition.value_counts()"
   ]
  },
  {
   "cell_type": "code",
   "execution_count": 135,
   "id": "0eedfecc",
   "metadata": {},
   "outputs": [
    {
     "name": "stderr",
     "output_type": "stream",
     "text": [
      "c:\\users\\samgh\\py_env\\lib\\site-packages\\ipykernel_launcher.py:9: SettingWithCopyWarning: \n",
      "A value is trying to be set on a copy of a slice from a DataFrame.\n",
      "Try using .loc[row_indexer,col_indexer] = value instead\n",
      "\n",
      "See the caveats in the documentation: https://pandas.pydata.org/pandas-docs/stable/user_guide/indexing.html#returning-a-view-versus-a-copy\n",
      "  if __name__ == '__main__':\n"
     ]
    }
   ],
   "source": [
    "expired_df = edstays[edstays.disposition.isin(['ADMITTED','TRANSFER','EXPIRED'])]\n",
    "\n",
    "def get_expired(x):\n",
    "    if x['disposition'] == 'EXPIRED':\n",
    "        return 1\n",
    "    else:\n",
    "        return 0\n",
    "\n",
    "expired_df['expired'] = expired_df.apply(get_expired,axis=1) "
   ]
  },
  {
   "cell_type": "code",
   "execution_count": 136,
   "id": "8cccb806",
   "metadata": {},
   "outputs": [
    {
     "data": {
      "text/plain": [
       "0    173739\n",
       "1       395\n",
       "Name: expired, dtype: int64"
      ]
     },
     "execution_count": 136,
     "metadata": {},
     "output_type": "execute_result"
    }
   ],
   "source": [
    "expired_df.expired.value_counts()"
   ]
  },
  {
   "cell_type": "code",
   "execution_count": 139,
   "id": "8ecedf69",
   "metadata": {},
   "outputs": [
    {
     "data": {
      "text/html": [
       "<div>\n",
       "<style scoped>\n",
       "    .dataframe tbody tr th:only-of-type {\n",
       "        vertical-align: middle;\n",
       "    }\n",
       "\n",
       "    .dataframe tbody tr th {\n",
       "        vertical-align: top;\n",
       "    }\n",
       "\n",
       "    .dataframe thead th {\n",
       "        text-align: right;\n",
       "    }\n",
       "</style>\n",
       "<table border=\"1\" class=\"dataframe\">\n",
       "  <thead>\n",
       "    <tr style=\"text-align: right;\">\n",
       "      <th>expired</th>\n",
       "      <th>0</th>\n",
       "      <th>1</th>\n",
       "    </tr>\n",
       "    <tr>\n",
       "      <th>gender</th>\n",
       "      <th></th>\n",
       "      <th></th>\n",
       "    </tr>\n",
       "  </thead>\n",
       "  <tbody>\n",
       "    <tr>\n",
       "      <th>F</th>\n",
       "      <td>89156</td>\n",
       "      <td>183</td>\n",
       "    </tr>\n",
       "    <tr>\n",
       "      <th>M</th>\n",
       "      <td>84583</td>\n",
       "      <td>212</td>\n",
       "    </tr>\n",
       "  </tbody>\n",
       "</table>\n",
       "</div>"
      ],
      "text/plain": [
       "expired      0    1\n",
       "gender             \n",
       "F        89156  183\n",
       "M        84583  212"
      ]
     },
     "execution_count": 139,
     "metadata": {},
     "output_type": "execute_result"
    }
   ],
   "source": [
    "all_data = pd.merge(expired_df, triage, on=['subject_id','stay_id'], how='left')\n",
    "pd.crosstab(all_data.gender, all_data.expired)"
   ]
  },
  {
   "cell_type": "code",
   "execution_count": 141,
   "id": "1d33c17a",
   "metadata": {},
   "outputs": [],
   "source": [
    "home_tokens = all_data[all_data.expired==0]['chiefcomplaint']\n",
    "home_tokens = [x.split(', ') for x in home_tokens]\n",
    "home_tokens_flat = list()\n",
    "for tokens in home_tokens:\n",
    "    for token in tokens:\n",
    "        home_tokens_flat.append(token)\n",
    "home_counts = pd.DataFrame(data={'discharge_count':home_tokens_flat}).discharge_count.value_counts()\n",
    "\n",
    "home_counts_df = pd.DataFrame(home_counts).reset_index()\n",
    "\n",
    "\n",
    "admit_tokens = all_data[all_data.expired==1]['chiefcomplaint']\n",
    "admit_tokens = [x.split(', ') for x in admit_tokens]\n",
    "admit_tokens_flat = list()\n",
    "for tokens in admit_tokens:\n",
    "    for token in tokens:\n",
    "        admit_tokens_flat.append(token)\n",
    "admit_counts = pd.DataFrame(data={'expire_count':admit_tokens_flat}).expire_count.value_counts()\n",
    "\n",
    "admit_counts_df = pd.DataFrame(admit_counts).reset_index()\n",
    "\n",
    "all_tokens = all_data['chiefcomplaint']\n",
    "all_tokens = [x.split(', ') for x in all_tokens]\n",
    "all_tokens_flat = list()\n",
    "for tokens in all_tokens:\n",
    "    for token in tokens:\n",
    "        all_tokens_flat.append(token)\n",
    "total_counts = pd.DataFrame(data={'total':all_tokens_flat}).total.value_counts()\n",
    "\n",
    "total_counts_df = pd.DataFrame(total_counts).reset_index()\n",
    "\n",
    "all_counts = pd.merge(\n",
    "    pd.merge(total_counts_df, home_counts_df, on='index', how='left'),\n",
    "    admit_counts_df, on = 'index', how='left')\n",
    "all_counts\n",
    "\n",
    "all_counts = all_counts.fillna(0)\n",
    "\n",
    "all_counts['discharge_pp'] = all_counts['discharge_count']/all_counts['total']\n",
    "all_counts['expired_pp'] = all_counts['expire_count']/all_counts['total']"
   ]
  },
  {
   "cell_type": "code",
   "execution_count": 144,
   "id": "143d89b0",
   "metadata": {},
   "outputs": [],
   "source": [
    "all_counts.to_csv('expire_counts_complaints.csv')"
   ]
  },
  {
   "cell_type": "code",
   "execution_count": null,
   "id": "607f30e6",
   "metadata": {},
   "outputs": [],
   "source": []
  }
 ],
 "metadata": {
  "kernelspec": {
   "display_name": "Python 3",
   "language": "python",
   "name": "python3"
  },
  "language_info": {
   "codemirror_mode": {
    "name": "ipython",
    "version": 3
   },
   "file_extension": ".py",
   "mimetype": "text/x-python",
   "name": "python",
   "nbconvert_exporter": "python",
   "pygments_lexer": "ipython3",
   "version": "3.6.4"
  }
 },
 "nbformat": 4,
 "nbformat_minor": 5
}
