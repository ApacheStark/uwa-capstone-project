{
  "nbformat": 4,
  "nbformat_minor": 0,
  "metadata": {
    "colab": {
      "provenance": [],
      "collapsed_sections": [],
      "machine_shape": "hm"
    },
    "kernelspec": {
      "name": "python3",
      "display_name": "Python 3"
    },
    "language_info": {
      "name": "python"
    },
    "accelerator": "GPU"
  },
  "cells": [
    {
      "cell_type": "markdown",
      "source": [
        "# Project 7 - Model combination\n",
        "\n",
        "**Author: Linh Nguyen**<br>\n",
        "\n",
        "**StudentID: 23161711**<br>\n",
        "\n",
        "**Date: Sep 2022**"
      ],
      "metadata": {
        "id": "XPOLav18AlCz"
      }
    },
    {
      "cell_type": "markdown",
      "metadata": {
        "id": "-VHLNSg3f9zp"
      },
      "source": [
        "## 1. Load data and import package"
      ]
    },
    {
      "cell_type": "code",
      "execution_count": 1,
      "metadata": {
        "colab": {
          "base_uri": "https://localhost:8080/"
        },
        "id": "tZp92q0OgCwG",
        "outputId": "866cced4-7b2c-4059-8261-68d78ed083e4"
      },
      "outputs": [
        {
          "output_type": "stream",
          "name": "stdout",
          "text": [
            "Mounted at /content/drive\n",
            "/content/drive/MyDrive/Capstone_project\n"
          ]
        }
      ],
      "source": [
        "from google.colab import drive\n",
        "drive.mount('/content/drive')\n",
        "%cd /content/drive/MyDrive/Capstone_project"
      ]
    },
    {
      "cell_type": "code",
      "execution_count": 74,
      "metadata": {
        "id": "FBKZ4BZggPFQ"
      },
      "outputs": [],
      "source": [
        "import numpy as np\n",
        "import pandas as pd\n",
        "import re\n",
        "from tensorflow import keras\n",
        "from tensorflow.keras.layers import TextVectorization\n",
        "from tensorflow.keras.layers import Embedding\n",
        "from tensorflow.keras import layers\n",
        "import seaborn as sns\n",
        "from matplotlib import pyplot as plt\n",
        "from tensorflow.keras.callbacks import EarlyStopping\n",
        "import  tensorflow as tf\n",
        "from gensim.models import KeyedVectors\n",
        "from sklearn.model_selection import cross_val_score\n",
        "from sklearn.compose import ColumnTransformer\n",
        "from sklearn.preprocessing import OneHotEncoder, StandardScaler, LabelEncoder\n",
        "from sklearn.impute import SimpleImputer\n",
        "from sklearn.metrics import f1_score, accuracy_score, confusion_matrix,ConfusionMatrixDisplay,classification_report, roc_auc_score\n",
        "#tf.compat.v1.disable_v2_behavior()\n",
        "\n"
      ]
    },
    {
      "cell_type": "code",
      "source": [
        "keras.__version__"
      ],
      "metadata": {
        "colab": {
          "base_uri": "https://localhost:8080/",
          "height": 35
        },
        "id": "j-_7TPZUTGv4",
        "outputId": "ddec0c7d-0bdf-4af3-9e90-1a32a2cd2870"
      },
      "execution_count": 3,
      "outputs": [
        {
          "output_type": "execute_result",
          "data": {
            "text/plain": [
              "'2.8.0'"
            ],
            "application/vnd.google.colaboratory.intrinsic+json": {
              "type": "string"
            }
          },
          "metadata": {},
          "execution_count": 3
        }
      ]
    },
    {
      "cell_type": "code",
      "execution_count": 4,
      "metadata": {
        "colab": {
          "base_uri": "https://localhost:8080/"
        },
        "id": "CbUzhv7Ags5L",
        "outputId": "a9391d07-5777-40c6-bfc5-b97aff75f325"
      },
      "outputs": [
        {
          "output_type": "stream",
          "name": "stdout",
          "text": [
            "diagnosis.csv  icd9toicd10cmgem.csv  pyxis.csv\t vitalsign.csv\n",
            "edstays.csv    medrecon.csv\t     triage.csv\n"
          ]
        }
      ],
      "source": [
        "! ls /content/drive/MyDrive/Capstone_project/raw"
      ]
    },
    {
      "cell_type": "markdown",
      "metadata": {
        "id": "kIBZF04oY8qP"
      },
      "source": [
        "# 2. Data cleansing\n"
      ]
    },
    {
      "cell_type": "code",
      "execution_count": 5,
      "metadata": {
        "id": "HXhiUvh_zqrN"
      },
      "outputs": [],
      "source": [
        "edstays = pd.read_csv('raw/edstays.csv')\n",
        "edstays['y_var_adm_text'] = edstays['disposition']\n",
        "edstays.loc[edstays['y_var_adm_text'] == 'TRANSFER', 'y_var_adm_text'] = 'ADMITTED'\n",
        "edstays.loc[edstays['y_var_adm_text'] == 'ELOPED','y_var_adm_text'] = 'MISSING'\n",
        "edstays.loc[edstays['y_var_adm_text'] == 'LEFT WITHOUT BEING SEEN','y_var_adm_text'] = 'MISSING'\n",
        "edstays.loc[edstays['y_var_adm_text'] == 'OTHER','y_var_adm_text'] = 'MISSING'\n",
        "edstays.loc[edstays['y_var_adm_text'] == 'LEFT AGAINST MEDICAL ADVICE','y_var_adm_text'] = 'MISSING'\n",
        "edstays.loc[edstays['y_var_adm_text'] == 'EXPIRED','y_var_adm_text'] = 'MISSING'\n",
        "edstays_admit = edstays[edstays['y_var_adm_text'] !='MISSING'].reset_index(drop = True)\n",
        "edstays_admit['key'] = edstays_admit['subject_id'].astype(str)+'_'+edstays_admit['stay_id'].astype(str)"
      ]
    },
    {
      "cell_type": "code",
      "execution_count": 6,
      "metadata": {
        "id": "msavnwhI1Q9N"
      },
      "outputs": [],
      "source": [
        "edstays_admit.loc[edstays_admit['race'].str.contains('WHITE'), 'race_color'] = 'WHITE'\n",
        "edstays_admit.loc[edstays_admit['race'].str.contains('BLACK'), 'race_color'] = 'BLACK'\n",
        "edstays_admit.loc[edstays_admit['race'].str.contains('ASIAN'), 'race_color'] = 'ASIAN'\n",
        "edstays_admit.loc[edstays_admit['race'].str.contains('LATINO'), 'race_color'] = 'HISPANIC/LATINO'\n",
        "edstays_admit.loc[edstays_admit['race'].str.contains('HISPANIC'), 'race_color'] = 'HISPANIC/LATINO'\n",
        "edstays_admit.loc[edstays_admit['race_color'].isna(), 'race_color'] = 'OTHER'"
      ]
    },
    {
      "cell_type": "code",
      "execution_count": 7,
      "metadata": {
        "id": "BtZvcq5o6q5J"
      },
      "outputs": [],
      "source": [
        "edstays_admit['DateTime_in'] = pd.to_datetime(edstays_admit['intime'], format='%d/%m/%Y %H:%M')\n",
        "edstays_admit['DateTime_out'] = pd.to_datetime(edstays_admit['outtime'], format='%d/%m/%Y %H:%M')"
      ]
    },
    {
      "cell_type": "code",
      "execution_count": 8,
      "metadata": {
        "id": "-D1ku1gk70Gq"
      },
      "outputs": [],
      "source": [
        "edstays_admit['stay'] = edstays_admit['DateTime_out'] - edstays_admit['DateTime_in']"
      ]
    },
    {
      "cell_type": "code",
      "execution_count": 9,
      "metadata": {
        "id": "3zMl3XcZ6i_L"
      },
      "outputs": [],
      "source": [
        "edstays_admit_1 = edstays_admit.sort_values(by = ['subject_id','DateTime_in'], ascending=True).reset_index(drop=True)"
      ]
    },
    {
      "cell_type": "code",
      "execution_count": 10,
      "metadata": {
        "id": "LkKoVWET6xcl"
      },
      "outputs": [],
      "source": [
        "edstay_hist = {}\n",
        "for i in range(len(edstays_admit_1)):\n",
        "    if i == 0:\n",
        "        edstay_hist[i] = 'NO HISTORY'\n",
        "    else:\n",
        "        if edstays_admit_1['subject_id'][i] == edstays_admit_1['subject_id'][i-1]:\n",
        "            edstay_hist[i] = edstays_admit_1['y_var_adm_text'][i-1]\n",
        "        else:\n",
        "            edstay_hist[i] = 'NO HISTORY'"
      ]
    },
    {
      "cell_type": "code",
      "execution_count": 11,
      "metadata": {
        "id": "TTy7pQo67Qh8"
      },
      "outputs": [],
      "source": [
        "edstay_laststay = {}\n",
        "for i in range(len(edstays_admit_1)):\n",
        "    if i == 0:\n",
        "        edstay_laststay[i] = np.timedelta64(0, 'D')\n",
        "    else:\n",
        "        if edstays_admit_1['subject_id'][i] == edstays_admit_1['subject_id'][i-1]: \n",
        "          edstay_laststay[i] = edstays_admit_1['stay'][i-1]+edstay_laststay[i-1]\n",
        "        else:\n",
        "            edstay_laststay[i] = np.timedelta64(0, 'D')"
      ]
    },
    {
      "cell_type": "code",
      "execution_count": 12,
      "metadata": {
        "id": "j0k6Zvbz6_qS"
      },
      "outputs": [],
      "source": [
        "df1 = pd.DataFrame.from_dict(edstay_hist,orient='index')\n",
        "df1.columns = ['historical_stay_status']\n",
        "edstays_admit_1 = pd.merge(edstays_admit_1,df1,how = 'left',left_index=True,right_index=True) "
      ]
    },
    {
      "cell_type": "code",
      "execution_count": 13,
      "metadata": {
        "id": "5oPQRFRc7GJg"
      },
      "outputs": [],
      "source": [
        "df1 = pd.DataFrame.from_dict(edstay_laststay,orient='index')\n",
        "df1.columns = ['historical_stay_length']\n",
        "edstays_admit_1 = pd.merge(edstays_admit_1,df1,how = 'left',left_index=True,right_index=True) "
      ]
    },
    {
      "cell_type": "code",
      "execution_count": 14,
      "metadata": {
        "id": "4xl1iHAW8jiM"
      },
      "outputs": [],
      "source": [
        "edstays_admit_1['historical_stay_length_in_day'] = edstays_admit_1['historical_stay_length']/(np.timedelta64(1, 'D'))"
      ]
    },
    {
      "cell_type": "code",
      "execution_count": 15,
      "metadata": {
        "id": "WKhdPBOYPCNv"
      },
      "outputs": [],
      "source": [
        "edstays_admit_2 = pd.merge(edstays_admit,edstays_admit_1[['historical_stay_status','historical_stay_length','historical_stay_length_in_day','subject_id','stay_id']],how = 'left',on=['subject_id', 'stay_id'])"
      ]
    },
    {
      "cell_type": "code",
      "execution_count": 16,
      "metadata": {
        "colab": {
          "base_uri": "https://localhost:8080/"
        },
        "id": "CL03NDqOOgzU",
        "outputId": "a23c70ba-18ac-4d5a-f5f5-0c45b70537cc"
      },
      "outputs": [
        {
          "output_type": "execute_result",
          "data": {
            "text/plain": [
              "Index(['subject_id', 'hadm_id', 'stay_id', 'intime', 'outtime', 'gender',\n",
              "       'race', 'arrival_transport', 'disposition', 'y_var_adm_text', 'key',\n",
              "       'race_color', 'DateTime_in', 'DateTime_out', 'stay',\n",
              "       'historical_stay_status', 'historical_stay_length',\n",
              "       'historical_stay_length_in_day'],\n",
              "      dtype='object')"
            ]
          },
          "metadata": {},
          "execution_count": 16
        }
      ],
      "source": [
        "edstays_admit_2.columns"
      ]
    },
    {
      "cell_type": "code",
      "execution_count": 17,
      "metadata": {
        "id": "Aw5gGf_Gzump"
      },
      "outputs": [],
      "source": [
        "triage = pd.read_csv('raw/triage.csv')\n"
      ]
    },
    {
      "cell_type": "code",
      "execution_count": 18,
      "metadata": {
        "id": "bGwlY0lW0BKS"
      },
      "outputs": [],
      "source": [
        "edstay_ad = pd.merge(edstays_admit_2,triage,how = 'left',on=['subject_id', 'stay_id'])"
      ]
    },
    {
      "cell_type": "code",
      "execution_count": 19,
      "metadata": {
        "id": "fOssusRI0O3H"
      },
      "outputs": [],
      "source": [
        "edstay_ad['y_var'] = 0\n",
        "edstay_ad.loc[edstay_ad['y_var_adm_text'] == 'ADMITTED', 'y_var']  = 1"
      ]
    },
    {
      "cell_type": "code",
      "execution_count": 20,
      "metadata": {
        "colab": {
          "base_uri": "https://localhost:8080/"
        },
        "id": "Zr7L64Zw2-aZ",
        "outputId": "6fad9643-4dc0-4ecf-84c5-4fa80ea4c1fa"
      },
      "outputs": [
        {
          "output_type": "execute_result",
          "data": {
            "text/plain": [
              "Index(['subject_id', 'hadm_id', 'stay_id', 'intime', 'outtime', 'gender',\n",
              "       'race', 'arrival_transport', 'disposition', 'y_var_adm_text', 'key',\n",
              "       'race_color', 'DateTime_in', 'DateTime_out', 'stay',\n",
              "       'historical_stay_status', 'historical_stay_length',\n",
              "       'historical_stay_length_in_day', 'temperature', 'heartrate', 'resprate',\n",
              "       'o2sat', 'sbp', 'dbp', 'pain', 'acuity', 'chiefcomplaint', 'y_var'],\n",
              "      dtype='object')"
            ]
          },
          "metadata": {},
          "execution_count": 20
        }
      ],
      "source": [
        "edstay_ad.columns"
      ]
    },
    {
      "cell_type": "code",
      "execution_count": 21,
      "metadata": {
        "id": "9QlN0Ska0cjl"
      },
      "outputs": [],
      "source": [
        "edstay_ad1 = edstay_ad.drop(['subject_id','hadm_id','stay_id','intime','outtime','race', 'gender','race_color','disposition','y_var_adm_text','key', 'DateTime_in', 'DateTime_out','stay','historical_stay_length','chiefcomplaint', 'pain', 'y_var'], axis = 1)"
      ]
    },
    {
      "cell_type": "code",
      "execution_count": 22,
      "metadata": {
        "colab": {
          "base_uri": "https://localhost:8080/"
        },
        "id": "aFneIhqr96BF",
        "outputId": "bf4024a5-d9e3-41ce-c4ca-31376ddf15fa"
      },
      "outputs": [
        {
          "output_type": "stream",
          "name": "stdout",
          "text": [
            "<class 'pandas.core.frame.DataFrame'>\n",
            "Int64Index: 428284 entries, 0 to 428283\n",
            "Data columns (total 10 columns):\n",
            " #   Column                         Non-Null Count   Dtype  \n",
            "---  ------                         --------------   -----  \n",
            " 0   arrival_transport              428284 non-null  object \n",
            " 1   historical_stay_status         428284 non-null  object \n",
            " 2   historical_stay_length_in_day  428284 non-null  float64\n",
            " 3   temperature                    405762 non-null  float64\n",
            " 4   heartrate                      412132 non-null  float64\n",
            " 5   resprate                       408822 non-null  float64\n",
            " 6   o2sat                          408594 non-null  float64\n",
            " 7   sbp                            410935 non-null  float64\n",
            " 8   dbp                            410124 non-null  float64\n",
            " 9   acuity                         422216 non-null  float64\n",
            "dtypes: float64(8), object(2)\n",
            "memory usage: 35.9+ MB\n"
          ]
        }
      ],
      "source": [
        "edstay_ad1.info()"
      ]
    },
    {
      "cell_type": "code",
      "execution_count": 23,
      "metadata": {
        "id": "d1yoLyg_rR3M"
      },
      "outputs": [],
      "source": [
        "updated_edstay_ad = edstay_ad1\n",
        "updated_edstay_ad['temperaturemissing'] = updated_edstay_ad['temperature'].isnull().astype(int)\n",
        "updated_edstay_ad['heartratemissing'] = updated_edstay_ad['heartrate'].isnull().astype(int)\n",
        "updated_edstay_ad['respratemissing'] = updated_edstay_ad['resprate'].isnull().astype(int)\n",
        "updated_edstay_ad['o2satmissing'] = updated_edstay_ad['o2sat'].isnull().astype(int)\n",
        "updated_edstay_ad['sbpmissing'] = updated_edstay_ad['sbp'].isnull().astype(int)\n",
        "updated_edstay_ad['dbpmissing'] = updated_edstay_ad['dbp'].isnull().astype(int)\n",
        "updated_edstay_ad['acuitymissing'] = updated_edstay_ad['acuity'].isnull().astype(int)"
      ]
    },
    {
      "cell_type": "code",
      "execution_count": 24,
      "metadata": {
        "id": "-vOMliYoIu-g"
      },
      "outputs": [],
      "source": [
        "num_attr = edstay_ad1.select_dtypes(include=['float64']).columns\n",
        "cat_attr = edstay_ad1.select_dtypes(include=['O']).columns\n",
        "#bool_attr = edstay_ad.select_dtypes(include=['bool']).columns"
      ]
    },
    {
      "cell_type": "code",
      "source": [
        "my_imputer = SimpleImputer(strategy = 'median')\n",
        "updated_edstay_ad[num_attr] = my_imputer.fit_transform(updated_edstay_ad[num_attr])\n",
        "updated_edstay_ad.info()"
      ],
      "metadata": {
        "colab": {
          "base_uri": "https://localhost:8080/"
        },
        "id": "pTeKBcqXNJbJ",
        "outputId": "fffb06ce-7f4a-4dfc-e96e-402c944be9b2"
      },
      "execution_count": 25,
      "outputs": [
        {
          "output_type": "stream",
          "name": "stdout",
          "text": [
            "<class 'pandas.core.frame.DataFrame'>\n",
            "Int64Index: 428284 entries, 0 to 428283\n",
            "Data columns (total 17 columns):\n",
            " #   Column                         Non-Null Count   Dtype  \n",
            "---  ------                         --------------   -----  \n",
            " 0   arrival_transport              428284 non-null  object \n",
            " 1   historical_stay_status         428284 non-null  object \n",
            " 2   historical_stay_length_in_day  428284 non-null  float64\n",
            " 3   temperature                    428284 non-null  float64\n",
            " 4   heartrate                      428284 non-null  float64\n",
            " 5   resprate                       428284 non-null  float64\n",
            " 6   o2sat                          428284 non-null  float64\n",
            " 7   sbp                            428284 non-null  float64\n",
            " 8   dbp                            428284 non-null  float64\n",
            " 9   acuity                         428284 non-null  float64\n",
            " 10  temperaturemissing             428284 non-null  int64  \n",
            " 11  heartratemissing               428284 non-null  int64  \n",
            " 12  respratemissing                428284 non-null  int64  \n",
            " 13  o2satmissing                   428284 non-null  int64  \n",
            " 14  sbpmissing                     428284 non-null  int64  \n",
            " 15  dbpmissing                     428284 non-null  int64  \n",
            " 16  acuitymissing                  428284 non-null  int64  \n",
            "dtypes: float64(8), int64(7), object(2)\n",
            "memory usage: 58.8+ MB\n"
          ]
        }
      ]
    },
    {
      "cell_type": "code",
      "source": [
        "trans_pip = ColumnTransformer([\n",
        "    (\"num\",StandardScaler(), num_attr),\n",
        "    (\"cat\",OneHotEncoder(),cat_attr)\n",
        "],remainder='passthrough')"
      ],
      "metadata": {
        "id": "HgaPD8yHOUUU"
      },
      "execution_count": 26,
      "outputs": []
    },
    {
      "cell_type": "code",
      "execution_count": 27,
      "metadata": {
        "id": "7uVRXHx5iR9F"
      },
      "outputs": [],
      "source": [
        "triage_2 = edstay_ad[['subject_id','stay_id', 'y_var','chiefcomplaint']]"
      ]
    },
    {
      "cell_type": "code",
      "execution_count": 28,
      "metadata": {
        "colab": {
          "base_uri": "https://localhost:8080/",
          "height": 49
        },
        "id": "KNdCBa-yiUGd",
        "outputId": "639d7fcf-fb5b-4336-d130-d954efdc97d7"
      },
      "outputs": [
        {
          "output_type": "execute_result",
          "data": {
            "text/plain": [
              "Empty DataFrame\n",
              "Columns: [subject_id, stay_id, y_var, chiefcomplaint]\n",
              "Index: []"
            ],
            "text/html": [
              "\n",
              "  <div id=\"df-dceff349-6180-41bb-a643-57bf844bcdcd\">\n",
              "    <div class=\"colab-df-container\">\n",
              "      <div>\n",
              "<style scoped>\n",
              "    .dataframe tbody tr th:only-of-type {\n",
              "        vertical-align: middle;\n",
              "    }\n",
              "\n",
              "    .dataframe tbody tr th {\n",
              "        vertical-align: top;\n",
              "    }\n",
              "\n",
              "    .dataframe thead th {\n",
              "        text-align: right;\n",
              "    }\n",
              "</style>\n",
              "<table border=\"1\" class=\"dataframe\">\n",
              "  <thead>\n",
              "    <tr style=\"text-align: right;\">\n",
              "      <th></th>\n",
              "      <th>subject_id</th>\n",
              "      <th>stay_id</th>\n",
              "      <th>y_var</th>\n",
              "      <th>chiefcomplaint</th>\n",
              "    </tr>\n",
              "  </thead>\n",
              "  <tbody>\n",
              "  </tbody>\n",
              "</table>\n",
              "</div>\n",
              "      <button class=\"colab-df-convert\" onclick=\"convertToInteractive('df-dceff349-6180-41bb-a643-57bf844bcdcd')\"\n",
              "              title=\"Convert this dataframe to an interactive table.\"\n",
              "              style=\"display:none;\">\n",
              "        \n",
              "  <svg xmlns=\"http://www.w3.org/2000/svg\" height=\"24px\"viewBox=\"0 0 24 24\"\n",
              "       width=\"24px\">\n",
              "    <path d=\"M0 0h24v24H0V0z\" fill=\"none\"/>\n",
              "    <path d=\"M18.56 5.44l.94 2.06.94-2.06 2.06-.94-2.06-.94-.94-2.06-.94 2.06-2.06.94zm-11 1L8.5 8.5l.94-2.06 2.06-.94-2.06-.94L8.5 2.5l-.94 2.06-2.06.94zm10 10l.94 2.06.94-2.06 2.06-.94-2.06-.94-.94-2.06-.94 2.06-2.06.94z\"/><path d=\"M17.41 7.96l-1.37-1.37c-.4-.4-.92-.59-1.43-.59-.52 0-1.04.2-1.43.59L10.3 9.45l-7.72 7.72c-.78.78-.78 2.05 0 2.83L4 21.41c.39.39.9.59 1.41.59.51 0 1.02-.2 1.41-.59l7.78-7.78 2.81-2.81c.8-.78.8-2.07 0-2.86zM5.41 20L4 18.59l7.72-7.72 1.47 1.35L5.41 20z\"/>\n",
              "  </svg>\n",
              "      </button>\n",
              "      \n",
              "  <style>\n",
              "    .colab-df-container {\n",
              "      display:flex;\n",
              "      flex-wrap:wrap;\n",
              "      gap: 12px;\n",
              "    }\n",
              "\n",
              "    .colab-df-convert {\n",
              "      background-color: #E8F0FE;\n",
              "      border: none;\n",
              "      border-radius: 50%;\n",
              "      cursor: pointer;\n",
              "      display: none;\n",
              "      fill: #1967D2;\n",
              "      height: 32px;\n",
              "      padding: 0 0 0 0;\n",
              "      width: 32px;\n",
              "    }\n",
              "\n",
              "    .colab-df-convert:hover {\n",
              "      background-color: #E2EBFA;\n",
              "      box-shadow: 0px 1px 2px rgba(60, 64, 67, 0.3), 0px 1px 3px 1px rgba(60, 64, 67, 0.15);\n",
              "      fill: #174EA6;\n",
              "    }\n",
              "\n",
              "    [theme=dark] .colab-df-convert {\n",
              "      background-color: #3B4455;\n",
              "      fill: #D2E3FC;\n",
              "    }\n",
              "\n",
              "    [theme=dark] .colab-df-convert:hover {\n",
              "      background-color: #434B5C;\n",
              "      box-shadow: 0px 1px 3px 1px rgba(0, 0, 0, 0.15);\n",
              "      filter: drop-shadow(0px 1px 2px rgba(0, 0, 0, 0.3));\n",
              "      fill: #FFFFFF;\n",
              "    }\n",
              "  </style>\n",
              "\n",
              "      <script>\n",
              "        const buttonEl =\n",
              "          document.querySelector('#df-dceff349-6180-41bb-a643-57bf844bcdcd button.colab-df-convert');\n",
              "        buttonEl.style.display =\n",
              "          google.colab.kernel.accessAllowed ? 'block' : 'none';\n",
              "\n",
              "        async function convertToInteractive(key) {\n",
              "          const element = document.querySelector('#df-dceff349-6180-41bb-a643-57bf844bcdcd');\n",
              "          const dataTable =\n",
              "            await google.colab.kernel.invokeFunction('convertToInteractive',\n",
              "                                                     [key], {});\n",
              "          if (!dataTable) return;\n",
              "\n",
              "          const docLinkHtml = 'Like what you see? Visit the ' +\n",
              "            '<a target=\"_blank\" href=https://colab.research.google.com/notebooks/data_table.ipynb>data table notebook</a>'\n",
              "            + ' to learn more about interactive tables.';\n",
              "          element.innerHTML = '';\n",
              "          dataTable['output_type'] = 'display_data';\n",
              "          await google.colab.output.renderOutput(dataTable, element);\n",
              "          const docLink = document.createElement('div');\n",
              "          docLink.innerHTML = docLinkHtml;\n",
              "          element.appendChild(docLink);\n",
              "        }\n",
              "      </script>\n",
              "    </div>\n",
              "  </div>\n",
              "  "
            ]
          },
          "metadata": {},
          "execution_count": 28
        }
      ],
      "source": [
        "triage_2[triage_2.y_var.isna()]"
      ]
    },
    {
      "cell_type": "code",
      "execution_count": 29,
      "metadata": {
        "colab": {
          "base_uri": "https://localhost:8080/",
          "height": 300
        },
        "id": "yFGua0vwiWSk",
        "outputId": "52abe730-3c1f-46f1-f072-01ba16af85c4"
      },
      "outputs": [
        {
          "output_type": "execute_result",
          "data": {
            "text/plain": [
              "        subject_id   stay_id  y_var chiefcomplaint\n",
              "209834    14913519  33280070      1            NaN\n",
              "219040    15127661  39766508      1            NaN\n",
              "230046    15376111  34216718      1            NaN\n",
              "241580    15632852  37860864      0            NaN\n",
              "307992    17192157  31192693      0            NaN\n",
              "322362    17526143  30744048      1            NaN\n",
              "356784    18321345  37024607      1            NaN\n",
              "360935    18425846  33948058      1            NaN"
            ],
            "text/html": [
              "\n",
              "  <div id=\"df-8ae18bfa-7228-47e1-8731-72473503d78f\">\n",
              "    <div class=\"colab-df-container\">\n",
              "      <div>\n",
              "<style scoped>\n",
              "    .dataframe tbody tr th:only-of-type {\n",
              "        vertical-align: middle;\n",
              "    }\n",
              "\n",
              "    .dataframe tbody tr th {\n",
              "        vertical-align: top;\n",
              "    }\n",
              "\n",
              "    .dataframe thead th {\n",
              "        text-align: right;\n",
              "    }\n",
              "</style>\n",
              "<table border=\"1\" class=\"dataframe\">\n",
              "  <thead>\n",
              "    <tr style=\"text-align: right;\">\n",
              "      <th></th>\n",
              "      <th>subject_id</th>\n",
              "      <th>stay_id</th>\n",
              "      <th>y_var</th>\n",
              "      <th>chiefcomplaint</th>\n",
              "    </tr>\n",
              "  </thead>\n",
              "  <tbody>\n",
              "    <tr>\n",
              "      <th>209834</th>\n",
              "      <td>14913519</td>\n",
              "      <td>33280070</td>\n",
              "      <td>1</td>\n",
              "      <td>NaN</td>\n",
              "    </tr>\n",
              "    <tr>\n",
              "      <th>219040</th>\n",
              "      <td>15127661</td>\n",
              "      <td>39766508</td>\n",
              "      <td>1</td>\n",
              "      <td>NaN</td>\n",
              "    </tr>\n",
              "    <tr>\n",
              "      <th>230046</th>\n",
              "      <td>15376111</td>\n",
              "      <td>34216718</td>\n",
              "      <td>1</td>\n",
              "      <td>NaN</td>\n",
              "    </tr>\n",
              "    <tr>\n",
              "      <th>241580</th>\n",
              "      <td>15632852</td>\n",
              "      <td>37860864</td>\n",
              "      <td>0</td>\n",
              "      <td>NaN</td>\n",
              "    </tr>\n",
              "    <tr>\n",
              "      <th>307992</th>\n",
              "      <td>17192157</td>\n",
              "      <td>31192693</td>\n",
              "      <td>0</td>\n",
              "      <td>NaN</td>\n",
              "    </tr>\n",
              "    <tr>\n",
              "      <th>322362</th>\n",
              "      <td>17526143</td>\n",
              "      <td>30744048</td>\n",
              "      <td>1</td>\n",
              "      <td>NaN</td>\n",
              "    </tr>\n",
              "    <tr>\n",
              "      <th>356784</th>\n",
              "      <td>18321345</td>\n",
              "      <td>37024607</td>\n",
              "      <td>1</td>\n",
              "      <td>NaN</td>\n",
              "    </tr>\n",
              "    <tr>\n",
              "      <th>360935</th>\n",
              "      <td>18425846</td>\n",
              "      <td>33948058</td>\n",
              "      <td>1</td>\n",
              "      <td>NaN</td>\n",
              "    </tr>\n",
              "  </tbody>\n",
              "</table>\n",
              "</div>\n",
              "      <button class=\"colab-df-convert\" onclick=\"convertToInteractive('df-8ae18bfa-7228-47e1-8731-72473503d78f')\"\n",
              "              title=\"Convert this dataframe to an interactive table.\"\n",
              "              style=\"display:none;\">\n",
              "        \n",
              "  <svg xmlns=\"http://www.w3.org/2000/svg\" height=\"24px\"viewBox=\"0 0 24 24\"\n",
              "       width=\"24px\">\n",
              "    <path d=\"M0 0h24v24H0V0z\" fill=\"none\"/>\n",
              "    <path d=\"M18.56 5.44l.94 2.06.94-2.06 2.06-.94-2.06-.94-.94-2.06-.94 2.06-2.06.94zm-11 1L8.5 8.5l.94-2.06 2.06-.94-2.06-.94L8.5 2.5l-.94 2.06-2.06.94zm10 10l.94 2.06.94-2.06 2.06-.94-2.06-.94-.94-2.06-.94 2.06-2.06.94z\"/><path d=\"M17.41 7.96l-1.37-1.37c-.4-.4-.92-.59-1.43-.59-.52 0-1.04.2-1.43.59L10.3 9.45l-7.72 7.72c-.78.78-.78 2.05 0 2.83L4 21.41c.39.39.9.59 1.41.59.51 0 1.02-.2 1.41-.59l7.78-7.78 2.81-2.81c.8-.78.8-2.07 0-2.86zM5.41 20L4 18.59l7.72-7.72 1.47 1.35L5.41 20z\"/>\n",
              "  </svg>\n",
              "      </button>\n",
              "      \n",
              "  <style>\n",
              "    .colab-df-container {\n",
              "      display:flex;\n",
              "      flex-wrap:wrap;\n",
              "      gap: 12px;\n",
              "    }\n",
              "\n",
              "    .colab-df-convert {\n",
              "      background-color: #E8F0FE;\n",
              "      border: none;\n",
              "      border-radius: 50%;\n",
              "      cursor: pointer;\n",
              "      display: none;\n",
              "      fill: #1967D2;\n",
              "      height: 32px;\n",
              "      padding: 0 0 0 0;\n",
              "      width: 32px;\n",
              "    }\n",
              "\n",
              "    .colab-df-convert:hover {\n",
              "      background-color: #E2EBFA;\n",
              "      box-shadow: 0px 1px 2px rgba(60, 64, 67, 0.3), 0px 1px 3px 1px rgba(60, 64, 67, 0.15);\n",
              "      fill: #174EA6;\n",
              "    }\n",
              "\n",
              "    [theme=dark] .colab-df-convert {\n",
              "      background-color: #3B4455;\n",
              "      fill: #D2E3FC;\n",
              "    }\n",
              "\n",
              "    [theme=dark] .colab-df-convert:hover {\n",
              "      background-color: #434B5C;\n",
              "      box-shadow: 0px 1px 3px 1px rgba(0, 0, 0, 0.15);\n",
              "      filter: drop-shadow(0px 1px 2px rgba(0, 0, 0, 0.3));\n",
              "      fill: #FFFFFF;\n",
              "    }\n",
              "  </style>\n",
              "\n",
              "      <script>\n",
              "        const buttonEl =\n",
              "          document.querySelector('#df-8ae18bfa-7228-47e1-8731-72473503d78f button.colab-df-convert');\n",
              "        buttonEl.style.display =\n",
              "          google.colab.kernel.accessAllowed ? 'block' : 'none';\n",
              "\n",
              "        async function convertToInteractive(key) {\n",
              "          const element = document.querySelector('#df-8ae18bfa-7228-47e1-8731-72473503d78f');\n",
              "          const dataTable =\n",
              "            await google.colab.kernel.invokeFunction('convertToInteractive',\n",
              "                                                     [key], {});\n",
              "          if (!dataTable) return;\n",
              "\n",
              "          const docLinkHtml = 'Like what you see? Visit the ' +\n",
              "            '<a target=\"_blank\" href=https://colab.research.google.com/notebooks/data_table.ipynb>data table notebook</a>'\n",
              "            + ' to learn more about interactive tables.';\n",
              "          element.innerHTML = '';\n",
              "          dataTable['output_type'] = 'display_data';\n",
              "          await google.colab.output.renderOutput(dataTable, element);\n",
              "          const docLink = document.createElement('div');\n",
              "          docLink.innerHTML = docLinkHtml;\n",
              "          element.appendChild(docLink);\n",
              "        }\n",
              "      </script>\n",
              "    </div>\n",
              "  </div>\n",
              "  "
            ]
          },
          "metadata": {},
          "execution_count": 29
        }
      ],
      "source": [
        "triage_2[triage_2.chiefcomplaint.isna()]"
      ]
    },
    {
      "cell_type": "code",
      "execution_count": 30,
      "metadata": {
        "colab": {
          "base_uri": "https://localhost:8080/"
        },
        "id": "U1JEt0WmiYG6",
        "outputId": "f665ee3a-ddae-49b8-ef7d-a596c592c8c9"
      },
      "outputs": [
        {
          "output_type": "stream",
          "name": "stderr",
          "text": [
            "/usr/local/lib/python3.7/dist-packages/pandas/core/indexing.py:1817: SettingWithCopyWarning: \n",
            "A value is trying to be set on a copy of a slice from a DataFrame.\n",
            "Try using .loc[row_indexer,col_indexer] = value instead\n",
            "\n",
            "See the caveats in the documentation: https://pandas.pydata.org/pandas-docs/stable/user_guide/indexing.html#returning-a-view-versus-a-copy\n",
            "  self._setitem_single_column(loc, value, pi)\n"
          ]
        }
      ],
      "source": [
        "triage_2.loc[triage_2['chiefcomplaint'].isna(),'chiefcomplaint'] = ''"
      ]
    },
    {
      "cell_type": "code",
      "execution_count": 31,
      "metadata": {
        "colab": {
          "base_uri": "https://localhost:8080/",
          "height": 49
        },
        "id": "Bdjz31XMmhQU",
        "outputId": "72a59d5c-7f15-41cf-c472-c2dfb8cbb604"
      },
      "outputs": [
        {
          "output_type": "execute_result",
          "data": {
            "text/plain": [
              "Empty DataFrame\n",
              "Columns: [subject_id, stay_id, y_var, chiefcomplaint]\n",
              "Index: []"
            ],
            "text/html": [
              "\n",
              "  <div id=\"df-9fa81d78-8f7d-4b21-b093-0d127d4fdc3f\">\n",
              "    <div class=\"colab-df-container\">\n",
              "      <div>\n",
              "<style scoped>\n",
              "    .dataframe tbody tr th:only-of-type {\n",
              "        vertical-align: middle;\n",
              "    }\n",
              "\n",
              "    .dataframe tbody tr th {\n",
              "        vertical-align: top;\n",
              "    }\n",
              "\n",
              "    .dataframe thead th {\n",
              "        text-align: right;\n",
              "    }\n",
              "</style>\n",
              "<table border=\"1\" class=\"dataframe\">\n",
              "  <thead>\n",
              "    <tr style=\"text-align: right;\">\n",
              "      <th></th>\n",
              "      <th>subject_id</th>\n",
              "      <th>stay_id</th>\n",
              "      <th>y_var</th>\n",
              "      <th>chiefcomplaint</th>\n",
              "    </tr>\n",
              "  </thead>\n",
              "  <tbody>\n",
              "  </tbody>\n",
              "</table>\n",
              "</div>\n",
              "      <button class=\"colab-df-convert\" onclick=\"convertToInteractive('df-9fa81d78-8f7d-4b21-b093-0d127d4fdc3f')\"\n",
              "              title=\"Convert this dataframe to an interactive table.\"\n",
              "              style=\"display:none;\">\n",
              "        \n",
              "  <svg xmlns=\"http://www.w3.org/2000/svg\" height=\"24px\"viewBox=\"0 0 24 24\"\n",
              "       width=\"24px\">\n",
              "    <path d=\"M0 0h24v24H0V0z\" fill=\"none\"/>\n",
              "    <path d=\"M18.56 5.44l.94 2.06.94-2.06 2.06-.94-2.06-.94-.94-2.06-.94 2.06-2.06.94zm-11 1L8.5 8.5l.94-2.06 2.06-.94-2.06-.94L8.5 2.5l-.94 2.06-2.06.94zm10 10l.94 2.06.94-2.06 2.06-.94-2.06-.94-.94-2.06-.94 2.06-2.06.94z\"/><path d=\"M17.41 7.96l-1.37-1.37c-.4-.4-.92-.59-1.43-.59-.52 0-1.04.2-1.43.59L10.3 9.45l-7.72 7.72c-.78.78-.78 2.05 0 2.83L4 21.41c.39.39.9.59 1.41.59.51 0 1.02-.2 1.41-.59l7.78-7.78 2.81-2.81c.8-.78.8-2.07 0-2.86zM5.41 20L4 18.59l7.72-7.72 1.47 1.35L5.41 20z\"/>\n",
              "  </svg>\n",
              "      </button>\n",
              "      \n",
              "  <style>\n",
              "    .colab-df-container {\n",
              "      display:flex;\n",
              "      flex-wrap:wrap;\n",
              "      gap: 12px;\n",
              "    }\n",
              "\n",
              "    .colab-df-convert {\n",
              "      background-color: #E8F0FE;\n",
              "      border: none;\n",
              "      border-radius: 50%;\n",
              "      cursor: pointer;\n",
              "      display: none;\n",
              "      fill: #1967D2;\n",
              "      height: 32px;\n",
              "      padding: 0 0 0 0;\n",
              "      width: 32px;\n",
              "    }\n",
              "\n",
              "    .colab-df-convert:hover {\n",
              "      background-color: #E2EBFA;\n",
              "      box-shadow: 0px 1px 2px rgba(60, 64, 67, 0.3), 0px 1px 3px 1px rgba(60, 64, 67, 0.15);\n",
              "      fill: #174EA6;\n",
              "    }\n",
              "\n",
              "    [theme=dark] .colab-df-convert {\n",
              "      background-color: #3B4455;\n",
              "      fill: #D2E3FC;\n",
              "    }\n",
              "\n",
              "    [theme=dark] .colab-df-convert:hover {\n",
              "      background-color: #434B5C;\n",
              "      box-shadow: 0px 1px 3px 1px rgba(0, 0, 0, 0.15);\n",
              "      filter: drop-shadow(0px 1px 2px rgba(0, 0, 0, 0.3));\n",
              "      fill: #FFFFFF;\n",
              "    }\n",
              "  </style>\n",
              "\n",
              "      <script>\n",
              "        const buttonEl =\n",
              "          document.querySelector('#df-9fa81d78-8f7d-4b21-b093-0d127d4fdc3f button.colab-df-convert');\n",
              "        buttonEl.style.display =\n",
              "          google.colab.kernel.accessAllowed ? 'block' : 'none';\n",
              "\n",
              "        async function convertToInteractive(key) {\n",
              "          const element = document.querySelector('#df-9fa81d78-8f7d-4b21-b093-0d127d4fdc3f');\n",
              "          const dataTable =\n",
              "            await google.colab.kernel.invokeFunction('convertToInteractive',\n",
              "                                                     [key], {});\n",
              "          if (!dataTable) return;\n",
              "\n",
              "          const docLinkHtml = 'Like what you see? Visit the ' +\n",
              "            '<a target=\"_blank\" href=https://colab.research.google.com/notebooks/data_table.ipynb>data table notebook</a>'\n",
              "            + ' to learn more about interactive tables.';\n",
              "          element.innerHTML = '';\n",
              "          dataTable['output_type'] = 'display_data';\n",
              "          await google.colab.output.renderOutput(dataTable, element);\n",
              "          const docLink = document.createElement('div');\n",
              "          docLink.innerHTML = docLinkHtml;\n",
              "          element.appendChild(docLink);\n",
              "        }\n",
              "      </script>\n",
              "    </div>\n",
              "  </div>\n",
              "  "
            ]
          },
          "metadata": {},
          "execution_count": 31
        }
      ],
      "source": [
        "triage_2[triage_2['chiefcomplaint'].isna()]"
      ]
    },
    {
      "cell_type": "code",
      "execution_count": 33,
      "metadata": {
        "colab": {
          "base_uri": "https://localhost:8080/"
        },
        "id": "16YXIBH_ioRr",
        "outputId": "2fdc1b38-94d5-461d-f332-8f22462805f1"
      },
      "outputs": [
        {
          "output_type": "stream",
          "name": "stderr",
          "text": [
            "/usr/local/lib/python3.7/dist-packages/pandas/core/generic.py:5516: SettingWithCopyWarning: \n",
            "A value is trying to be set on a copy of a slice from a DataFrame.\n",
            "Try using .loc[row_indexer,col_indexer] = value instead\n",
            "\n",
            "See the caveats in the documentation: https://pandas.pydata.org/pandas-docs/stable/user_guide/indexing.html#returning-a-view-versus-a-copy\n",
            "  self[name] = value\n"
          ]
        }
      ],
      "source": [
        "# Preprocess the job_description (remove the weird part of strings)\n",
        "def preprocess_text(text):\n",
        "    if type(text) == float:\n",
        "        return text\n",
        "    text = text.lower()\n",
        "    text = re.sub(r\"([.,!?])\", r\" \\1 \", text)\n",
        "    text = re.sub(r\"[^a-zA-Z.,!?]+\", r\" \", text)\n",
        "    return text\n",
        "    \n",
        "triage_2.chiefcomplaint = triage_2.chiefcomplaint.apply(preprocess_text)"
      ]
    },
    {
      "cell_type": "code",
      "execution_count": 34,
      "metadata": {
        "id": "611DCkBZipYq"
      },
      "outputs": [],
      "source": [
        "df_pre_icd_full = pd.read_csv('previous_icd_code.csv')\n",
        "\n",
        "triage_3 = pd.merge(triage_2,df_pre_icd_full, how = \"left\",on=['subject_id', 'stay_id'])"
      ]
    },
    {
      "cell_type": "markdown",
      "metadata": {
        "id": "OeSk69mei0Uf"
      },
      "source": [
        "# 2. Text data overview"
      ]
    },
    {
      "cell_type": "code",
      "execution_count": null,
      "metadata": {
        "id": "B2tgKLDgkHqd"
      },
      "outputs": [],
      "source": [
        "# 2. Split the dataset"
      ]
    },
    {
      "cell_type": "code",
      "execution_count": 35,
      "metadata": {
        "id": "KcYxPXiMkKtR"
      },
      "outputs": [],
      "source": [
        "#set random index, create train set and validation set from the original train set\n",
        "\n",
        "#create array of random index\n",
        "np.random.seed(123)\n",
        "ind = np.arange(len(triage_3))\n",
        "np.random.shuffle(ind)\n",
        "#create testing index  = 0 to 0.20 * random index\n",
        "test_index = ind[:int(len(triage_3) * 0.20)]\n",
        "#create val index  = 0.20 to 0.30 * random index\n",
        "val_index = ind[int(len(triage_3) * 0.20):int(len(triage_3) * 0.30)]\n",
        "#create train index = 0.30 * random index to end\n",
        "train_index = ind[int(len(triage_3) * 0.30):]"
      ]
    },
    {
      "cell_type": "code",
      "execution_count": 36,
      "metadata": {
        "id": "PGASQwJ1lIY3"
      },
      "outputs": [],
      "source": [
        "train_samples_chief =  triage_3.chiefcomplaint[train_index]\n",
        "train_samples_his =  triage_3.pre_icd_code[train_index]\n",
        "val_samples_chief =  triage_3.chiefcomplaint[val_index]\n",
        "val_samples_his =  triage_3.pre_icd_code[val_index]\n",
        "test_samples_chief =  triage_3.chiefcomplaint[test_index]\n",
        "test_samples_his =  triage_3.pre_icd_code[test_index]\n",
        "train_samples_o =  updated_edstay_ad.iloc[train_index]\n",
        "val_samples_o =  updated_edstay_ad.iloc[val_index]\n",
        "test_samples_o =  updated_edstay_ad.iloc[test_index]\n",
        "train_labels =  triage_3.y_var[train_index]\n",
        "val_labels = triage_3.y_var[val_index]\n",
        "test_labels = triage_3.y_var[test_index]"
      ]
    },
    {
      "cell_type": "markdown",
      "metadata": {
        "id": "1Ppo387um95r"
      },
      "source": [
        "# 3. Embedding for chief complaint and historical icd code\n",
        "\n",
        "### 3.1 Embedding for chief complaint"
      ]
    },
    {
      "cell_type": "code",
      "execution_count": 37,
      "metadata": {
        "id": "IltdDsh2nFCj"
      },
      "outputs": [],
      "source": [
        "vectorizer = TextVectorization(output_sequence_length=5)\n",
        "text_ds = tf.data.Dataset.from_tensor_slices(train_samples_chief).batch(128)\n",
        "vectorizer.adapt(text_ds)"
      ]
    },
    {
      "cell_type": "code",
      "execution_count": 38,
      "metadata": {
        "colab": {
          "base_uri": "https://localhost:8080/"
        },
        "id": "Xj9dlAkem9La",
        "outputId": "a635edd8-a072-4242-c7b8-1efb3297f2df"
      },
      "outputs": [
        {
          "output_type": "execute_result",
          "data": {
            "text/plain": [
              "['', '[UNK]', 'pain', 'abd', 'l']"
            ]
          },
          "metadata": {},
          "execution_count": 38
        }
      ],
      "source": [
        "#print top 5 words\n",
        "vectorizer.get_vocabulary()[:5]"
      ]
    },
    {
      "cell_type": "code",
      "execution_count": 39,
      "metadata": {
        "colab": {
          "base_uri": "https://localhost:8080/"
        },
        "id": "N23Bavr3na6P",
        "outputId": "1c309af6-fee0-4e0e-92db-4d44b848748e"
      },
      "outputs": [
        {
          "output_type": "execute_result",
          "data": {
            "text/plain": [
              "array([ 3,  2, 28, 20,  0])"
            ]
          },
          "metadata": {},
          "execution_count": 39
        }
      ],
      "source": [
        "#example of vectorizing a sentences:\n",
        "output = vectorizer([[\"Abd pain, Wound eval\"]])\n",
        "output.numpy()[0, :6]"
      ]
    },
    {
      "cell_type": "code",
      "execution_count": 40,
      "metadata": {
        "id": "oPirBJSJnpHb"
      },
      "outputs": [],
      "source": [
        "#build vocabulary dictionary for chief complaint:\n",
        "voc = vectorizer.get_vocabulary()\n",
        "word_index = dict(zip(voc, range(len(voc))))"
      ]
    },
    {
      "cell_type": "code",
      "execution_count": 41,
      "metadata": {
        "id": "hwWyTKhgn0Qm"
      },
      "outputs": [],
      "source": [
        "#load the model w2vec for chief complaint:\n",
        "model_w2v = KeyedVectors.load_word2vec_format('W2vec/BioWordVec_PubMed_MIMICIII_d200.vec.bin', binary=True)"
      ]
    },
    {
      "cell_type": "code",
      "execution_count": 42,
      "metadata": {
        "colab": {
          "base_uri": "https://localhost:8080/"
        },
        "id": "dZagaNdKoHt6",
        "outputId": "70ab653e-4cf2-4240-8c88-681675482f36"
      },
      "outputs": [
        {
          "output_type": "stream",
          "name": "stdout",
          "text": [
            "Converted 4220 words (156 misses)\n"
          ]
        }
      ],
      "source": [
        "num_tokens = len(voc) + 2\n",
        "embedding_dim = 200\n",
        "hits = 0\n",
        "misses = 0\n",
        "\n",
        "# Prepare embedding matrix\n",
        "embedding_matrix = np.zeros((num_tokens, embedding_dim))\n",
        "for word, i in word_index.items():\n",
        "    if word in model_w2v.vocab:\n",
        "        embedding_vector = model_w2v.get_vector(word)\n",
        "        embedding_matrix[i] = embedding_vector\n",
        "        hits += 1\n",
        "    else:\n",
        "        initializer = tf.keras.initializers.GlorotNormal(seed = 123)\n",
        "        values = initializer(shape=(1, 200))\n",
        "        embedding_matrix[i] = values\n",
        "        misses += 1\n",
        "print(\"Converted %d words (%d misses)\" % (hits, misses))"
      ]
    },
    {
      "cell_type": "code",
      "execution_count": 43,
      "metadata": {
        "id": "2ZY5zbX_oPLy"
      },
      "outputs": [],
      "source": [
        "#create embedding layers\n",
        "embedding_layer = Embedding(\n",
        "    num_tokens,\n",
        "    embedding_dim,\n",
        "    embeddings_initializer=keras.initializers.Constant(embedding_matrix),\n",
        "    trainable=False,\n",
        ")"
      ]
    },
    {
      "cell_type": "markdown",
      "metadata": {
        "id": "jjGj0rCPqPwV"
      },
      "source": [
        "### 3.2 Embedding for historical icd code group"
      ]
    },
    {
      "cell_type": "code",
      "execution_count": 44,
      "metadata": {
        "id": "aBXpSUpkopQj"
      },
      "outputs": [],
      "source": [
        "his_icd_top198 = pd.read_csv('top198historical_icd.csv')"
      ]
    },
    {
      "cell_type": "code",
      "execution_count": 45,
      "metadata": {
        "id": "AQRI1A4UouPw"
      },
      "outputs": [],
      "source": [
        "vectorizer_his = TextVectorization(output_sequence_length=5)\n",
        "text_ds_his = tf.data.Dataset.from_tensor_slices(his_icd_top198['icd_group']).batch(128)\n",
        "vectorizer_his.adapt(text_ds_his)"
      ]
    },
    {
      "cell_type": "code",
      "execution_count": 46,
      "metadata": {
        "colab": {
          "base_uri": "https://localhost:8080/"
        },
        "id": "x3fAiKOCovxg",
        "outputId": "59ac5281-b90d-4c3d-db06-891c08f29045"
      },
      "outputs": [
        {
          "output_type": "execute_result",
          "data": {
            "text/plain": [
              "['', '[UNK]', 'z99', 'z95', 'z94']"
            ]
          },
          "metadata": {},
          "execution_count": 46
        }
      ],
      "source": [
        "#top 5 icd:\n",
        "\n",
        "vectorizer_his.get_vocabulary()[:5]"
      ]
    },
    {
      "cell_type": "code",
      "execution_count": 47,
      "metadata": {
        "id": "PfMJBbe5o1et"
      },
      "outputs": [],
      "source": [
        "voc_his = vectorizer_his.get_vocabulary()\n",
        "word_index_his = dict(zip(voc_his, range(len(voc_his))))\n",
        "num_tokens_his = len(voc_his) + 2\n",
        "embedding_dim_his = 200\n",
        "\n",
        "\n",
        "# Prepare embedding matrix (create one hot encoding matrix for historical icd code)\n",
        "embedding_matrix_his = np.zeros((num_tokens_his, embedding_dim_his))\n",
        "for word, i in word_index_his.items():\n",
        "    embedding_vector = np.zeros(embedding_dim_his)\n",
        "    embedding_vector[vectorizer_his([word]).numpy()[0][0]] = 1\n",
        "    embedding_matrix_his[i] = embedding_vector"
      ]
    },
    {
      "cell_type": "code",
      "execution_count": 48,
      "metadata": {
        "id": "V1Yz8G3ZpOW0"
      },
      "outputs": [],
      "source": [
        "embedding_layer_his = Embedding(\n",
        "    num_tokens_his,\n",
        "    embedding_dim_his,\n",
        "    embeddings_initializer=keras.initializers.Constant(embedding_matrix_his),\n",
        "    trainable=False,\n",
        ")"
      ]
    },
    {
      "cell_type": "markdown",
      "metadata": {
        "id": "1YNFmBoVqMFT"
      },
      "source": [
        "### 3.3 Concat 2 embedding"
      ]
    },
    {
      "cell_type": "code",
      "execution_count": null,
      "metadata": {
        "id": "6tijLqBTqXOm"
      },
      "outputs": [],
      "source": [
        "#tf.concat([embedding_layer(x_train[0]),[embedding_layer_his(x_train[0])]],0)"
      ]
    },
    {
      "cell_type": "markdown",
      "metadata": {
        "id": "2qpk0Hglqoaw"
      },
      "source": [
        "# 4 BiLSTM model using historical and current data (historical icd code & chief complaint)"
      ]
    },
    {
      "cell_type": "code",
      "execution_count": 51,
      "metadata": {
        "id": "nYljj_U9nBkT"
      },
      "outputs": [],
      "source": [
        "x_train = vectorizer(np.array([[s] for s in train_samples_chief])).numpy()\n",
        "x_train_his = vectorizer_his(np.array([[s] for s in train_samples_his])).numpy()\n",
        "x_train_o = trans_pip.fit_transform(train_samples_o)\n",
        "y_train = np.array(train_labels)\n",
        "\n",
        "x_val = vectorizer(np.array([[s] for s in val_samples_chief])).numpy()\n",
        "x_val_his = vectorizer_his(np.array([[s] for s in val_samples_his])).numpy()\n",
        "x_val_o = trans_pip.transform(val_samples_o)\n",
        "y_val = np.array(val_labels)\n",
        "\n"
      ]
    },
    {
      "cell_type": "code",
      "source": [
        "x_train_o.shape"
      ],
      "metadata": {
        "colab": {
          "base_uri": "https://localhost:8080/"
        },
        "id": "TN5esIqN8qNU",
        "outputId": "ea2d5a45-4754-406c-daf8-0bbcf7b098cd"
      },
      "execution_count": 53,
      "outputs": [
        {
          "output_type": "execute_result",
          "data": {
            "text/plain": [
              "(299799, 23)"
            ]
          },
          "metadata": {},
          "execution_count": 53
        }
      ]
    },
    {
      "cell_type": "code",
      "source": [
        "\n"
      ],
      "metadata": {
        "id": "mJ1nl9CQ5SAY"
      },
      "execution_count": null,
      "outputs": []
    },
    {
      "cell_type": "code",
      "execution_count": 65,
      "metadata": {
        "id": "0FDeXKPiszhA"
      },
      "outputs": [],
      "source": [
        "\n",
        "#Optimized parameters for LSTM: {'units': 114, 'activation': 'tanh', 'optimizer': 'adam', 'rate': 0}\n",
        "#Optimized parameters for MLP: {'units': 100/50/1, 'glorot_uniform', 0, 'relu'}\n",
        "\n",
        "col1 = keras.Input(shape = (5,))\n",
        "embedded_sequences1 = embedding_layer_his(col1)\n",
        "col2 = keras.Input(shape = (5,))\n",
        "embedded_sequences2 = embedding_layer(col2)\n",
        "embedded_sequences = keras.layers.Concatenate(axis=1)([embedded_sequences1, embedded_sequences2])\n",
        "inp3 = keras.Input(shape = (23,))\n",
        "\n",
        "def create_mlp(dim):\n",
        "  inp3 = keras.Input(shape = (dim,))\n",
        "  x = keras.layers.Dense(100, kernel_initializer = 'he_normal', input_dim=dim, activation=\"relu\")(inp3)\n",
        "  x = keras.layers.Dense(50, kernel_initializer = 'he_normal', activation=\"relu\")(x)\n",
        "  x = keras.layers.Dense(1,  activation=\"sigmoid\")(x)\n",
        "  #preds = keras.layers.Dense(1,activation = 'sigmoid')(x)\n",
        "  model = keras.models.Model(inputs = inp3, outputs = x)\n",
        "  return model\n",
        "\n",
        "def create_LSTM():\n",
        "  col1 = keras.Input(shape = (5,))\n",
        "  col2 = keras.Input(shape = (5,))\n",
        "  embedded_sequences1 = embedding_layer_his(col1)\n",
        "  embedded_sequences2 = embedding_layer(col2)\n",
        "  embedded_sequences = keras.layers.Concatenate(axis=1)([embedded_sequences1, embedded_sequences2])\n",
        "  x = keras.layers.Bidirectional(keras.layers.LSTM(114, return_sequences=True, activation = 'tanh'))(embedded_sequences)\n",
        "  x = keras.layers.Bidirectional(keras.layers.LSTM(114, activation = 'tanh'))(x)\n",
        "  x = keras.layers.Dense(114/2,activation = 'tanh')(x)\n",
        "  preds = keras.layers.Dense(1,activation = 'sigmoid')(x)\n",
        "  model = keras.models.Model(inputs = [col1,col2], outputs = preds)\n",
        "  return model\n",
        "  \n",
        "  \n",
        "mlp = create_mlp(23)\n",
        "lstm = create_LSTM()\n"
      ]
    },
    {
      "cell_type": "code",
      "source": [
        "combinedInput = keras.layers.concatenate([mlp.output, lstm.output])\n",
        "#x = keras.layers.Dense(1, activation=\"relu\")(combinedInput)\n",
        "#x = keras.layers.Dense(1, activation=\"relu\")(x)\n",
        "x = keras.layers.Dense(1, activation=\"sigmoid\")(combinedInput)\n",
        "model = keras.models.Model(inputs=[mlp.input, lstm.input], outputs=x)\n"
      ],
      "metadata": {
        "id": "kfspuTHKUCXY"
      },
      "execution_count": 66,
      "outputs": []
    },
    {
      "cell_type": "code",
      "source": [
        "#weights = [1-(sum(train_labels)/len(train_labels)),sum(train_labels)/len(train_labels)]\n",
        "#model.compile(loss = 'binary_crossentropy', optimizer = 'SGD', loss_weights = weights, metrics = \"accuracy\")\n",
        "\n",
        "model.compile(loss = 'binary_crossentropy', optimizer = 'SGD', metrics = \"accuracy\")\n",
        "early = EarlyStopping(monitor='val_loss', patience=10)"
      ],
      "metadata": {
        "id": "HsdEH5_zWsE5"
      },
      "execution_count": 67,
      "outputs": []
    },
    {
      "cell_type": "code",
      "source": [
        "weights = {0:1-(sum(y_train)/len(y_train)),1:sum(y_train)/len(y_train)}\n",
        "model.fit(x=[x_train_o,[x_train_his,x_train]], y = y_train, validation_data=([x_val_o,[x_val_his,x_val]], y_val), batch_size = 256, epochs=100, callbacks=[early],class_weight = weights)\n"
      ],
      "metadata": {
        "colab": {
          "base_uri": "https://localhost:8080/"
        },
        "id": "VQ4NwxJmW8Yz",
        "outputId": "a7572db0-f3c6-4ced-a471-d176e7f1c3de"
      },
      "execution_count": 68,
      "outputs": [
        {
          "output_type": "stream",
          "name": "stdout",
          "text": [
            "Epoch 1/100\n",
            "1172/1172 [==============================] - 23s 13ms/step - loss: 0.3243 - accuracy: 0.5945 - val_loss: 0.6857 - val_accuracy: 0.5950\n",
            "Epoch 2/100\n",
            "1172/1172 [==============================] - 14s 12ms/step - loss: 0.3204 - accuracy: 0.5945 - val_loss: 0.6840 - val_accuracy: 0.5950\n",
            "Epoch 3/100\n",
            "1172/1172 [==============================] - 14s 12ms/step - loss: 0.3170 - accuracy: 0.5945 - val_loss: 0.6756 - val_accuracy: 0.5950\n",
            "Epoch 4/100\n",
            "1172/1172 [==============================] - 14s 12ms/step - loss: 0.3112 - accuracy: 0.5945 - val_loss: 0.6610 - val_accuracy: 0.5950\n",
            "Epoch 5/100\n",
            "1172/1172 [==============================] - 14s 12ms/step - loss: 0.3031 - accuracy: 0.5945 - val_loss: 0.6421 - val_accuracy: 0.5950\n",
            "Epoch 6/100\n",
            "1172/1172 [==============================] - 14s 12ms/step - loss: 0.2943 - accuracy: 0.5945 - val_loss: 0.6236 - val_accuracy: 0.5950\n",
            "Epoch 7/100\n",
            "1172/1172 [==============================] - 14s 12ms/step - loss: 0.2867 - accuracy: 0.5945 - val_loss: 0.6091 - val_accuracy: 0.5950\n",
            "Epoch 8/100\n",
            "1172/1172 [==============================] - 14s 12ms/step - loss: 0.2809 - accuracy: 0.5951 - val_loss: 0.5983 - val_accuracy: 0.5992\n",
            "Epoch 9/100\n",
            "1172/1172 [==============================] - 14s 12ms/step - loss: 0.2766 - accuracy: 0.6271 - val_loss: 0.5902 - val_accuracy: 0.6699\n",
            "Epoch 10/100\n",
            "1172/1172 [==============================] - 14s 12ms/step - loss: 0.2734 - accuracy: 0.6919 - val_loss: 0.5846 - val_accuracy: 0.7030\n",
            "Epoch 11/100\n",
            "1172/1172 [==============================] - 14s 12ms/step - loss: 0.2711 - accuracy: 0.7099 - val_loss: 0.5791 - val_accuracy: 0.7159\n",
            "Epoch 12/100\n",
            "1172/1172 [==============================] - 14s 12ms/step - loss: 0.2692 - accuracy: 0.7182 - val_loss: 0.5755 - val_accuracy: 0.7203\n",
            "Epoch 13/100\n",
            "1172/1172 [==============================] - 14s 12ms/step - loss: 0.2676 - accuracy: 0.7222 - val_loss: 0.5731 - val_accuracy: 0.7220\n",
            "Epoch 14/100\n",
            "1172/1172 [==============================] - 14s 12ms/step - loss: 0.2662 - accuracy: 0.7244 - val_loss: 0.5698 - val_accuracy: 0.7241\n",
            "Epoch 15/100\n",
            "1172/1172 [==============================] - 14s 12ms/step - loss: 0.2647 - accuracy: 0.7262 - val_loss: 0.5670 - val_accuracy: 0.7253\n",
            "Epoch 16/100\n",
            "1172/1172 [==============================] - 14s 12ms/step - loss: 0.2632 - accuracy: 0.7275 - val_loss: 0.5632 - val_accuracy: 0.7263\n",
            "Epoch 17/100\n",
            "1172/1172 [==============================] - 13s 11ms/step - loss: 0.2615 - accuracy: 0.7290 - val_loss: 0.5595 - val_accuracy: 0.7271\n",
            "Epoch 18/100\n",
            "1172/1172 [==============================] - 14s 12ms/step - loss: 0.2597 - accuracy: 0.7304 - val_loss: 0.5558 - val_accuracy: 0.7274\n",
            "Epoch 19/100\n",
            "1172/1172 [==============================] - 13s 12ms/step - loss: 0.2577 - accuracy: 0.7322 - val_loss: 0.5518 - val_accuracy: 0.7300\n",
            "Epoch 20/100\n",
            "1172/1172 [==============================] - 14s 12ms/step - loss: 0.2556 - accuracy: 0.7339 - val_loss: 0.5462 - val_accuracy: 0.7326\n",
            "Epoch 21/100\n",
            "1172/1172 [==============================] - 14s 12ms/step - loss: 0.2535 - accuracy: 0.7354 - val_loss: 0.5433 - val_accuracy: 0.7330\n",
            "Epoch 22/100\n",
            "1172/1172 [==============================] - 14s 12ms/step - loss: 0.2515 - accuracy: 0.7372 - val_loss: 0.5388 - val_accuracy: 0.7347\n",
            "Epoch 23/100\n",
            "1172/1172 [==============================] - 13s 11ms/step - loss: 0.2496 - accuracy: 0.7390 - val_loss: 0.5334 - val_accuracy: 0.7379\n",
            "Epoch 24/100\n",
            "1172/1172 [==============================] - 13s 11ms/step - loss: 0.2478 - accuracy: 0.7402 - val_loss: 0.5289 - val_accuracy: 0.7399\n",
            "Epoch 25/100\n",
            "1172/1172 [==============================] - 14s 12ms/step - loss: 0.2461 - accuracy: 0.7422 - val_loss: 0.5265 - val_accuracy: 0.7413\n",
            "Epoch 26/100\n",
            "1172/1172 [==============================] - 13s 11ms/step - loss: 0.2447 - accuracy: 0.7436 - val_loss: 0.5227 - val_accuracy: 0.7424\n",
            "Epoch 27/100\n",
            "1172/1172 [==============================] - 14s 12ms/step - loss: 0.2435 - accuracy: 0.7445 - val_loss: 0.5197 - val_accuracy: 0.7436\n",
            "Epoch 28/100\n",
            "1172/1172 [==============================] - 14s 12ms/step - loss: 0.2424 - accuracy: 0.7454 - val_loss: 0.5173 - val_accuracy: 0.7453\n",
            "Epoch 29/100\n",
            "1172/1172 [==============================] - 13s 11ms/step - loss: 0.2415 - accuracy: 0.7463 - val_loss: 0.5157 - val_accuracy: 0.7453\n",
            "Epoch 30/100\n",
            "1172/1172 [==============================] - 13s 12ms/step - loss: 0.2406 - accuracy: 0.7470 - val_loss: 0.5149 - val_accuracy: 0.7461\n",
            "Epoch 31/100\n",
            "1172/1172 [==============================] - 14s 12ms/step - loss: 0.2399 - accuracy: 0.7479 - val_loss: 0.5130 - val_accuracy: 0.7469\n",
            "Epoch 32/100\n",
            "1172/1172 [==============================] - 13s 11ms/step - loss: 0.2392 - accuracy: 0.7483 - val_loss: 0.5123 - val_accuracy: 0.7465\n",
            "Epoch 33/100\n",
            "1172/1172 [==============================] - 14s 12ms/step - loss: 0.2387 - accuracy: 0.7491 - val_loss: 0.5109 - val_accuracy: 0.7481\n",
            "Epoch 34/100\n",
            "1172/1172 [==============================] - 13s 11ms/step - loss: 0.2382 - accuracy: 0.7497 - val_loss: 0.5077 - val_accuracy: 0.7501\n",
            "Epoch 35/100\n",
            "1172/1172 [==============================] - 14s 12ms/step - loss: 0.2377 - accuracy: 0.7502 - val_loss: 0.5087 - val_accuracy: 0.7492\n",
            "Epoch 36/100\n",
            "1172/1172 [==============================] - 14s 12ms/step - loss: 0.2373 - accuracy: 0.7506 - val_loss: 0.5098 - val_accuracy: 0.7481\n",
            "Epoch 37/100\n",
            "1172/1172 [==============================] - 13s 11ms/step - loss: 0.2369 - accuracy: 0.7512 - val_loss: 0.5060 - val_accuracy: 0.7505\n",
            "Epoch 38/100\n",
            "1172/1172 [==============================] - 14s 12ms/step - loss: 0.2365 - accuracy: 0.7517 - val_loss: 0.5043 - val_accuracy: 0.7520\n",
            "Epoch 39/100\n",
            "1172/1172 [==============================] - 13s 11ms/step - loss: 0.2362 - accuracy: 0.7519 - val_loss: 0.5009 - val_accuracy: 0.7558\n",
            "Epoch 40/100\n",
            "1172/1172 [==============================] - 14s 12ms/step - loss: 0.2359 - accuracy: 0.7524 - val_loss: 0.5043 - val_accuracy: 0.7522\n",
            "Epoch 41/100\n",
            "1172/1172 [==============================] - 14s 12ms/step - loss: 0.2355 - accuracy: 0.7529 - val_loss: 0.5092 - val_accuracy: 0.7481\n",
            "Epoch 42/100\n",
            "1172/1172 [==============================] - 14s 12ms/step - loss: 0.2352 - accuracy: 0.7530 - val_loss: 0.5051 - val_accuracy: 0.7516\n",
            "Epoch 43/100\n",
            "1172/1172 [==============================] - 14s 12ms/step - loss: 0.2350 - accuracy: 0.7535 - val_loss: 0.5014 - val_accuracy: 0.7551\n",
            "Epoch 44/100\n",
            "1172/1172 [==============================] - 14s 12ms/step - loss: 0.2347 - accuracy: 0.7544 - val_loss: 0.5038 - val_accuracy: 0.7520\n",
            "Epoch 45/100\n",
            "1172/1172 [==============================] - 14s 12ms/step - loss: 0.2344 - accuracy: 0.7546 - val_loss: 0.5005 - val_accuracy: 0.7553\n",
            "Epoch 46/100\n",
            "1172/1172 [==============================] - 14s 12ms/step - loss: 0.2342 - accuracy: 0.7552 - val_loss: 0.5003 - val_accuracy: 0.7552\n",
            "Epoch 47/100\n",
            "1172/1172 [==============================] - 13s 11ms/step - loss: 0.2339 - accuracy: 0.7555 - val_loss: 0.4976 - val_accuracy: 0.7580\n",
            "Epoch 48/100\n",
            "1172/1172 [==============================] - 13s 11ms/step - loss: 0.2336 - accuracy: 0.7560 - val_loss: 0.5055 - val_accuracy: 0.7499\n",
            "Epoch 49/100\n",
            "1172/1172 [==============================] - 13s 11ms/step - loss: 0.2334 - accuracy: 0.7565 - val_loss: 0.5064 - val_accuracy: 0.7495\n",
            "Epoch 50/100\n",
            "1172/1172 [==============================] - 14s 12ms/step - loss: 0.2332 - accuracy: 0.7565 - val_loss: 0.4966 - val_accuracy: 0.7586\n",
            "Epoch 51/100\n",
            "1172/1172 [==============================] - 14s 12ms/step - loss: 0.2330 - accuracy: 0.7570 - val_loss: 0.4976 - val_accuracy: 0.7574\n",
            "Epoch 52/100\n",
            "1172/1172 [==============================] - 13s 11ms/step - loss: 0.2328 - accuracy: 0.7572 - val_loss: 0.5018 - val_accuracy: 0.7539\n",
            "Epoch 53/100\n",
            "1172/1172 [==============================] - 13s 11ms/step - loss: 0.2326 - accuracy: 0.7578 - val_loss: 0.5004 - val_accuracy: 0.7545\n",
            "Epoch 54/100\n",
            "1172/1172 [==============================] - 13s 11ms/step - loss: 0.2324 - accuracy: 0.7579 - val_loss: 0.4969 - val_accuracy: 0.7577\n",
            "Epoch 55/100\n",
            "1172/1172 [==============================] - 14s 12ms/step - loss: 0.2322 - accuracy: 0.7584 - val_loss: 0.4941 - val_accuracy: 0.7605\n",
            "Epoch 56/100\n",
            "1172/1172 [==============================] - 14s 12ms/step - loss: 0.2320 - accuracy: 0.7586 - val_loss: 0.5010 - val_accuracy: 0.7537\n",
            "Epoch 57/100\n",
            "1172/1172 [==============================] - 14s 12ms/step - loss: 0.2318 - accuracy: 0.7589 - val_loss: 0.4938 - val_accuracy: 0.7609\n",
            "Epoch 58/100\n",
            "1172/1172 [==============================] - 14s 12ms/step - loss: 0.2317 - accuracy: 0.7591 - val_loss: 0.4989 - val_accuracy: 0.7559\n",
            "Epoch 59/100\n",
            "1172/1172 [==============================] - 13s 11ms/step - loss: 0.2315 - accuracy: 0.7593 - val_loss: 0.4919 - val_accuracy: 0.7622\n",
            "Epoch 60/100\n",
            "1172/1172 [==============================] - 13s 11ms/step - loss: 0.2313 - accuracy: 0.7596 - val_loss: 0.4983 - val_accuracy: 0.7565\n",
            "Epoch 61/100\n",
            "1172/1172 [==============================] - 14s 12ms/step - loss: 0.2312 - accuracy: 0.7599 - val_loss: 0.4945 - val_accuracy: 0.7589\n",
            "Epoch 62/100\n",
            "1172/1172 [==============================] - 13s 11ms/step - loss: 0.2310 - accuracy: 0.7600 - val_loss: 0.4975 - val_accuracy: 0.7572\n",
            "Epoch 63/100\n",
            "1172/1172 [==============================] - 13s 11ms/step - loss: 0.2309 - accuracy: 0.7602 - val_loss: 0.4901 - val_accuracy: 0.7633\n",
            "Epoch 64/100\n",
            "1172/1172 [==============================] - 13s 11ms/step - loss: 0.2308 - accuracy: 0.7605 - val_loss: 0.4940 - val_accuracy: 0.7592\n",
            "Epoch 65/100\n",
            "1172/1172 [==============================] - 13s 11ms/step - loss: 0.2306 - accuracy: 0.7605 - val_loss: 0.4980 - val_accuracy: 0.7570\n",
            "Epoch 66/100\n",
            "1172/1172 [==============================] - 13s 11ms/step - loss: 0.2305 - accuracy: 0.7608 - val_loss: 0.4922 - val_accuracy: 0.7607\n",
            "Epoch 67/100\n",
            "1172/1172 [==============================] - 13s 11ms/step - loss: 0.2303 - accuracy: 0.7609 - val_loss: 0.4945 - val_accuracy: 0.7591\n",
            "Epoch 68/100\n",
            "1172/1172 [==============================] - 13s 11ms/step - loss: 0.2302 - accuracy: 0.7613 - val_loss: 0.4875 - val_accuracy: 0.7638\n",
            "Epoch 69/100\n",
            "1172/1172 [==============================] - 13s 11ms/step - loss: 0.2301 - accuracy: 0.7613 - val_loss: 0.4864 - val_accuracy: 0.7650\n",
            "Epoch 70/100\n",
            "1172/1172 [==============================] - 13s 11ms/step - loss: 0.2300 - accuracy: 0.7618 - val_loss: 0.4934 - val_accuracy: 0.7598\n",
            "Epoch 71/100\n",
            "1172/1172 [==============================] - 13s 11ms/step - loss: 0.2298 - accuracy: 0.7617 - val_loss: 0.5019 - val_accuracy: 0.7538\n",
            "Epoch 72/100\n",
            "1172/1172 [==============================] - 13s 11ms/step - loss: 0.2297 - accuracy: 0.7619 - val_loss: 0.5081 - val_accuracy: 0.7500\n",
            "Epoch 73/100\n",
            "1172/1172 [==============================] - 13s 11ms/step - loss: 0.2296 - accuracy: 0.7618 - val_loss: 0.4891 - val_accuracy: 0.7625\n",
            "Epoch 74/100\n",
            "1172/1172 [==============================] - 13s 11ms/step - loss: 0.2295 - accuracy: 0.7620 - val_loss: 0.4920 - val_accuracy: 0.7607\n",
            "Epoch 75/100\n",
            "1172/1172 [==============================] - 13s 11ms/step - loss: 0.2293 - accuracy: 0.7623 - val_loss: 0.4892 - val_accuracy: 0.7629\n",
            "Epoch 76/100\n",
            "1172/1172 [==============================] - 13s 11ms/step - loss: 0.2292 - accuracy: 0.7628 - val_loss: 0.4864 - val_accuracy: 0.7646\n",
            "Epoch 77/100\n",
            "1172/1172 [==============================] - 13s 11ms/step - loss: 0.2291 - accuracy: 0.7625 - val_loss: 0.4923 - val_accuracy: 0.7598\n",
            "Epoch 78/100\n",
            "1172/1172 [==============================] - 13s 11ms/step - loss: 0.2290 - accuracy: 0.7628 - val_loss: 0.4876 - val_accuracy: 0.7637\n",
            "Epoch 79/100\n",
            "1172/1172 [==============================] - 13s 11ms/step - loss: 0.2289 - accuracy: 0.7628 - val_loss: 0.4935 - val_accuracy: 0.7598\n",
            "Epoch 80/100\n",
            "1172/1172 [==============================] - 13s 11ms/step - loss: 0.2288 - accuracy: 0.7630 - val_loss: 0.4922 - val_accuracy: 0.7606\n",
            "Epoch 81/100\n",
            "1172/1172 [==============================] - 13s 11ms/step - loss: 0.2287 - accuracy: 0.7632 - val_loss: 0.4917 - val_accuracy: 0.7606\n",
            "Epoch 82/100\n",
            "1172/1172 [==============================] - 13s 11ms/step - loss: 0.2286 - accuracy: 0.7630 - val_loss: 0.4902 - val_accuracy: 0.7610\n",
            "Epoch 83/100\n",
            "1172/1172 [==============================] - 13s 11ms/step - loss: 0.2285 - accuracy: 0.7633 - val_loss: 0.4951 - val_accuracy: 0.7582\n",
            "Epoch 84/100\n",
            "1172/1172 [==============================] - 13s 11ms/step - loss: 0.2284 - accuracy: 0.7634 - val_loss: 0.4958 - val_accuracy: 0.7579\n",
            "Epoch 85/100\n",
            "1172/1172 [==============================] - 13s 11ms/step - loss: 0.2283 - accuracy: 0.7633 - val_loss: 0.4932 - val_accuracy: 0.7597\n",
            "Epoch 86/100\n",
            "1172/1172 [==============================] - 13s 11ms/step - loss: 0.2282 - accuracy: 0.7636 - val_loss: 0.4926 - val_accuracy: 0.7597\n"
          ]
        },
        {
          "output_type": "execute_result",
          "data": {
            "text/plain": [
              "<keras.callbacks.History at 0x7f970816dc50>"
            ]
          },
          "metadata": {},
          "execution_count": 68
        }
      ]
    },
    {
      "cell_type": "code",
      "source": [
        "model.save('/content/drive/MyDrive/Capstone_project/model.h5')"
      ],
      "metadata": {
        "id": "NW9ZBR5y1Fav"
      },
      "execution_count": 79,
      "outputs": []
    },
    {
      "cell_type": "code",
      "source": [
        "from keras.utils.vis_utils import plot_model\n",
        "plot_model(model, to_file='model_plot.png', show_shapes=True, show_layer_names=True)"
      ],
      "metadata": {
        "colab": {
          "base_uri": "https://localhost:8080/",
          "height": 976
        },
        "id": "3Rv9Q0Jlm-Pm",
        "outputId": "7ad97eb9-7e06-45e1-d362-559f7cd8662e"
      },
      "execution_count": 77,
      "outputs": [
        {
          "output_type": "execute_result",
          "data": {
            "image/png": "[encoded data removed]",
            "text/plain": [
              "<IPython.core.display.Image object>"
            ]
          },
          "metadata": {},
          "execution_count": 77
        }
      ]
    },
    {
      "cell_type": "code",
      "source": [
        "x_test = vectorizer(np.array([[s] for s in test_samples_chief])).numpy()\n",
        "x_test_his = vectorizer_his(np.array([[s] for s in test_samples_his])).numpy()\n",
        "x_test_o = trans_pip.transform(test_samples_o)\n",
        "y_test = np.array(test_labels)"
      ],
      "metadata": {
        "id": "cX8iIXzfEU4A"
      },
      "execution_count": 71,
      "outputs": []
    },
    {
      "cell_type": "code",
      "source": [
        "y_test_pred = model.predict(x=[x_test_o,x_test_his, x_test])\n",
        "\n",
        "print(\"roc auc for validation set:\", roc_auc_score(y_test, y_test_pred))\n",
        "y_pred_test_class = np.where(y_test_pred>0.5, 1, 0)\n",
        "print(\"accuracy score for test set:\", accuracy_score(y_test, y_pred_test_class))\n",
        "print(\"f1 score for test set:\", f1_score(y_test, y_pred_test_class))"
      ],
      "metadata": {
        "colab": {
          "base_uri": "https://localhost:8080/"
        },
        "id": "zXrvv3onEgOB",
        "outputId": "ac9f6415-7e26-4c42-f9b2-9264033e7ba4"
      },
      "execution_count": 75,
      "outputs": [
        {
          "output_type": "stream",
          "name": "stdout",
          "text": [
            "roc auc for validation set: 0.8475190789726195\n",
            "accuracy score for test set: 0.7608106845988606\n",
            "f1 score for test set: 0.651600176852702\n"
          ]
        }
      ]
    },
    {
      "cell_type": "code",
      "source": [
        "pd.DataFrame(x_test_o).to_csv(\"x_test_o.csv\",index=False)\n",
        "pd.DataFrame(x_test).to_csv(\"x_test.csv\",index=False)\n",
        "pd.DataFrame(x_test_his).to_csv(\"x_test_his.csv\",index=False)\n",
        "pd.DataFrame(train_samples_o).to_csv(\"train_samples_o.csv\",index=False)\n",
        "pd.DataFrame(test_samples_his).to_csv(\"test_samples_his.csv\",index=False)\n",
        "pd.DataFrame(test_samples_chief).to_csv(\"test_samples_chief.csv\",index=False)\n",
        "pd.DataFrame(edstay_ad1).to_csv(\"edstay_ad1.csv\",index=False)"
      ],
      "metadata": {
        "id": "VAGyT1HdIds3"
      },
      "execution_count": 78,
      "outputs": []
    }
  ]
}