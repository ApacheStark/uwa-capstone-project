{
  "nbformat": 4,
  "nbformat_minor": 0,
  "metadata": {
    "colab": {
      "provenance": [],
      "collapsed_sections": [],
      "machine_shape": "hm"
    },
    "kernelspec": {
      "name": "python3",
      "display_name": "Python 3"
    },
    "language_info": {
      "name": "python"
    },
    "accelerator": "GPU",
    "gpuClass": "premium"
  },
  "cells": [
    {
      "cell_type": "markdown",
      "source": [
        "# Project 7 - Model combination\n",
        "\n",
        "**Author: Linh Nguyen**<br>\n",
        "\n",
        "**StudentID: 23161711**<br>\n",
        "\n",
        "**Date: Sep 2022**"
      ],
      "metadata": {
        "id": "XPOLav18AlCz"
      }
    },
    {
      "cell_type": "markdown",
      "metadata": {
        "id": "-VHLNSg3f9zp"
      },
      "source": [
        "## 1. Load data and import package"
      ]
    },
    {
      "cell_type": "code",
      "execution_count": 3,
      "metadata": {
        "id": "tZp92q0OgCwG",
        "colab": {
          "base_uri": "https://localhost:8080/",
          "height": 0
        },
        "outputId": "601e2077-450b-426a-d686-37e9990113dc"
      },
      "outputs": [
        {
          "output_type": "stream",
          "name": "stdout",
          "text": [
            "Drive already mounted at /content/drive; to attempt to forcibly remount, call drive.mount(\"/content/drive\", force_remount=True).\n",
            "/content/drive/MyDrive/Capstone_project\n"
          ]
        }
      ],
      "source": [
        "from google.colab import drive\n",
        "drive.mount('/content/drive')\n",
        "%cd /content/drive/MyDrive/Capstone_project"
      ]
    },
    {
      "cell_type": "code",
      "execution_count": 4,
      "metadata": {
        "id": "FBKZ4BZggPFQ"
      },
      "outputs": [],
      "source": [
        "import numpy as np\n",
        "import pandas as pd\n",
        "from datetime import datetime\n",
        "import re\n",
        "from tensorflow import keras\n",
        "from tensorflow.keras.layers import TextVectorization\n",
        "from tensorflow.keras.layers import Embedding\n",
        "from tensorflow.keras import layers\n",
        "import seaborn as sns\n",
        "from matplotlib import pyplot as plt\n",
        "from tensorflow.keras.callbacks import EarlyStopping\n",
        "import  tensorflow as tf\n",
        "from gensim.models import KeyedVectors\n",
        "from sklearn.model_selection import cross_val_score\n",
        "from sklearn.compose import ColumnTransformer\n",
        "from sklearn.preprocessing import OneHotEncoder, StandardScaler, LabelEncoder\n",
        "from sklearn.impute import SimpleImputer\n",
        "from sklearn.metrics import f1_score, accuracy_score, confusion_matrix,ConfusionMatrixDisplay,classification_report, roc_auc_score\n",
        "#tf.compat.v1.disable_v2_behavior()\n",
        "\n"
      ]
    },
    {
      "cell_type": "code",
      "source": [
        "keras.__version__"
      ],
      "metadata": {
        "colab": {
          "base_uri": "https://localhost:8080/",
          "height": 35
        },
        "id": "j-_7TPZUTGv4",
        "outputId": "627c7e40-11af-4098-e96b-36d6532359ec"
      },
      "execution_count": 5,
      "outputs": [
        {
          "output_type": "execute_result",
          "data": {
            "text/plain": [
              "'2.8.0'"
            ],
            "application/vnd.google.colaboratory.intrinsic+json": {
              "type": "string"
            }
          },
          "metadata": {},
          "execution_count": 5
        }
      ]
    },
    {
      "cell_type": "code",
      "execution_count": 6,
      "metadata": {
        "colab": {
          "base_uri": "https://localhost:8080/",
          "height": 0
        },
        "id": "CbUzhv7Ags5L",
        "outputId": "14939e62-624d-42f5-833d-7e4fc3441e38"
      },
      "outputs": [
        {
          "output_type": "stream",
          "name": "stdout",
          "text": [
            "diagnosis.csv  icd9toicd10cmgem.csv  pyxis.csv\t vitalsign.csv\n",
            "edstays.csv    medrecon.csv\t     triage.csv\n"
          ]
        }
      ],
      "source": [
        "! ls /content/drive/MyDrive/Capstone_project/raw"
      ]
    },
    {
      "cell_type": "markdown",
      "metadata": {
        "id": "kIBZF04oY8qP"
      },
      "source": [
        "# 2. Data cleansing\n"
      ]
    },
    {
      "cell_type": "code",
      "execution_count": 7,
      "metadata": {
        "id": "HXhiUvh_zqrN"
      },
      "outputs": [],
      "source": [
        "edstays = pd.read_csv('raw/edstays.csv')\n",
        "edstays['y_var_adm_text'] = edstays['disposition']\n",
        "edstays['intime_h'] = pd.to_datetime(edstays.intime).dt.hour\n",
        "edstays.loc[edstays['y_var_adm_text'] == 'TRANSFER', 'y_var_adm_text'] = 'ADMITTED'\n",
        "edstays.loc[edstays['y_var_adm_text'] == 'ELOPED','y_var_adm_text'] = 'MISSING'\n",
        "edstays.loc[edstays['y_var_adm_text'] == 'LEFT WITHOUT BEING SEEN','y_var_adm_text'] = 'MISSING'\n",
        "edstays.loc[edstays['y_var_adm_text'] == 'OTHER','y_var_adm_text'] = 'MISSING'\n",
        "edstays.loc[edstays['y_var_adm_text'] == 'LEFT AGAINST MEDICAL ADVICE','y_var_adm_text'] = 'MISSING'\n",
        "edstays.loc[edstays['y_var_adm_text'] == 'EXPIRED','y_var_adm_text'] = 'MISSING'\n",
        "edstays_admit = edstays[edstays['y_var_adm_text'] !='MISSING'].reset_index(drop = True)\n",
        "edstays_admit['key'] = edstays_admit['subject_id'].astype(str)+'_'+edstays_admit['stay_id'].astype(str)"
      ]
    },
    {
      "cell_type": "code",
      "execution_count": 8,
      "metadata": {
        "id": "msavnwhI1Q9N"
      },
      "outputs": [],
      "source": [
        "edstays_admit.loc[edstays_admit['race'].str.contains('WHITE'), 'race_color'] = 'WHITE'\n",
        "edstays_admit.loc[edstays_admit['race'].str.contains('BLACK'), 'race_color'] = 'BLACK'\n",
        "edstays_admit.loc[edstays_admit['race'].str.contains('ASIAN'), 'race_color'] = 'ASIAN'\n",
        "edstays_admit.loc[edstays_admit['race'].str.contains('LATINO'), 'race_color'] = 'HISPANIC/LATINO'\n",
        "edstays_admit.loc[edstays_admit['race'].str.contains('HISPANIC'), 'race_color'] = 'HISPANIC/LATINO'\n",
        "edstays_admit.loc[edstays_admit['race_color'].isna(), 'race_color'] = 'OTHER'"
      ]
    },
    {
      "cell_type": "code",
      "execution_count": 9,
      "metadata": {
        "id": "BtZvcq5o6q5J"
      },
      "outputs": [],
      "source": [
        "edstays_admit['DateTime_in'] = pd.to_datetime(edstays_admit['intime'], format='%d/%m/%Y %H:%M')\n",
        "edstays_admit['DateTime_out'] = pd.to_datetime(edstays_admit['outtime'], format='%d/%m/%Y %H:%M')"
      ]
    },
    {
      "cell_type": "code",
      "execution_count": 10,
      "metadata": {
        "id": "-D1ku1gk70Gq"
      },
      "outputs": [],
      "source": [
        "edstays_admit['stay'] = edstays_admit['DateTime_out'] - edstays_admit['DateTime_in']"
      ]
    },
    {
      "cell_type": "code",
      "execution_count": 11,
      "metadata": {
        "id": "3zMl3XcZ6i_L"
      },
      "outputs": [],
      "source": [
        "edstays_admit_1 = edstays_admit.sort_values(by = ['subject_id','DateTime_in'], ascending=True).reset_index(drop=True)"
      ]
    },
    {
      "cell_type": "code",
      "execution_count": 12,
      "metadata": {
        "id": "LkKoVWET6xcl"
      },
      "outputs": [],
      "source": [
        "edstay_hist = {}\n",
        "for i in range(len(edstays_admit_1)):\n",
        "    if i == 0:\n",
        "        edstay_hist[i] = 'NO HISTORY'\n",
        "    else:\n",
        "        if edstays_admit_1['subject_id'][i] == edstays_admit_1['subject_id'][i-1]:\n",
        "            edstay_hist[i] = edstays_admit_1['y_var_adm_text'][i-1]\n",
        "        else:\n",
        "            edstay_hist[i] = 'NO HISTORY'"
      ]
    },
    {
      "cell_type": "code",
      "execution_count": 13,
      "metadata": {
        "id": "TTy7pQo67Qh8"
      },
      "outputs": [],
      "source": [
        "edstay_laststay = {}\n",
        "for i in range(len(edstays_admit_1)):\n",
        "    if i == 0:\n",
        "        edstay_laststay[i] = np.timedelta64(0, 'D')\n",
        "    else:\n",
        "        if edstays_admit_1['subject_id'][i] == edstays_admit_1['subject_id'][i-1]: \n",
        "          edstay_laststay[i] = edstays_admit_1['stay'][i-1]+edstay_laststay[i-1]\n",
        "        else:\n",
        "            edstay_laststay[i] = np.timedelta64(0, 'D')"
      ]
    },
    {
      "cell_type": "code",
      "execution_count": 14,
      "metadata": {
        "id": "j0k6Zvbz6_qS"
      },
      "outputs": [],
      "source": [
        "df1 = pd.DataFrame.from_dict(edstay_hist,orient='index')\n",
        "df1.columns = ['historical_stay_status']\n",
        "edstays_admit_1 = pd.merge(edstays_admit_1,df1,how = 'left',left_index=True,right_index=True) "
      ]
    },
    {
      "cell_type": "code",
      "execution_count": 15,
      "metadata": {
        "id": "5oPQRFRc7GJg"
      },
      "outputs": [],
      "source": [
        "df1 = pd.DataFrame.from_dict(edstay_laststay,orient='index')\n",
        "df1.columns = ['historical_stay_length']\n",
        "edstays_admit_1 = pd.merge(edstays_admit_1,df1,how = 'left',left_index=True,right_index=True) "
      ]
    },
    {
      "cell_type": "code",
      "execution_count": 16,
      "metadata": {
        "id": "4xl1iHAW8jiM"
      },
      "outputs": [],
      "source": [
        "edstays_admit_1['historical_stay_length_in_day'] = edstays_admit_1['historical_stay_length']/(np.timedelta64(1, 'D'))"
      ]
    },
    {
      "cell_type": "code",
      "execution_count": 17,
      "metadata": {
        "id": "WKhdPBOYPCNv"
      },
      "outputs": [],
      "source": [
        "edstays_admit_2 = pd.merge(edstays_admit,edstays_admit_1[['historical_stay_status','historical_stay_length','historical_stay_length_in_day','subject_id','stay_id']],how = 'left',on=['subject_id', 'stay_id'])"
      ]
    },
    {
      "cell_type": "code",
      "execution_count": 18,
      "metadata": {
        "colab": {
          "base_uri": "https://localhost:8080/",
          "height": 0
        },
        "id": "CL03NDqOOgzU",
        "outputId": "dabec921-a3a7-4bbf-8268-6d61415d039b"
      },
      "outputs": [
        {
          "output_type": "execute_result",
          "data": {
            "text/plain": [
              "Index(['subject_id', 'hadm_id', 'stay_id', 'intime', 'outtime', 'gender',\n",
              "       'race', 'arrival_transport', 'disposition', 'y_var_adm_text',\n",
              "       'intime_h', 'key', 'race_color', 'DateTime_in', 'DateTime_out', 'stay',\n",
              "       'historical_stay_status', 'historical_stay_length',\n",
              "       'historical_stay_length_in_day'],\n",
              "      dtype='object')"
            ]
          },
          "metadata": {},
          "execution_count": 18
        }
      ],
      "source": [
        "edstays_admit_2.columns"
      ]
    },
    {
      "cell_type": "code",
      "execution_count": 19,
      "metadata": {
        "id": "Aw5gGf_Gzump"
      },
      "outputs": [],
      "source": [
        "triage = pd.read_csv('raw/triage.csv')\n"
      ]
    },
    {
      "cell_type": "code",
      "execution_count": 20,
      "metadata": {
        "id": "bGwlY0lW0BKS"
      },
      "outputs": [],
      "source": [
        "edstay_ad = pd.merge(edstays_admit_2,triage,how = 'left',on=['subject_id', 'stay_id'])"
      ]
    },
    {
      "cell_type": "code",
      "source": [
        "edstay_ad = edstay_ad[edstay_ad['y_var_adm_text'].isin(['ADMITTED','HOME'])] "
      ],
      "metadata": {
        "id": "lZhMZ48MlJXK"
      },
      "execution_count": 21,
      "outputs": []
    },
    {
      "cell_type": "code",
      "execution_count": 22,
      "metadata": {
        "id": "fOssusRI0O3H"
      },
      "outputs": [],
      "source": [
        "edstay_ad['y_var'] = 0\n",
        "edstay_ad.loc[edstay_ad['y_var_adm_text'] == 'ADMITTED', 'y_var']  = 1"
      ]
    },
    {
      "cell_type": "code",
      "execution_count": 23,
      "metadata": {
        "colab": {
          "base_uri": "https://localhost:8080/",
          "height": 0
        },
        "id": "Zr7L64Zw2-aZ",
        "outputId": "bf89279e-09d1-4a9b-a0e0-6292d927185f"
      },
      "outputs": [
        {
          "output_type": "execute_result",
          "data": {
            "text/plain": [
              "Index(['subject_id', 'hadm_id', 'stay_id', 'intime', 'outtime', 'gender',\n",
              "       'race', 'arrival_transport', 'disposition', 'y_var_adm_text',\n",
              "       'intime_h', 'key', 'race_color', 'DateTime_in', 'DateTime_out', 'stay',\n",
              "       'historical_stay_status', 'historical_stay_length',\n",
              "       'historical_stay_length_in_day', 'temperature', 'heartrate', 'resprate',\n",
              "       'o2sat', 'sbp', 'dbp', 'pain', 'acuity', 'chiefcomplaint', 'y_var'],\n",
              "      dtype='object')"
            ]
          },
          "metadata": {},
          "execution_count": 23
        }
      ],
      "source": [
        "edstay_ad.columns"
      ]
    },
    {
      "cell_type": "code",
      "execution_count": 24,
      "metadata": {
        "id": "9QlN0Ska0cjl"
      },
      "outputs": [],
      "source": [
        "edstay_ad1 = edstay_ad.drop(['subject_id','hadm_id','stay_id','intime','outtime','race', 'gender','race_color','disposition','y_var_adm_text','key', 'DateTime_in', 'DateTime_out','stay','historical_stay_length','chiefcomplaint', 'pain', 'y_var'], axis = 1)"
      ]
    },
    {
      "cell_type": "code",
      "execution_count": 25,
      "metadata": {
        "colab": {
          "base_uri": "https://localhost:8080/",
          "height": 0
        },
        "id": "aFneIhqr96BF",
        "outputId": "d5453de9-9df2-41d3-9871-137fef08213d"
      },
      "outputs": [
        {
          "output_type": "stream",
          "name": "stdout",
          "text": [
            "<class 'pandas.core.frame.DataFrame'>\n",
            "Int64Index: 428284 entries, 0 to 428283\n",
            "Data columns (total 11 columns):\n",
            " #   Column                         Non-Null Count   Dtype  \n",
            "---  ------                         --------------   -----  \n",
            " 0   arrival_transport              428284 non-null  object \n",
            " 1   intime_h                       428284 non-null  int64  \n",
            " 2   historical_stay_status         428284 non-null  object \n",
            " 3   historical_stay_length_in_day  428284 non-null  float64\n",
            " 4   temperature                    405762 non-null  float64\n",
            " 5   heartrate                      412132 non-null  float64\n",
            " 6   resprate                       408822 non-null  float64\n",
            " 7   o2sat                          408594 non-null  float64\n",
            " 8   sbp                            410935 non-null  float64\n",
            " 9   dbp                            410124 non-null  float64\n",
            " 10  acuity                         422216 non-null  float64\n",
            "dtypes: float64(8), int64(1), object(2)\n",
            "memory usage: 39.2+ MB\n"
          ]
        }
      ],
      "source": [
        "edstay_ad1.info()"
      ]
    },
    {
      "cell_type": "code",
      "execution_count": 26,
      "metadata": {
        "id": "d1yoLyg_rR3M"
      },
      "outputs": [],
      "source": [
        "updated_edstay_ad = edstay_ad1\n",
        "updated_edstay_ad['temperaturemissing'] = updated_edstay_ad['temperature'].isnull().astype(int)\n",
        "updated_edstay_ad['heartratemissing'] = updated_edstay_ad['heartrate'].isnull().astype(int)\n",
        "updated_edstay_ad['respratemissing'] = updated_edstay_ad['resprate'].isnull().astype(int)\n",
        "updated_edstay_ad['o2satmissing'] = updated_edstay_ad['o2sat'].isnull().astype(int)\n",
        "updated_edstay_ad['sbpmissing'] = updated_edstay_ad['sbp'].isnull().astype(int)\n",
        "updated_edstay_ad['dbpmissing'] = updated_edstay_ad['dbp'].isnull().astype(int)\n",
        "updated_edstay_ad['acuitymissing'] = updated_edstay_ad['acuity'].isnull().astype(int)"
      ]
    },
    {
      "cell_type": "code",
      "execution_count": 27,
      "metadata": {
        "id": "-vOMliYoIu-g"
      },
      "outputs": [],
      "source": [
        "num_attr = edstay_ad1.select_dtypes(include=['float64', 'int64']).columns\n",
        "cat_attr = edstay_ad1.select_dtypes(include=['O']).columns\n",
        "#bool_attr = edstay_ad.select_dtypes(include=['bool']).columns"
      ]
    },
    {
      "cell_type": "code",
      "source": [
        "my_imputer = SimpleImputer(strategy = 'median')\n",
        "updated_edstay_ad[num_attr] = my_imputer.fit_transform(updated_edstay_ad[num_attr])\n",
        "updated_edstay_ad.info()"
      ],
      "metadata": {
        "colab": {
          "base_uri": "https://localhost:8080/",
          "height": 0
        },
        "id": "pTeKBcqXNJbJ",
        "outputId": "1e30f8ba-4aa8-484e-806b-d6811cea1f03"
      },
      "execution_count": 28,
      "outputs": [
        {
          "output_type": "stream",
          "name": "stdout",
          "text": [
            "<class 'pandas.core.frame.DataFrame'>\n",
            "Int64Index: 428284 entries, 0 to 428283\n",
            "Data columns (total 18 columns):\n",
            " #   Column                         Non-Null Count   Dtype  \n",
            "---  ------                         --------------   -----  \n",
            " 0   arrival_transport              428284 non-null  object \n",
            " 1   intime_h                       428284 non-null  float64\n",
            " 2   historical_stay_status         428284 non-null  object \n",
            " 3   historical_stay_length_in_day  428284 non-null  float64\n",
            " 4   temperature                    428284 non-null  float64\n",
            " 5   heartrate                      428284 non-null  float64\n",
            " 6   resprate                       428284 non-null  float64\n",
            " 7   o2sat                          428284 non-null  float64\n",
            " 8   sbp                            428284 non-null  float64\n",
            " 9   dbp                            428284 non-null  float64\n",
            " 10  acuity                         428284 non-null  float64\n",
            " 11  temperaturemissing             428284 non-null  float64\n",
            " 12  heartratemissing               428284 non-null  float64\n",
            " 13  respratemissing                428284 non-null  float64\n",
            " 14  o2satmissing                   428284 non-null  float64\n",
            " 15  sbpmissing                     428284 non-null  float64\n",
            " 16  dbpmissing                     428284 non-null  float64\n",
            " 17  acuitymissing                  428284 non-null  float64\n",
            "dtypes: float64(16), object(2)\n",
            "memory usage: 62.1+ MB\n"
          ]
        }
      ]
    },
    {
      "cell_type": "code",
      "source": [
        "trans_pip = ColumnTransformer([\n",
        "    (\"num\",StandardScaler(), num_attr),\n",
        "    (\"cat\",OneHotEncoder(),cat_attr)\n",
        "],remainder='passthrough')"
      ],
      "metadata": {
        "id": "HgaPD8yHOUUU"
      },
      "execution_count": 29,
      "outputs": []
    },
    {
      "cell_type": "code",
      "execution_count": 30,
      "metadata": {
        "id": "7uVRXHx5iR9F"
      },
      "outputs": [],
      "source": [
        "triage_2 = edstay_ad[['subject_id','stay_id', 'y_var','chiefcomplaint']]"
      ]
    },
    {
      "cell_type": "code",
      "execution_count": 31,
      "metadata": {
        "colab": {
          "base_uri": "https://localhost:8080/",
          "height": 49
        },
        "id": "KNdCBa-yiUGd",
        "outputId": "73fc1659-5bd8-4bd5-e542-c6262d3ab4de"
      },
      "outputs": [
        {
          "output_type": "execute_result",
          "data": {
            "text/plain": [
              "Empty DataFrame\n",
              "Columns: [subject_id, stay_id, y_var, chiefcomplaint]\n",
              "Index: []"
            ],
            "text/html": [
              "\n",
              "  <div id=\"df-ac0ac441-854c-44c1-adc0-3233784f599b\">\n",
              "    <div class=\"colab-df-container\">\n",
              "      <div>\n",
              "<style scoped>\n",
              "    .dataframe tbody tr th:only-of-type {\n",
              "        vertical-align: middle;\n",
              "    }\n",
              "\n",
              "    .dataframe tbody tr th {\n",
              "        vertical-align: top;\n",
              "    }\n",
              "\n",
              "    .dataframe thead th {\n",
              "        text-align: right;\n",
              "    }\n",
              "</style>\n",
              "<table border=\"1\" class=\"dataframe\">\n",
              "  <thead>\n",
              "    <tr style=\"text-align: right;\">\n",
              "      <th></th>\n",
              "      <th>subject_id</th>\n",
              "      <th>stay_id</th>\n",
              "      <th>y_var</th>\n",
              "      <th>chiefcomplaint</th>\n",
              "    </tr>\n",
              "  </thead>\n",
              "  <tbody>\n",
              "  </tbody>\n",
              "</table>\n",
              "</div>\n",
              "      <button class=\"colab-df-convert\" onclick=\"convertToInteractive('df-ac0ac441-854c-44c1-adc0-3233784f599b')\"\n",
              "              title=\"Convert this dataframe to an interactive table.\"\n",
              "              style=\"display:none;\">\n",
              "        \n",
              "  <svg xmlns=\"http://www.w3.org/2000/svg\" height=\"24px\"viewBox=\"0 0 24 24\"\n",
              "       width=\"24px\">\n",
              "    <path d=\"M0 0h24v24H0V0z\" fill=\"none\"/>\n",
              "    <path d=\"M18.56 5.44l.94 2.06.94-2.06 2.06-.94-2.06-.94-.94-2.06-.94 2.06-2.06.94zm-11 1L8.5 8.5l.94-2.06 2.06-.94-2.06-.94L8.5 2.5l-.94 2.06-2.06.94zm10 10l.94 2.06.94-2.06 2.06-.94-2.06-.94-.94-2.06-.94 2.06-2.06.94z\"/><path d=\"M17.41 7.96l-1.37-1.37c-.4-.4-.92-.59-1.43-.59-.52 0-1.04.2-1.43.59L10.3 9.45l-7.72 7.72c-.78.78-.78 2.05 0 2.83L4 21.41c.39.39.9.59 1.41.59.51 0 1.02-.2 1.41-.59l7.78-7.78 2.81-2.81c.8-.78.8-2.07 0-2.86zM5.41 20L4 18.59l7.72-7.72 1.47 1.35L5.41 20z\"/>\n",
              "  </svg>\n",
              "      </button>\n",
              "      \n",
              "  <style>\n",
              "    .colab-df-container {\n",
              "      display:flex;\n",
              "      flex-wrap:wrap;\n",
              "      gap: 12px;\n",
              "    }\n",
              "\n",
              "    .colab-df-convert {\n",
              "      background-color: #E8F0FE;\n",
              "      border: none;\n",
              "      border-radius: 50%;\n",
              "      cursor: pointer;\n",
              "      display: none;\n",
              "      fill: #1967D2;\n",
              "      height: 32px;\n",
              "      padding: 0 0 0 0;\n",
              "      width: 32px;\n",
              "    }\n",
              "\n",
              "    .colab-df-convert:hover {\n",
              "      background-color: #E2EBFA;\n",
              "      box-shadow: 0px 1px 2px rgba(60, 64, 67, 0.3), 0px 1px 3px 1px rgba(60, 64, 67, 0.15);\n",
              "      fill: #174EA6;\n",
              "    }\n",
              "\n",
              "    [theme=dark] .colab-df-convert {\n",
              "      background-color: #3B4455;\n",
              "      fill: #D2E3FC;\n",
              "    }\n",
              "\n",
              "    [theme=dark] .colab-df-convert:hover {\n",
              "      background-color: #434B5C;\n",
              "      box-shadow: 0px 1px 3px 1px rgba(0, 0, 0, 0.15);\n",
              "      filter: drop-shadow(0px 1px 2px rgba(0, 0, 0, 0.3));\n",
              "      fill: #FFFFFF;\n",
              "    }\n",
              "  </style>\n",
              "\n",
              "      <script>\n",
              "        const buttonEl =\n",
              "          document.querySelector('#df-ac0ac441-854c-44c1-adc0-3233784f599b button.colab-df-convert');\n",
              "        buttonEl.style.display =\n",
              "          google.colab.kernel.accessAllowed ? 'block' : 'none';\n",
              "\n",
              "        async function convertToInteractive(key) {\n",
              "          const element = document.querySelector('#df-ac0ac441-854c-44c1-adc0-3233784f599b');\n",
              "          const dataTable =\n",
              "            await google.colab.kernel.invokeFunction('convertToInteractive',\n",
              "                                                     [key], {});\n",
              "          if (!dataTable) return;\n",
              "\n",
              "          const docLinkHtml = 'Like what you see? Visit the ' +\n",
              "            '<a target=\"_blank\" href=https://colab.research.google.com/notebooks/data_table.ipynb>data table notebook</a>'\n",
              "            + ' to learn more about interactive tables.';\n",
              "          element.innerHTML = '';\n",
              "          dataTable['output_type'] = 'display_data';\n",
              "          await google.colab.output.renderOutput(dataTable, element);\n",
              "          const docLink = document.createElement('div');\n",
              "          docLink.innerHTML = docLinkHtml;\n",
              "          element.appendChild(docLink);\n",
              "        }\n",
              "      </script>\n",
              "    </div>\n",
              "  </div>\n",
              "  "
            ]
          },
          "metadata": {},
          "execution_count": 31
        }
      ],
      "source": [
        "triage_2[triage_2.y_var.isna()]"
      ]
    },
    {
      "cell_type": "code",
      "execution_count": 32,
      "metadata": {
        "colab": {
          "base_uri": "https://localhost:8080/",
          "height": 300
        },
        "id": "yFGua0vwiWSk",
        "outputId": "e5621bf2-049d-4e72-a6c7-a77ccbce3227"
      },
      "outputs": [
        {
          "output_type": "execute_result",
          "data": {
            "text/plain": [
              "        subject_id   stay_id  y_var chiefcomplaint\n",
              "209834    14913519  33280070      1            NaN\n",
              "219040    15127661  39766508      1            NaN\n",
              "230046    15376111  34216718      1            NaN\n",
              "241580    15632852  37860864      0            NaN\n",
              "307992    17192157  31192693      0            NaN\n",
              "322362    17526143  30744048      1            NaN\n",
              "356784    18321345  37024607      1            NaN\n",
              "360935    18425846  33948058      1            NaN"
            ],
            "text/html": [
              "\n",
              "  <div id=\"df-3e69ea7b-286c-44e1-966f-939e214a44d6\">\n",
              "    <div class=\"colab-df-container\">\n",
              "      <div>\n",
              "<style scoped>\n",
              "    .dataframe tbody tr th:only-of-type {\n",
              "        vertical-align: middle;\n",
              "    }\n",
              "\n",
              "    .dataframe tbody tr th {\n",
              "        vertical-align: top;\n",
              "    }\n",
              "\n",
              "    .dataframe thead th {\n",
              "        text-align: right;\n",
              "    }\n",
              "</style>\n",
              "<table border=\"1\" class=\"dataframe\">\n",
              "  <thead>\n",
              "    <tr style=\"text-align: right;\">\n",
              "      <th></th>\n",
              "      <th>subject_id</th>\n",
              "      <th>stay_id</th>\n",
              "      <th>y_var</th>\n",
              "      <th>chiefcomplaint</th>\n",
              "    </tr>\n",
              "  </thead>\n",
              "  <tbody>\n",
              "    <tr>\n",
              "      <th>209834</th>\n",
              "      <td>14913519</td>\n",
              "      <td>33280070</td>\n",
              "      <td>1</td>\n",
              "      <td>NaN</td>\n",
              "    </tr>\n",
              "    <tr>\n",
              "      <th>219040</th>\n",
              "      <td>15127661</td>\n",
              "      <td>39766508</td>\n",
              "      <td>1</td>\n",
              "      <td>NaN</td>\n",
              "    </tr>\n",
              "    <tr>\n",
              "      <th>230046</th>\n",
              "      <td>15376111</td>\n",
              "      <td>34216718</td>\n",
              "      <td>1</td>\n",
              "      <td>NaN</td>\n",
              "    </tr>\n",
              "    <tr>\n",
              "      <th>241580</th>\n",
              "      <td>15632852</td>\n",
              "      <td>37860864</td>\n",
              "      <td>0</td>\n",
              "      <td>NaN</td>\n",
              "    </tr>\n",
              "    <tr>\n",
              "      <th>307992</th>\n",
              "      <td>17192157</td>\n",
              "      <td>31192693</td>\n",
              "      <td>0</td>\n",
              "      <td>NaN</td>\n",
              "    </tr>\n",
              "    <tr>\n",
              "      <th>322362</th>\n",
              "      <td>17526143</td>\n",
              "      <td>30744048</td>\n",
              "      <td>1</td>\n",
              "      <td>NaN</td>\n",
              "    </tr>\n",
              "    <tr>\n",
              "      <th>356784</th>\n",
              "      <td>18321345</td>\n",
              "      <td>37024607</td>\n",
              "      <td>1</td>\n",
              "      <td>NaN</td>\n",
              "    </tr>\n",
              "    <tr>\n",
              "      <th>360935</th>\n",
              "      <td>18425846</td>\n",
              "      <td>33948058</td>\n",
              "      <td>1</td>\n",
              "      <td>NaN</td>\n",
              "    </tr>\n",
              "  </tbody>\n",
              "</table>\n",
              "</div>\n",
              "      <button class=\"colab-df-convert\" onclick=\"convertToInteractive('df-3e69ea7b-286c-44e1-966f-939e214a44d6')\"\n",
              "              title=\"Convert this dataframe to an interactive table.\"\n",
              "              style=\"display:none;\">\n",
              "        \n",
              "  <svg xmlns=\"http://www.w3.org/2000/svg\" height=\"24px\"viewBox=\"0 0 24 24\"\n",
              "       width=\"24px\">\n",
              "    <path d=\"M0 0h24v24H0V0z\" fill=\"none\"/>\n",
              "    <path d=\"M18.56 5.44l.94 2.06.94-2.06 2.06-.94-2.06-.94-.94-2.06-.94 2.06-2.06.94zm-11 1L8.5 8.5l.94-2.06 2.06-.94-2.06-.94L8.5 2.5l-.94 2.06-2.06.94zm10 10l.94 2.06.94-2.06 2.06-.94-2.06-.94-.94-2.06-.94 2.06-2.06.94z\"/><path d=\"M17.41 7.96l-1.37-1.37c-.4-.4-.92-.59-1.43-.59-.52 0-1.04.2-1.43.59L10.3 9.45l-7.72 7.72c-.78.78-.78 2.05 0 2.83L4 21.41c.39.39.9.59 1.41.59.51 0 1.02-.2 1.41-.59l7.78-7.78 2.81-2.81c.8-.78.8-2.07 0-2.86zM5.41 20L4 18.59l7.72-7.72 1.47 1.35L5.41 20z\"/>\n",
              "  </svg>\n",
              "      </button>\n",
              "      \n",
              "  <style>\n",
              "    .colab-df-container {\n",
              "      display:flex;\n",
              "      flex-wrap:wrap;\n",
              "      gap: 12px;\n",
              "    }\n",
              "\n",
              "    .colab-df-convert {\n",
              "      background-color: #E8F0FE;\n",
              "      border: none;\n",
              "      border-radius: 50%;\n",
              "      cursor: pointer;\n",
              "      display: none;\n",
              "      fill: #1967D2;\n",
              "      height: 32px;\n",
              "      padding: 0 0 0 0;\n",
              "      width: 32px;\n",
              "    }\n",
              "\n",
              "    .colab-df-convert:hover {\n",
              "      background-color: #E2EBFA;\n",
              "      box-shadow: 0px 1px 2px rgba(60, 64, 67, 0.3), 0px 1px 3px 1px rgba(60, 64, 67, 0.15);\n",
              "      fill: #174EA6;\n",
              "    }\n",
              "\n",
              "    [theme=dark] .colab-df-convert {\n",
              "      background-color: #3B4455;\n",
              "      fill: #D2E3FC;\n",
              "    }\n",
              "\n",
              "    [theme=dark] .colab-df-convert:hover {\n",
              "      background-color: #434B5C;\n",
              "      box-shadow: 0px 1px 3px 1px rgba(0, 0, 0, 0.15);\n",
              "      filter: drop-shadow(0px 1px 2px rgba(0, 0, 0, 0.3));\n",
              "      fill: #FFFFFF;\n",
              "    }\n",
              "  </style>\n",
              "\n",
              "      <script>\n",
              "        const buttonEl =\n",
              "          document.querySelector('#df-3e69ea7b-286c-44e1-966f-939e214a44d6 button.colab-df-convert');\n",
              "        buttonEl.style.display =\n",
              "          google.colab.kernel.accessAllowed ? 'block' : 'none';\n",
              "\n",
              "        async function convertToInteractive(key) {\n",
              "          const element = document.querySelector('#df-3e69ea7b-286c-44e1-966f-939e214a44d6');\n",
              "          const dataTable =\n",
              "            await google.colab.kernel.invokeFunction('convertToInteractive',\n",
              "                                                     [key], {});\n",
              "          if (!dataTable) return;\n",
              "\n",
              "          const docLinkHtml = 'Like what you see? Visit the ' +\n",
              "            '<a target=\"_blank\" href=https://colab.research.google.com/notebooks/data_table.ipynb>data table notebook</a>'\n",
              "            + ' to learn more about interactive tables.';\n",
              "          element.innerHTML = '';\n",
              "          dataTable['output_type'] = 'display_data';\n",
              "          await google.colab.output.renderOutput(dataTable, element);\n",
              "          const docLink = document.createElement('div');\n",
              "          docLink.innerHTML = docLinkHtml;\n",
              "          element.appendChild(docLink);\n",
              "        }\n",
              "      </script>\n",
              "    </div>\n",
              "  </div>\n",
              "  "
            ]
          },
          "metadata": {},
          "execution_count": 32
        }
      ],
      "source": [
        "triage_2[triage_2.chiefcomplaint.isna()]"
      ]
    },
    {
      "cell_type": "code",
      "execution_count": 33,
      "metadata": {
        "colab": {
          "base_uri": "https://localhost:8080/",
          "height": 0
        },
        "id": "U1JEt0WmiYG6",
        "outputId": "102198f3-2080-473c-ee89-d8470ae85f07"
      },
      "outputs": [
        {
          "output_type": "stream",
          "name": "stderr",
          "text": [
            "/usr/local/lib/python3.7/dist-packages/pandas/core/indexing.py:1817: SettingWithCopyWarning: \n",
            "A value is trying to be set on a copy of a slice from a DataFrame.\n",
            "Try using .loc[row_indexer,col_indexer] = value instead\n",
            "\n",
            "See the caveats in the documentation: https://pandas.pydata.org/pandas-docs/stable/user_guide/indexing.html#returning-a-view-versus-a-copy\n",
            "  self._setitem_single_column(loc, value, pi)\n"
          ]
        }
      ],
      "source": [
        "triage_2.loc[triage_2['chiefcomplaint'].isna(),'chiefcomplaint'] = ''"
      ]
    },
    {
      "cell_type": "code",
      "execution_count": 34,
      "metadata": {
        "colab": {
          "base_uri": "https://localhost:8080/",
          "height": 49
        },
        "id": "Bdjz31XMmhQU",
        "outputId": "9c8ea2f5-9102-4bc9-ce00-1543979ce0dd"
      },
      "outputs": [
        {
          "output_type": "execute_result",
          "data": {
            "text/plain": [
              "Empty DataFrame\n",
              "Columns: [subject_id, stay_id, y_var, chiefcomplaint]\n",
              "Index: []"
            ],
            "text/html": [
              "\n",
              "  <div id=\"df-72cb24ac-7ca3-4488-9a7c-a1b56a2088e6\">\n",
              "    <div class=\"colab-df-container\">\n",
              "      <div>\n",
              "<style scoped>\n",
              "    .dataframe tbody tr th:only-of-type {\n",
              "        vertical-align: middle;\n",
              "    }\n",
              "\n",
              "    .dataframe tbody tr th {\n",
              "        vertical-align: top;\n",
              "    }\n",
              "\n",
              "    .dataframe thead th {\n",
              "        text-align: right;\n",
              "    }\n",
              "</style>\n",
              "<table border=\"1\" class=\"dataframe\">\n",
              "  <thead>\n",
              "    <tr style=\"text-align: right;\">\n",
              "      <th></th>\n",
              "      <th>subject_id</th>\n",
              "      <th>stay_id</th>\n",
              "      <th>y_var</th>\n",
              "      <th>chiefcomplaint</th>\n",
              "    </tr>\n",
              "  </thead>\n",
              "  <tbody>\n",
              "  </tbody>\n",
              "</table>\n",
              "</div>\n",
              "      <button class=\"colab-df-convert\" onclick=\"convertToInteractive('df-72cb24ac-7ca3-4488-9a7c-a1b56a2088e6')\"\n",
              "              title=\"Convert this dataframe to an interactive table.\"\n",
              "              style=\"display:none;\">\n",
              "        \n",
              "  <svg xmlns=\"http://www.w3.org/2000/svg\" height=\"24px\"viewBox=\"0 0 24 24\"\n",
              "       width=\"24px\">\n",
              "    <path d=\"M0 0h24v24H0V0z\" fill=\"none\"/>\n",
              "    <path d=\"M18.56 5.44l.94 2.06.94-2.06 2.06-.94-2.06-.94-.94-2.06-.94 2.06-2.06.94zm-11 1L8.5 8.5l.94-2.06 2.06-.94-2.06-.94L8.5 2.5l-.94 2.06-2.06.94zm10 10l.94 2.06.94-2.06 2.06-.94-2.06-.94-.94-2.06-.94 2.06-2.06.94z\"/><path d=\"M17.41 7.96l-1.37-1.37c-.4-.4-.92-.59-1.43-.59-.52 0-1.04.2-1.43.59L10.3 9.45l-7.72 7.72c-.78.78-.78 2.05 0 2.83L4 21.41c.39.39.9.59 1.41.59.51 0 1.02-.2 1.41-.59l7.78-7.78 2.81-2.81c.8-.78.8-2.07 0-2.86zM5.41 20L4 18.59l7.72-7.72 1.47 1.35L5.41 20z\"/>\n",
              "  </svg>\n",
              "      </button>\n",
              "      \n",
              "  <style>\n",
              "    .colab-df-container {\n",
              "      display:flex;\n",
              "      flex-wrap:wrap;\n",
              "      gap: 12px;\n",
              "    }\n",
              "\n",
              "    .colab-df-convert {\n",
              "      background-color: #E8F0FE;\n",
              "      border: none;\n",
              "      border-radius: 50%;\n",
              "      cursor: pointer;\n",
              "      display: none;\n",
              "      fill: #1967D2;\n",
              "      height: 32px;\n",
              "      padding: 0 0 0 0;\n",
              "      width: 32px;\n",
              "    }\n",
              "\n",
              "    .colab-df-convert:hover {\n",
              "      background-color: #E2EBFA;\n",
              "      box-shadow: 0px 1px 2px rgba(60, 64, 67, 0.3), 0px 1px 3px 1px rgba(60, 64, 67, 0.15);\n",
              "      fill: #174EA6;\n",
              "    }\n",
              "\n",
              "    [theme=dark] .colab-df-convert {\n",
              "      background-color: #3B4455;\n",
              "      fill: #D2E3FC;\n",
              "    }\n",
              "\n",
              "    [theme=dark] .colab-df-convert:hover {\n",
              "      background-color: #434B5C;\n",
              "      box-shadow: 0px 1px 3px 1px rgba(0, 0, 0, 0.15);\n",
              "      filter: drop-shadow(0px 1px 2px rgba(0, 0, 0, 0.3));\n",
              "      fill: #FFFFFF;\n",
              "    }\n",
              "  </style>\n",
              "\n",
              "      <script>\n",
              "        const buttonEl =\n",
              "          document.querySelector('#df-72cb24ac-7ca3-4488-9a7c-a1b56a2088e6 button.colab-df-convert');\n",
              "        buttonEl.style.display =\n",
              "          google.colab.kernel.accessAllowed ? 'block' : 'none';\n",
              "\n",
              "        async function convertToInteractive(key) {\n",
              "          const element = document.querySelector('#df-72cb24ac-7ca3-4488-9a7c-a1b56a2088e6');\n",
              "          const dataTable =\n",
              "            await google.colab.kernel.invokeFunction('convertToInteractive',\n",
              "                                                     [key], {});\n",
              "          if (!dataTable) return;\n",
              "\n",
              "          const docLinkHtml = 'Like what you see? Visit the ' +\n",
              "            '<a target=\"_blank\" href=https://colab.research.google.com/notebooks/data_table.ipynb>data table notebook</a>'\n",
              "            + ' to learn more about interactive tables.';\n",
              "          element.innerHTML = '';\n",
              "          dataTable['output_type'] = 'display_data';\n",
              "          await google.colab.output.renderOutput(dataTable, element);\n",
              "          const docLink = document.createElement('div');\n",
              "          docLink.innerHTML = docLinkHtml;\n",
              "          element.appendChild(docLink);\n",
              "        }\n",
              "      </script>\n",
              "    </div>\n",
              "  </div>\n",
              "  "
            ]
          },
          "metadata": {},
          "execution_count": 34
        }
      ],
      "source": [
        "triage_2[triage_2['chiefcomplaint'].isna()]"
      ]
    },
    {
      "cell_type": "code",
      "execution_count": 35,
      "metadata": {
        "colab": {
          "base_uri": "https://localhost:8080/",
          "height": 0
        },
        "id": "16YXIBH_ioRr",
        "outputId": "6651034c-ad47-401c-e57b-49c70ca6b43a"
      },
      "outputs": [
        {
          "output_type": "stream",
          "name": "stderr",
          "text": [
            "/usr/local/lib/python3.7/dist-packages/pandas/core/generic.py:5516: SettingWithCopyWarning: \n",
            "A value is trying to be set on a copy of a slice from a DataFrame.\n",
            "Try using .loc[row_indexer,col_indexer] = value instead\n",
            "\n",
            "See the caveats in the documentation: https://pandas.pydata.org/pandas-docs/stable/user_guide/indexing.html#returning-a-view-versus-a-copy\n",
            "  self[name] = value\n"
          ]
        }
      ],
      "source": [
        "# Preprocess the job_description (remove the weird part of strings)\n",
        "def preprocess_text(text):\n",
        "    if type(text) == float:\n",
        "        return text\n",
        "    text = text.lower()\n",
        "    text = re.sub(r\"([.,!?])\", r\" \\1 \", text)\n",
        "    text = re.sub(r\"[^a-zA-Z.,!?]+\", r\" \", text)\n",
        "    return text\n",
        "    \n",
        "triage_2.chiefcomplaint = triage_2.chiefcomplaint.apply(preprocess_text)"
      ]
    },
    {
      "cell_type": "code",
      "execution_count": 36,
      "metadata": {
        "id": "611DCkBZipYq"
      },
      "outputs": [],
      "source": [
        "df_pre_icd_full = pd.read_csv('previous_icd_code.csv')\n",
        "\n",
        "triage_3 = pd.merge(triage_2,df_pre_icd_full, how = \"left\",on=['subject_id', 'stay_id'])"
      ]
    },
    {
      "cell_type": "markdown",
      "metadata": {
        "id": "OeSk69mei0Uf"
      },
      "source": [
        "# 2. Text data overview"
      ]
    },
    {
      "cell_type": "code",
      "execution_count": 37,
      "metadata": {
        "id": "B2tgKLDgkHqd"
      },
      "outputs": [],
      "source": [
        "# 2. Split the dataset"
      ]
    },
    {
      "cell_type": "code",
      "execution_count": 38,
      "metadata": {
        "id": "KcYxPXiMkKtR"
      },
      "outputs": [],
      "source": [
        "#set random index, create train set and validation set from the original train set\n",
        "\n",
        "#create array of random index\n",
        "np.random.seed(123)\n",
        "ind = np.arange(len(triage_3))\n",
        "np.random.shuffle(ind)\n",
        "#create testing index  = 0 to 0.20 * random index\n",
        "test_index = ind[:int(len(triage_3) * 0.20)]\n",
        "#create val index  = 0.20 to 0.30 * random index\n",
        "val_index = ind[int(len(triage_3) * 0.20):int(len(triage_3) * 0.30)]\n",
        "#create train index = 0.30 * random index to end\n",
        "train_index = ind[int(len(triage_3) * 0.30):]"
      ]
    },
    {
      "cell_type": "code",
      "execution_count": 39,
      "metadata": {
        "id": "PGASQwJ1lIY3"
      },
      "outputs": [],
      "source": [
        "train_samples_chief =  triage_3.chiefcomplaint[train_index]\n",
        "train_samples_his =  triage_3.pre_icd_code[train_index]\n",
        "val_samples_chief =  triage_3.chiefcomplaint[val_index]\n",
        "val_samples_his =  triage_3.pre_icd_code[val_index]\n",
        "test_samples_chief =  triage_3.chiefcomplaint[test_index]\n",
        "test_samples_his =  triage_3.pre_icd_code[test_index]\n",
        "train_samples_o =  updated_edstay_ad.iloc[train_index]\n",
        "val_samples_o =  updated_edstay_ad.iloc[val_index]\n",
        "test_samples_o =  updated_edstay_ad.iloc[test_index]\n",
        "train_labels =  triage_3.y_var[train_index]\n",
        "val_labels = triage_3.y_var[val_index]\n",
        "test_labels = triage_3.y_var[test_index]"
      ]
    },
    {
      "cell_type": "markdown",
      "metadata": {
        "id": "1Ppo387um95r"
      },
      "source": [
        "# 3. Embedding for chief complaint and historical icd code\n",
        "\n",
        "### 3.1 Embedding for chief complaint"
      ]
    },
    {
      "cell_type": "code",
      "execution_count": 42,
      "metadata": {
        "id": "IltdDsh2nFCj"
      },
      "outputs": [],
      "source": [
        "vectorizer = TextVectorization(output_sequence_length=5)\n",
        "text_ds = tf.data.Dataset.from_tensor_slices(train_samples_chief).batch(128)\n",
        "vectorizer.adapt(text_ds)"
      ]
    },
    {
      "cell_type": "code",
      "execution_count": 43,
      "metadata": {
        "colab": {
          "base_uri": "https://localhost:8080/",
          "height": 0
        },
        "id": "Xj9dlAkem9La",
        "outputId": "8e9a0664-6ee5-482c-ccc2-8278c361c560"
      },
      "outputs": [
        {
          "output_type": "execute_result",
          "data": {
            "text/plain": [
              "['', '[UNK]', 'pain', 'abd', 'l']"
            ]
          },
          "metadata": {},
          "execution_count": 43
        }
      ],
      "source": [
        "#print top 5 words\n",
        "vectorizer.get_vocabulary()[:5]"
      ]
    },
    {
      "cell_type": "code",
      "execution_count": 44,
      "metadata": {
        "colab": {
          "base_uri": "https://localhost:8080/",
          "height": 0
        },
        "id": "N23Bavr3na6P",
        "outputId": "9600d1fd-0749-47e1-81a4-d84f1ded3c06"
      },
      "outputs": [
        {
          "output_type": "execute_result",
          "data": {
            "text/plain": [
              "array([ 3,  2, 28, 20,  0])"
            ]
          },
          "metadata": {},
          "execution_count": 44
        }
      ],
      "source": [
        "#example of vectorizing a sentences:\n",
        "output = vectorizer([[\"Abd pain, Wound eval\"]])\n",
        "output.numpy()[0, :6]"
      ]
    },
    {
      "cell_type": "code",
      "execution_count": 45,
      "metadata": {
        "id": "oPirBJSJnpHb"
      },
      "outputs": [],
      "source": [
        "#build vocabulary dictionary for chief complaint:\n",
        "voc = vectorizer.get_vocabulary()\n",
        "word_index = dict(zip(voc, range(len(voc))))"
      ]
    },
    {
      "cell_type": "code",
      "execution_count": null,
      "metadata": {
        "id": "hwWyTKhgn0Qm"
      },
      "outputs": [],
      "source": [
        "#load the model w2vec for chief complaint:\n",
        "model_w2v = KeyedVectors.load_word2vec_format('W2vec/BioWordVec_PubMed_MIMICIII_d200.vec.bin', binary=True)"
      ]
    },
    {
      "cell_type": "code",
      "execution_count": null,
      "metadata": {
        "colab": {
          "base_uri": "https://localhost:8080/"
        },
        "id": "dZagaNdKoHt6",
        "outputId": "e2cd8e48-a1f0-47f3-e583-74ddb72a0f46"
      },
      "outputs": [
        {
          "output_type": "stream",
          "name": "stdout",
          "text": [
            "Converted 4220 words (156 misses)\n"
          ]
        }
      ],
      "source": [
        "num_tokens = len(voc) + 2\n",
        "embedding_dim = 200\n",
        "hits = 0\n",
        "misses = 0\n",
        "\n",
        "# Prepare embedding matrix\n",
        "embedding_matrix = np.zeros((num_tokens, embedding_dim))\n",
        "for word, i in word_index.items():\n",
        "    if word in model_w2v.vocab:\n",
        "        embedding_vector = model_w2v.get_vector(word)\n",
        "        embedding_matrix[i] = embedding_vector\n",
        "        hits += 1\n",
        "    else:\n",
        "        initializer = tf.keras.initializers.GlorotNormal(seed = 123)\n",
        "        values = initializer(shape=(1, 200))\n",
        "        embedding_matrix[i] = values\n",
        "        misses += 1\n",
        "print(\"Converted %d words (%d misses)\" % (hits, misses))\n"
      ]
    },
    {
      "cell_type": "code",
      "execution_count": null,
      "metadata": {
        "id": "2ZY5zbX_oPLy"
      },
      "outputs": [],
      "source": [
        "#create embedding layers\n",
        "embedding_layer = Embedding(\n",
        "    num_tokens,\n",
        "    embedding_dim,\n",
        "    embeddings_initializer=keras.initializers.Constant(embedding_matrix),\n",
        "    trainable=False,\n",
        ")"
      ]
    },
    {
      "cell_type": "markdown",
      "metadata": {
        "id": "jjGj0rCPqPwV"
      },
      "source": [
        "### 3.2 Embedding for historical icd code group"
      ]
    },
    {
      "cell_type": "code",
      "execution_count": 47,
      "metadata": {
        "id": "aBXpSUpkopQj"
      },
      "outputs": [],
      "source": [
        "his_icd_top198 = pd.read_csv('top198historical_icd.csv')"
      ]
    },
    {
      "cell_type": "code",
      "execution_count": 48,
      "metadata": {
        "id": "AQRI1A4UouPw"
      },
      "outputs": [],
      "source": [
        "vectorizer_his = TextVectorization(output_sequence_length=5)\n",
        "text_ds_his = tf.data.Dataset.from_tensor_slices(his_icd_top198['icd_group']).batch(128)\n",
        "vectorizer_his.adapt(text_ds_his)"
      ]
    },
    {
      "cell_type": "code",
      "execution_count": 49,
      "metadata": {
        "colab": {
          "base_uri": "https://localhost:8080/",
          "height": 0
        },
        "id": "x3fAiKOCovxg",
        "outputId": "94ba3d9f-377c-4a0f-c416-edc65faaa2ca"
      },
      "outputs": [
        {
          "output_type": "execute_result",
          "data": {
            "text/plain": [
              "['', '[UNK]', 'z99', 'z95', 'z94']"
            ]
          },
          "metadata": {},
          "execution_count": 49
        }
      ],
      "source": [
        "#top 5 icd:\n",
        "\n",
        "vectorizer_his.get_vocabulary()[:5]"
      ]
    },
    {
      "cell_type": "code",
      "execution_count": null,
      "metadata": {
        "id": "PfMJBbe5o1et"
      },
      "outputs": [],
      "source": [
        "voc_his = vectorizer_his.get_vocabulary()\n",
        "word_index_his = dict(zip(voc_his, range(len(voc_his))))\n",
        "num_tokens_his = len(voc_his) + 2\n",
        "embedding_dim_his = 200\n",
        "\n",
        "\n",
        "# Prepare embedding matrix (create one hot encoding matrix for historical icd code)\n",
        "embedding_matrix_his = np.zeros((num_tokens_his, embedding_dim_his))\n",
        "for word, i in word_index_his.items():\n",
        "    embedding_vector = np.zeros(embedding_dim_his)\n",
        "    embedding_vector[vectorizer_his([word]).numpy()[0][0]] = 1\n",
        "    embedding_matrix_his[i] = embedding_vector"
      ]
    },
    {
      "cell_type": "code",
      "execution_count": null,
      "metadata": {
        "id": "V1Yz8G3ZpOW0"
      },
      "outputs": [],
      "source": [
        "embedding_layer_his = Embedding(\n",
        "    num_tokens_his,\n",
        "    embedding_dim_his,\n",
        "    embeddings_initializer=keras.initializers.Constant(embedding_matrix_his),\n",
        "    trainable=False,\n",
        ")"
      ]
    },
    {
      "cell_type": "markdown",
      "metadata": {
        "id": "1YNFmBoVqMFT"
      },
      "source": [
        "### 3.3 Concat 2 embedding"
      ]
    },
    {
      "cell_type": "code",
      "execution_count": null,
      "metadata": {
        "id": "6tijLqBTqXOm"
      },
      "outputs": [],
      "source": [
        "#tf.concat([embedding_layer(x_train[0]),[embedding_layer_his(x_train[0])]],0)"
      ]
    },
    {
      "cell_type": "markdown",
      "metadata": {
        "id": "2qpk0Hglqoaw"
      },
      "source": [
        "# 4 BiGRU model using historical and current data (historical icd code & chief complaint)"
      ]
    },
    {
      "cell_type": "code",
      "execution_count": 51,
      "metadata": {
        "id": "nYljj_U9nBkT"
      },
      "outputs": [],
      "source": [
        "x_train = vectorizer(np.array([[s] for s in train_samples_chief])).numpy()\n",
        "x_train_his = vectorizer_his(np.array([[s] for s in train_samples_his])).numpy()\n",
        "x_train_o = trans_pip.fit_transform(train_samples_o)\n",
        "y_train = np.array(train_labels)\n",
        "\n",
        "x_val = vectorizer(np.array([[s] for s in val_samples_chief])).numpy()\n",
        "x_val_his = vectorizer_his(np.array([[s] for s in val_samples_his])).numpy()\n",
        "x_val_o = trans_pip.transform(val_samples_o)\n",
        "y_val = np.array(val_labels)\n",
        "\n"
      ]
    },
    {
      "cell_type": "code",
      "source": [
        "x_train_o.shape"
      ],
      "metadata": {
        "colab": {
          "base_uri": "https://localhost:8080/"
        },
        "id": "TN5esIqN8qNU",
        "outputId": "3838d2f8-d205-442e-a0f9-420724a1b240"
      },
      "execution_count": null,
      "outputs": [
        {
          "output_type": "execute_result",
          "data": {
            "text/plain": [
              "(299799, 24)"
            ]
          },
          "metadata": {},
          "execution_count": 120
        }
      ]
    },
    {
      "cell_type": "code",
      "execution_count": null,
      "metadata": {
        "id": "0FDeXKPiszhA"
      },
      "outputs": [],
      "source": [
        "\n",
        "#Optimized parameters for LSTM: {'units': 114, 'activation': 'tanh', 'optimizer': 'adam', 'rate': 0}\n",
        "#Optimized parameters for MLP: {'units': 100/50/1, 'glorot_uniform', 0, 'relu'}\n",
        "\n",
        "col1 = keras.Input(shape = (5,))\n",
        "embedded_sequences1 = embedding_layer_his(col1)\n",
        "col2 = keras.Input(shape = (5,))\n",
        "embedded_sequences2 = embedding_layer(col2)\n",
        "embedded_sequences = keras.layers.Concatenate(axis=1)([embedded_sequences1, embedded_sequences2])\n",
        "inp3 = keras.Input(shape = (24,))\n",
        "\n",
        "def create_mlp(dim):\n",
        "  inp3 = keras.Input(shape = (dim,))\n",
        "  x = keras.layers.Dense(100, kernel_initializer = 'he_normal', input_dim=dim, activation=\"relu\")(inp3)\n",
        "  x = keras.layers.Dense(64, kernel_initializer = 'he_normal', activation=\"relu\")(x)\n",
        "  #x = keras.layers.Dense(32, kernel_initializer = 'he_normal', activation=\"relu\")(x)\n",
        "  #x = keras.layers.Dense(1,  activation=\"sigmoid\")(x)\n",
        "  #preds = keras.layers.Dense(1,activation = 'sigmoid')(x)\n",
        "  model = keras.models.Model(inputs = inp3, outputs = x)\n",
        "  return model\n",
        "\n",
        "def create_GRU():\n",
        "  col1 = keras.Input(shape = (5,))\n",
        "  col2 = keras.Input(shape = (5,))\n",
        "  embedded_sequences1 = embedding_layer_his(col1)\n",
        "  embedded_sequences2 = embedding_layer(col2)\n",
        "  embedded_sequences = keras.layers.Concatenate(axis=1)([embedded_sequences1, embedded_sequences2])\n",
        "  x = keras.layers.Bidirectional(keras.layers.GRU(114, return_sequences=True))(embedded_sequences)\n",
        "  x = keras.layers.Bidirectional(keras.layers.GRU(114))(x)\n",
        "  x = keras.layers.Dense(64,activation = 'relu')(x)\n",
        "  #preds = keras.layers.Dense(1,activation = 'sigmoid')(x)\n",
        "  model = keras.models.Model(inputs = [col1,col2], outputs = x)\n",
        "  return model\n",
        "  \n",
        "tf.random.set_seed(42)\n",
        "\n",
        "mlp = create_mlp(24)\n",
        "gru = create_GRU()\n"
      ]
    },
    {
      "cell_type": "code",
      "source": [
        "combinedInput = keras.layers.concatenate([mlp.output, gru.output])\n",
        "x = keras.layers.Dense(64)(combinedInput)\n",
        "x = keras.layers.Dense(32)(x)\n",
        "x = keras.layers.Dense(1, activation=\"sigmoid\")(x)\n",
        "model = keras.models.Model(inputs=[mlp.input, gru.input], outputs=x)\n"
      ],
      "metadata": {
        "id": "kfspuTHKUCXY"
      },
      "execution_count": null,
      "outputs": []
    },
    {
      "cell_type": "code",
      "source": [
        "\n",
        "model.compile(loss = 'binary_crossentropy', optimizer = 'Adam', metrics = \"accuracy\")\n",
        "early = EarlyStopping(monitor='val_loss', patience=10)"
      ],
      "metadata": {
        "id": "HsdEH5_zWsE5"
      },
      "execution_count": null,
      "outputs": []
    },
    {
      "cell_type": "code",
      "source": [
        "weights = {0:1-(sum(y_train)/len(y_train)),1:sum(y_train)/len(y_train)}\n",
        "model.fit(x=[x_train_o,[x_train_his,x_train]], y = y_train, validation_data=([x_val_o,[x_val_his,x_val]], y_val), batch_size = 256, epochs=100, callbacks=[early],class_weight = weights)\n"
      ],
      "metadata": {
        "colab": {
          "base_uri": "https://localhost:8080/"
        },
        "id": "VQ4NwxJmW8Yz",
        "outputId": "deaa31d4-90b5-471f-96cf-e8b6e9ec80ba"
      },
      "execution_count": null,
      "outputs": [
        {
          "output_type": "stream",
          "name": "stdout",
          "text": [
            "Epoch 1/100\n",
            "1172/1172 [==============================] - 22s 14ms/step - loss: 0.2313 - accuracy: 0.7596 - val_loss: 0.5197 - val_accuracy: 0.7632\n",
            "Epoch 2/100\n",
            "1172/1172 [==============================] - 15s 13ms/step - loss: 0.2243 - accuracy: 0.7671 - val_loss: 0.5010 - val_accuracy: 0.7708\n",
            "Epoch 3/100\n",
            "1172/1172 [==============================] - 15s 13ms/step - loss: 0.2222 - accuracy: 0.7695 - val_loss: 0.5110 - val_accuracy: 0.7618\n",
            "Epoch 4/100\n",
            "1172/1172 [==============================] - 15s 13ms/step - loss: 0.2211 - accuracy: 0.7714 - val_loss: 0.4863 - val_accuracy: 0.7717\n",
            "Epoch 5/100\n",
            "1172/1172 [==============================] - 15s 13ms/step - loss: 0.2198 - accuracy: 0.7721 - val_loss: 0.5042 - val_accuracy: 0.7625\n",
            "Epoch 6/100\n",
            "1172/1172 [==============================] - 15s 13ms/step - loss: 0.2189 - accuracy: 0.7733 - val_loss: 0.4869 - val_accuracy: 0.7696\n",
            "Epoch 7/100\n",
            "1172/1172 [==============================] - 15s 13ms/step - loss: 0.2180 - accuracy: 0.7746 - val_loss: 0.4917 - val_accuracy: 0.7665\n",
            "Epoch 8/100\n",
            "1172/1172 [==============================] - 15s 13ms/step - loss: 0.2169 - accuracy: 0.7759 - val_loss: 0.4783 - val_accuracy: 0.7719\n",
            "Epoch 9/100\n",
            "1172/1172 [==============================] - 15s 13ms/step - loss: 0.2158 - accuracy: 0.7772 - val_loss: 0.4821 - val_accuracy: 0.7712\n",
            "Epoch 10/100\n",
            "1172/1172 [==============================] - 15s 13ms/step - loss: 0.2144 - accuracy: 0.7785 - val_loss: 0.4844 - val_accuracy: 0.7687\n",
            "Epoch 11/100\n",
            "1172/1172 [==============================] - 15s 13ms/step - loss: 0.2132 - accuracy: 0.7802 - val_loss: 0.4825 - val_accuracy: 0.7661\n",
            "Epoch 12/100\n",
            "1172/1172 [==============================] - 15s 13ms/step - loss: 0.2116 - accuracy: 0.7827 - val_loss: 0.4895 - val_accuracy: 0.7698\n",
            "Epoch 13/100\n",
            "1172/1172 [==============================] - 15s 13ms/step - loss: 0.2098 - accuracy: 0.7840 - val_loss: 0.4760 - val_accuracy: 0.7682\n",
            "Epoch 14/100\n",
            "1172/1172 [==============================] - 15s 13ms/step - loss: 0.2080 - accuracy: 0.7865 - val_loss: 0.4998 - val_accuracy: 0.7665\n",
            "Epoch 15/100\n",
            "1172/1172 [==============================] - 15s 12ms/step - loss: 0.2062 - accuracy: 0.7880 - val_loss: 0.5096 - val_accuracy: 0.7681\n",
            "Epoch 16/100\n",
            "1172/1172 [==============================] - 15s 13ms/step - loss: 0.2047 - accuracy: 0.7898 - val_loss: 0.4990 - val_accuracy: 0.7709\n",
            "Epoch 17/100\n",
            "1172/1172 [==============================] - 15s 13ms/step - loss: 0.2031 - accuracy: 0.7915 - val_loss: 0.4995 - val_accuracy: 0.7690\n",
            "Epoch 18/100\n",
            "1172/1172 [==============================] - 15s 13ms/step - loss: 0.2013 - accuracy: 0.7934 - val_loss: 0.5081 - val_accuracy: 0.7654\n",
            "Epoch 19/100\n",
            "1172/1172 [==============================] - 15s 13ms/step - loss: 0.1998 - accuracy: 0.7951 - val_loss: 0.5115 - val_accuracy: 0.7621\n",
            "Epoch 20/100\n",
            "1172/1172 [==============================] - 15s 13ms/step - loss: 0.1984 - accuracy: 0.7962 - val_loss: 0.5200 - val_accuracy: 0.7653\n",
            "Epoch 21/100\n",
            "1172/1172 [==============================] - 15s 13ms/step - loss: 0.1974 - accuracy: 0.7981 - val_loss: 0.5246 - val_accuracy: 0.7654\n",
            "Epoch 22/100\n",
            "1172/1172 [==============================] - 15s 12ms/step - loss: 0.1961 - accuracy: 0.7987 - val_loss: 0.5447 - val_accuracy: 0.7660\n",
            "Epoch 23/100\n",
            "1172/1172 [==============================] - 15s 12ms/step - loss: 0.1948 - accuracy: 0.8001 - val_loss: 0.5553 - val_accuracy: 0.7666\n"
          ]
        },
        {
          "output_type": "execute_result",
          "data": {
            "text/plain": [
              "<keras.callbacks.History at 0x7fdefe782290>"
            ]
          },
          "metadata": {},
          "execution_count": 124
        }
      ]
    },
    {
      "cell_type": "code",
      "source": [
        "#model.save('/content/drive/MyDrive/Capstone_project/model_2.h5')"
      ],
      "metadata": {
        "id": "NW9ZBR5y1Fav"
      },
      "execution_count": null,
      "outputs": []
    },
    {
      "cell_type": "code",
      "source": [
        "from keras.utils.vis_utils import plot_model\n",
        "#plot_model(model, to_file='model_plot_1.png', show_shapes=True, show_layer_names=True)\n",
        "plot_model(model, show_shapes=True, show_layer_names=True)"
      ],
      "metadata": {
        "colab": {
          "base_uri": "https://localhost:8080/",
          "height": 1000
        },
        "id": "3Rv9Q0Jlm-Pm",
        "outputId": "a6ceac18-3a87-4f33-89ca-d702479d5fcc"
      },
      "execution_count": null,
      "outputs": [
        {
          "output_type": "execute_result",
          "data": {
            "image/png": "[encoded data removed]",
            "text/plain": [
              "<IPython.core.display.Image object>"
            ]
          },
          "metadata": {},
          "execution_count": 126
        }
      ]
    },
    {
      "cell_type": "code",
      "source": [
        "x_test = vectorizer(np.array([[s] for s in test_samples_chief])).numpy()\n",
        "x_test_his = vectorizer_his(np.array([[s] for s in test_samples_his])).numpy()\n",
        "x_test_o = trans_pip.transform(test_samples_o)\n",
        "y_test = np.array(test_labels)"
      ],
      "metadata": {
        "id": "cX8iIXzfEU4A"
      },
      "execution_count": 52,
      "outputs": []
    },
    {
      "cell_type": "code",
      "source": [
        "y_test_pred = model.predict(x=[x_test_o,x_test_his, x_test])\n",
        "\n",
        "print(\"roc auc for validation set:\", roc_auc_score(y_test, y_test_pred))\n",
        "y_pred_test_class = np.where(y_test_pred> 0.5, 1, 0)\n",
        "print(\"accuracy score for test set:\", accuracy_score(y_test, y_pred_test_class))\n",
        "print(\"f1 score for test set:\", f1_score(y_test, y_pred_test_class))\n",
        "confusion_matrix(y_test, y_pred_test_class)\n",
        "\n"
      ],
      "metadata": {
        "colab": {
          "base_uri": "https://localhost:8080/"
        },
        "id": "zXrvv3onEgOB",
        "outputId": "87097e23-334b-48a3-b977-fa94fbdf94d3"
      },
      "execution_count": null,
      "outputs": [
        {
          "output_type": "stream",
          "name": "stdout",
          "text": [
            "roc auc for validation set: 0.8381142704839775\n",
            "accuracy score for test set: 0.7662277015036891\n",
            "f1 score for test set: 0.6743111805081161\n"
          ]
        },
        {
          "output_type": "execute_result",
          "data": {
            "text/plain": [
              "array([[44903,  5944],\n",
              "       [14080, 20729]])"
            ]
          },
          "metadata": {},
          "execution_count": 128
        }
      ]
    },
    {
      "cell_type": "code",
      "source": [
        "disp = ConfusionMatrixDisplay(confusion_matrix(y_test, y_pred_test_class), display_labels = [\"Home\",\"Admitted\"])\n",
        "disp.plot()\n",
        "plt.show()"
      ],
      "metadata": {
        "colab": {
          "base_uri": "https://localhost:8080/",
          "height": 279
        },
        "id": "RgZb6Y4AgcMZ",
        "outputId": "2889a6da-2037-4e13-da0b-7a888307070c"
      },
      "execution_count": null,
      "outputs": [
        {
          "output_type": "display_data",
          "data": {
            "text/plain": [
              "<Figure size 432x288 with 2 Axes>"
            ],
            "image/png": "[encoded data removed]"
          },
          "metadata": {
            "needs_background": "light"
          }
        }
      ]
    },
    {
      "cell_type": "code",
      "source": [
        "loaded_1 = keras.models.load_model(\"/content/drive/MyDrive/Capstone_project/model_2.h5\")\n"
      ],
      "metadata": {
        "id": "Q10Q50rvtdAR"
      },
      "execution_count": 40,
      "outputs": []
    },
    {
      "cell_type": "code",
      "source": [
        "weights = {0:1-(sum(y_train)/len(y_train)),1:sum(y_train)/len(y_train)}"
      ],
      "metadata": {
        "id": "cxZUa2wXu3iZ"
      },
      "execution_count": 54,
      "outputs": []
    },
    {
      "cell_type": "code",
      "source": [
        "y_test_pred = loaded_1.predict(x=[x_test_o,x_test_his, x_test])\n",
        "\n",
        "print(\"roc auc for validation set:\", roc_auc_score(y_test, y_test_pred))\n",
        "y_pred_test_class = np.where(y_test_pred> 0.5, 1, 0)\n",
        "print(\"accuracy score for test set:\", accuracy_score(y_test, y_pred_test_class))\n",
        "print(\"f1 score for test set:\", f1_score(y_test, y_pred_test_class))\n",
        "confusion_matrix(y_test, y_pred_test_class)\n"
      ],
      "metadata": {
        "colab": {
          "base_uri": "https://localhost:8080/",
          "height": 0
        },
        "id": "dKeW1QsVurFE",
        "outputId": "25c531b4-e050-48a4-a28e-babd9d1dcc3e"
      },
      "execution_count": 55,
      "outputs": [
        {
          "output_type": "stream",
          "name": "stdout",
          "text": [
            "roc auc for validation set: 0.8381142704839775\n",
            "accuracy score for test set: 0.7662277015036891\n",
            "f1 score for test set: 0.6743111805081161\n"
          ]
        },
        {
          "output_type": "execute_result",
          "data": {
            "text/plain": [
              "array([[44903,  5944],\n",
              "       [14080, 20729]])"
            ]
          },
          "metadata": {},
          "execution_count": 55
        }
      ]
    },
    {
      "cell_type": "code",
      "source": [
        "y_test_pred = loaded_1.predict(x=[x_test_o,x_test_his, x_test])\n",
        "\n",
        "print(\"roc auc for validation set:\", roc_auc_score(y_test, y_test_pred))\n",
        "y_pred_test_class = np.where(y_test_pred> weights[1], 1, 0)\n",
        "print(\"accuracy score for test set:\", accuracy_score(y_test, y_pred_test_class))\n",
        "print(\"f1 score for test set:\", f1_score(y_test, y_pred_test_class))\n",
        "confusion_matrix(y_test, y_pred_test_class)"
      ],
      "metadata": {
        "colab": {
          "base_uri": "https://localhost:8080/",
          "height": 0
        },
        "id": "JCfpuamcu0C0",
        "outputId": "bd0b10f4-8acf-443d-e698-6e1dd8fc7ef4"
      },
      "execution_count": 56,
      "outputs": [
        {
          "output_type": "stream",
          "name": "stdout",
          "text": [
            "roc auc for validation set: 0.8381142704839775\n",
            "accuracy score for test set: 0.770477257868684\n",
            "f1 score for test set: 0.7060230875052336\n"
          ]
        },
        {
          "output_type": "execute_result",
          "data": {
            "text/plain": [
              "array([[42388,  8459],\n",
              "       [11201, 23608]])"
            ]
          },
          "metadata": {},
          "execution_count": 56
        }
      ]
    },
    {
      "cell_type": "code",
      "source": [
        "disp = ConfusionMatrixDisplay(confusion_matrix(y_test, y_pred_test_class), display_labels = [\"Home\",\"Admitted\"])\n",
        "disp.plot()\n",
        "plt.show()"
      ],
      "metadata": {
        "colab": {
          "base_uri": "https://localhost:8080/",
          "height": 279
        },
        "id": "x2zBo7HlvDxP",
        "outputId": "c019897f-4dc9-44ab-a4bc-58eb33eeb55c"
      },
      "execution_count": 57,
      "outputs": [
        {
          "output_type": "display_data",
          "data": {
            "text/plain": [
              "<Figure size 432x288 with 2 Axes>"
            ],
            "image/png": "[encoded data removed]"
          },
          "metadata": {
            "needs_background": "light"
          }
        }
      ]
    },
    {
      "cell_type": "code",
      "source": [
        "pd.DataFrame(x_test_o).to_csv(\"x_test_o.csv\",index=False)\n",
        "pd.DataFrame(x_test).to_csv(\"x_test.csv\",index=False)\n",
        "pd.DataFrame(x_test_his).to_csv(\"x_test_his.csv\",index=False)\n",
        "pd.DataFrame(train_samples_o).to_csv(\"train_samples_o.csv\",index=False)\n",
        "pd.DataFrame(test_samples_his).to_csv(\"test_samples_his.csv\",index=False)\n",
        "pd.DataFrame(test_samples_chief).to_csv(\"test_samples_chief.csv\",index=False)\n",
        "pd.DataFrame(edstay_ad1).to_csv(\"edstay_ad1.csv\",index=False)"
      ],
      "metadata": {
        "id": "QgfgMgIjYmtg"
      },
      "execution_count": null,
      "outputs": []
    }
  ]
}