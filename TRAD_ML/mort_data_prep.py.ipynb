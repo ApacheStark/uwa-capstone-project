{
 "cells": [
  {
   "cell_type": "code",
   "execution_count": 1,
   "id": "61edd0fc",
   "metadata": {},
   "outputs": [],
   "source": [
    "import pandas as pd\n",
    "\n",
    "def look_n_load(path):\n",
    "    df = pd.read_csv(path)\n",
    "    print('\\nShape:', df.shape)\n",
    "    print('\\nColumns:', list(df.columns))\n",
    "    # print('\\nData Type:',df.info())\n",
    "    # print('\\n',df.describe())\n",
    "    print('\\nMissing proportions:\\n', df.isna().sum()/len(df))\n",
    "    return df"
   ]
  },
  {
   "cell_type": "code",
   "execution_count": 5,
   "id": "3d549410",
   "metadata": {},
   "outputs": [],
   "source": [
    "triage = pd.read_csv('C:/Users/lai_h/Documents/GitHub/Capstone-Private-/dataset/triage.csv')"
   ]
  },
  {
   "cell_type": "code",
   "execution_count": 6,
   "id": "f7e560e6",
   "metadata": {},
   "outputs": [],
   "source": [
    "diagnosis = pd.read_csv('C:/Users/lai_h/Documents/GitHub/Capstone-Private-/dataset/diagnosis.csv')"
   ]
  },
  {
   "cell_type": "code",
   "execution_count": 7,
   "id": "35f0a876",
   "metadata": {},
   "outputs": [
    {
     "name": "stdout",
     "output_type": "stream",
     "text": [
      "\n",
      "Shape: (447712, 9)\n",
      "\n",
      "Columns: ['subject_id', 'hadm_id', 'stay_id', 'intime', 'outtime', 'gender', 'race', 'arrival_transport', 'disposition']\n",
      "\n",
      "Missing proportions:\n",
      " subject_id           0.000000\n",
      "hadm_id              0.522213\n",
      "stay_id              0.000000\n",
      "intime               0.000000\n",
      "outtime              0.000000\n",
      "gender               0.000000\n",
      "race                 0.000000\n",
      "arrival_transport    0.000000\n",
      "disposition          0.000000\n",
      "dtype: float64\n"
     ]
    }
   ],
   "source": [
    "edstays = look_n_load('C:/Users/lai_h/Documents/GitHub/Capstone-Private-/dataset/edstays.csv')"
   ]
  },
  {
   "cell_type": "markdown",
   "id": "13e02971",
   "metadata": {},
   "source": [
    "# Initial Data Analysis (with sweetviz)\n"
   ]
  },
  {
   "cell_type": "code",
   "execution_count": 5,
   "id": "af05b754",
   "metadata": {},
   "outputs": [],
   "source": [
    "# import sweetviz as sv\n",
    "\n",
    "# my_report = sv.analyze(edstays)\n",
    "# my_report.show_html()"
   ]
  },
  {
   "cell_type": "code",
   "execution_count": 6,
   "id": "2722e192",
   "metadata": {},
   "outputs": [],
   "source": [
    "# import sweetviz as sv\n",
    "# # create a list object to store all dataframes\n",
    "# lst = [diagnosis, edstays, medrecon, pyxis, triage, vitalsign]\n",
    "# for i in lst:\n",
    "#     # use sweetviz to analyze each dataframe\n",
    "#     my_report = sv.analyze(i)\n",
    "#     # show the html report\n",
    "#     my_report.show_html()  \n",
    "    \n",
    "    "
   ]
  },
  {
   "cell_type": "markdown",
   "id": "778802d2",
   "metadata": {},
   "source": [
    "# Initial Data Visualization"
   ]
  },
  {
   "cell_type": "code",
   "execution_count": 12,
   "id": "5c8f50f1",
   "metadata": {},
   "outputs": [
    {
     "data": {
      "image/png": "[encoded data removed]",
      "text/plain": [
       "<Figure size 1440x576 with 1 Axes>"
      ]
     },
     "metadata": {
      "needs_background": "light"
     },
     "output_type": "display_data"
    }
   ],
   "source": [
    "import plotly.express as px\n",
    "import seaborn as sns\n",
    "from matplotlib import pyplot as plt\n",
    "# # build a bar chart for disposition column in dataframe edstays\n",
    "# fig = px.histogram(edstays, x='disposition', template='plotly_white', text_auto=True)\n",
    "# fig.update_layout(title='Histogram of Disposition')\n",
    "# fig.show()\n",
    "\n",
    "# plot the histogram of disposition using seaborn\n",
    "plt.figure(figsize=(20,8))\n",
    "ax = sns.histplot(data=edstays, x=\"disposition\")\n"
   ]
  },
  {
   "cell_type": "code",
   "execution_count": 8,
   "id": "607d8a9a",
   "metadata": {},
   "outputs": [
    {
     "data": {
      "text/plain": [
       "HOME                           254545\n",
       "ADMITTED                       166303\n",
       "TRANSFER                         7436\n",
       "LEFT WITHOUT BEING SEEN          6516\n",
       "ELOPED                           6011\n",
       "OTHER                            4520\n",
       "LEFT AGAINST MEDICAL ADVICE      1986\n",
       "EXPIRED                           395\n",
       "Name: disposition, dtype: int64"
      ]
     },
     "execution_count": 8,
     "metadata": {},
     "output_type": "execute_result"
    }
   ],
   "source": [
    "edstays['disposition'].value_counts()"
   ]
  },
  {
   "cell_type": "markdown",
   "id": "2da4ceb9",
   "metadata": {},
   "source": [
    "# Data Preprocessing and merging"
   ]
  },
  {
   "cell_type": "code",
   "execution_count": 20,
   "id": "4d49a112",
   "metadata": {},
   "outputs": [],
   "source": [
    "# create new column for disposition\n",
    "# in column disposition, if value is 'EXPIRED' then assign 1, otherwise assign 0\n",
    "edstays['disposition_binary'] = edstays['disposition'].apply(lambda x: 1 if x == 'EXPIRED' else 0)"
   ]
  },
  {
   "cell_type": "code",
   "execution_count": 21,
   "id": "0c185e6e",
   "metadata": {},
   "outputs": [
    {
     "data": {
      "text/plain": [
       "0    447317\n",
       "1       395\n",
       "Name: disposition_binary, dtype: int64"
      ]
     },
     "execution_count": 21,
     "metadata": {},
     "output_type": "execute_result"
    }
   ],
   "source": [
    "edstays['disposition_binary'].value_counts()\n"
   ]
  },
  {
   "cell_type": "code",
   "execution_count": 24,
   "id": "58b7b04b",
   "metadata": {},
   "outputs": [
    {
     "data": {
      "text/plain": [
       "<AxesSubplot:xlabel='disposition_binary', ylabel='count'>"
      ]
     },
     "execution_count": 24,
     "metadata": {},
     "output_type": "execute_result"
    },
    {
     "data": {
      "image/png": "[encoded data removed]",
      "text/plain": [
       "<Figure size 432x288 with 1 Axes>"
      ]
     },
     "metadata": {
      "needs_background": "light"
     },
     "output_type": "display_data"
    }
   ],
   "source": [
    "# histogram of disposition_binary\n",
    "# fig = px.histogram(edstays, x='disposition_binary', template='plotly_white', text_auto=True)\n",
    "# fig.update_layout(title='Histogram of Disposition Binary')\n",
    "# fig.show()\n",
    "\n",
    "sns.countplot(x=\"disposition_binary\", data=edstays)"
   ]
  },
  {
   "cell_type": "markdown",
   "id": "9b749a31",
   "metadata": {},
   "source": [
    "- 0 means patient is not expired, have 447317 records\n",
    "- 1 means patient is expired, have  395 records\n",
    "- data is highly imbalanced"
   ]
  },
  {
   "cell_type": "code",
   "execution_count": 25,
   "id": "eef6278c",
   "metadata": {},
   "outputs": [],
   "source": [
    "def find_admission(x):\n",
    "    if x in ['ADMITTED', 'TRANSFER']:\n",
    "        return 1\n",
    "    else:\n",
    "        return 0\n",
    "    \n",
    "edstays['admitted'] = edstays['disposition'].apply(find_admission)"
   ]
  },
  {
   "cell_type": "code",
   "execution_count": 26,
   "id": "280097ae",
   "metadata": {},
   "outputs": [
    {
     "data": {
      "text/html": [
       "<div><div id=0c1aa169-2cc3-410e-b68f-f1c5757029e1 style=\"display:none; background-color:#9D6CFF; color:white; width:200px; height:30px; padding-left:5px; border-radius:4px; flex-direction:row; justify-content:space-around; align-items:center;\" onmouseover=\"this.style.backgroundColor='#BA9BF8'\" onmouseout=\"this.style.backgroundColor='#9D6CFF'\" onclick=\"window.commands?.execute('create-mitosheet-from-dataframe-output');\">See Full Dataframe in Mito</div> <script> if (window.commands?.hasCommand('create-mitosheet-from-dataframe-output')) document.getElementById('0c1aa169-2cc3-410e-b68f-f1c5757029e1').style.display = 'flex' </script> <table border=\"1\" class=\"dataframe\">\n",
       "  <thead>\n",
       "    <tr style=\"text-align: right;\">\n",
       "      <th></th>\n",
       "      <th>subject_id</th>\n",
       "      <th>hadm_id</th>\n",
       "      <th>stay_id</th>\n",
       "      <th>intime</th>\n",
       "      <th>outtime</th>\n",
       "      <th>gender</th>\n",
       "      <th>race</th>\n",
       "      <th>arrival_transport</th>\n",
       "      <th>disposition</th>\n",
       "      <th>disposition_binary</th>\n",
       "      <th>admitted</th>\n",
       "      <th>difftime</th>\n",
       "      <th>nights</th>\n",
       "      <th>hours</th>\n",
       "      <th>discharge_hour</th>\n",
       "      <th>admission_hour</th>\n",
       "      <th>admission_date</th>\n",
       "      <th>admission_day</th>\n",
       "    </tr>\n",
       "  </thead>\n",
       "  <tbody>\n",
       "    <tr>\n",
       "      <th>0</th>\n",
       "      <td>10000032</td>\n",
       "      <td>22595853.0</td>\n",
       "      <td>33258284</td>\n",
       "      <td>2180-06-05 19:17:00</td>\n",
       "      <td>2180-06-05 23:30:00</td>\n",
       "      <td>F</td>\n",
       "      <td>WHITE</td>\n",
       "      <td>AMBULANCE</td>\n",
       "      <td>ADMITTED</td>\n",
       "      <td>0</td>\n",
       "      <td>1</td>\n",
       "      <td>0 days 04:13:00</td>\n",
       "      <td>0</td>\n",
       "      <td>4.2</td>\n",
       "      <td>23</td>\n",
       "      <td>19</td>\n",
       "      <td>2180-06-05</td>\n",
       "      <td>5</td>\n",
       "    </tr>\n",
       "    <tr>\n",
       "      <th>1</th>\n",
       "      <td>10000032</td>\n",
       "      <td>22841357.0</td>\n",
       "      <td>38112554</td>\n",
       "      <td>2180-06-26 15:54:00</td>\n",
       "      <td>2180-06-26 21:31:00</td>\n",
       "      <td>F</td>\n",
       "      <td>WHITE</td>\n",
       "      <td>AMBULANCE</td>\n",
       "      <td>ADMITTED</td>\n",
       "      <td>0</td>\n",
       "      <td>1</td>\n",
       "      <td>0 days 05:37:00</td>\n",
       "      <td>0</td>\n",
       "      <td>5.6</td>\n",
       "      <td>21</td>\n",
       "      <td>15</td>\n",
       "      <td>2180-06-26</td>\n",
       "      <td>26</td>\n",
       "    </tr>\n",
       "    <tr>\n",
       "      <th>2</th>\n",
       "      <td>10000032</td>\n",
       "      <td>25742920.0</td>\n",
       "      <td>35968195</td>\n",
       "      <td>2180-05-08 20:58:00</td>\n",
       "      <td>2180-06-08 01:44:00</td>\n",
       "      <td>F</td>\n",
       "      <td>WHITE</td>\n",
       "      <td>AMBULANCE</td>\n",
       "      <td>ADMITTED</td>\n",
       "      <td>0</td>\n",
       "      <td>1</td>\n",
       "      <td>30 days 04:46:00</td>\n",
       "      <td>30</td>\n",
       "      <td>724.8</td>\n",
       "      <td>1</td>\n",
       "      <td>20</td>\n",
       "      <td>2180-05-08</td>\n",
       "      <td>8</td>\n",
       "    </tr>\n",
       "    <tr>\n",
       "      <th>3</th>\n",
       "      <td>10000032</td>\n",
       "      <td>29079034.0</td>\n",
       "      <td>32952584</td>\n",
       "      <td>2180-07-22 16:24:00</td>\n",
       "      <td>2180-07-23 05:54:00</td>\n",
       "      <td>F</td>\n",
       "      <td>WHITE</td>\n",
       "      <td>AMBULANCE</td>\n",
       "      <td>HOME</td>\n",
       "      <td>0</td>\n",
       "      <td>0</td>\n",
       "      <td>0 days 13:30:00</td>\n",
       "      <td>0</td>\n",
       "      <td>13.5</td>\n",
       "      <td>5</td>\n",
       "      <td>16</td>\n",
       "      <td>2180-07-22</td>\n",
       "      <td>22</td>\n",
       "    </tr>\n",
       "    <tr>\n",
       "      <th>4</th>\n",
       "      <td>10000032</td>\n",
       "      <td>29079034.0</td>\n",
       "      <td>39399961</td>\n",
       "      <td>2180-07-23 05:54:00</td>\n",
       "      <td>2180-07-23 14:00:00</td>\n",
       "      <td>F</td>\n",
       "      <td>WHITE</td>\n",
       "      <td>AMBULANCE</td>\n",
       "      <td>ADMITTED</td>\n",
       "      <td>0</td>\n",
       "      <td>1</td>\n",
       "      <td>0 days 08:06:00</td>\n",
       "      <td>0</td>\n",
       "      <td>8.1</td>\n",
       "      <td>14</td>\n",
       "      <td>5</td>\n",
       "      <td>2180-07-23</td>\n",
       "      <td>23</td>\n",
       "    </tr>\n",
       "    <tr>\n",
       "      <th>5</th>\n",
       "      <td>10000084</td>\n",
       "      <td>23052089.0</td>\n",
       "      <td>35203156</td>\n",
       "      <td>2160-11-20 20:36:00</td>\n",
       "      <td>2160-11-21 03:20:00</td>\n",
       "      <td>M</td>\n",
       "      <td>WHITE</td>\n",
       "      <td>WALK IN</td>\n",
       "      <td>ADMITTED</td>\n",
       "      <td>0</td>\n",
       "      <td>1</td>\n",
       "      <td>0 days 06:44:00</td>\n",
       "      <td>0</td>\n",
       "      <td>6.7</td>\n",
       "      <td>3</td>\n",
       "      <td>20</td>\n",
       "      <td>2160-11-20</td>\n",
       "      <td>20</td>\n",
       "    </tr>\n",
       "    <tr>\n",
       "      <th>6</th>\n",
       "      <td>10000084</td>\n",
       "      <td>29888819.0</td>\n",
       "      <td>36954971</td>\n",
       "      <td>2160-12-27 18:32:00</td>\n",
       "      <td>2160-12-28 16:07:00</td>\n",
       "      <td>M</td>\n",
       "      <td>WHITE</td>\n",
       "      <td>AMBULANCE</td>\n",
       "      <td>HOME</td>\n",
       "      <td>0</td>\n",
       "      <td>0</td>\n",
       "      <td>0 days 21:35:00</td>\n",
       "      <td>0</td>\n",
       "      <td>21.6</td>\n",
       "      <td>16</td>\n",
       "      <td>18</td>\n",
       "      <td>2160-12-27</td>\n",
       "      <td>27</td>\n",
       "    </tr>\n",
       "    <tr>\n",
       "      <th>7</th>\n",
       "      <td>10000108</td>\n",
       "      <td>27250926.0</td>\n",
       "      <td>36533795</td>\n",
       "      <td>2163-09-27 16:18:00</td>\n",
       "      <td>2163-09-28 09:04:00</td>\n",
       "      <td>M</td>\n",
       "      <td>WHITE</td>\n",
       "      <td>WALK IN</td>\n",
       "      <td>HOME</td>\n",
       "      <td>0</td>\n",
       "      <td>0</td>\n",
       "      <td>0 days 16:46:00</td>\n",
       "      <td>0</td>\n",
       "      <td>16.8</td>\n",
       "      <td>9</td>\n",
       "      <td>16</td>\n",
       "      <td>2163-09-27</td>\n",
       "      <td>27</td>\n",
       "    </tr>\n",
       "    <tr>\n",
       "      <th>8</th>\n",
       "      <td>10000108</td>\n",
       "      <td>NaN</td>\n",
       "      <td>32522732</td>\n",
       "      <td>2163-09-16 16:34:00</td>\n",
       "      <td>2163-09-16 18:13:00</td>\n",
       "      <td>M</td>\n",
       "      <td>WHITE</td>\n",
       "      <td>WALK IN</td>\n",
       "      <td>HOME</td>\n",
       "      <td>0</td>\n",
       "      <td>0</td>\n",
       "      <td>0 days 01:39:00</td>\n",
       "      <td>0</td>\n",
       "      <td>1.6</td>\n",
       "      <td>18</td>\n",
       "      <td>16</td>\n",
       "      <td>2163-09-16</td>\n",
       "      <td>16</td>\n",
       "    </tr>\n",
       "    <tr>\n",
       "      <th>9</th>\n",
       "      <td>10000108</td>\n",
       "      <td>NaN</td>\n",
       "      <td>39513268</td>\n",
       "      <td>2163-09-24 16:14:00</td>\n",
       "      <td>2163-09-24 21:02:00</td>\n",
       "      <td>M</td>\n",
       "      <td>WHITE</td>\n",
       "      <td>WALK IN</td>\n",
       "      <td>HOME</td>\n",
       "      <td>0</td>\n",
       "      <td>0</td>\n",
       "      <td>0 days 04:48:00</td>\n",
       "      <td>0</td>\n",
       "      <td>4.8</td>\n",
       "      <td>21</td>\n",
       "      <td>16</td>\n",
       "      <td>2163-09-24</td>\n",
       "      <td>24</td>\n",
       "    </tr>\n",
       "  </tbody>\n",
       "</table></div>"
      ],
      "text/plain": [
       "   subject_id     hadm_id   stay_id              intime             outtime  \\\n",
       "0    10000032  22595853.0  33258284 2180-06-05 19:17:00 2180-06-05 23:30:00   \n",
       "1    10000032  22841357.0  38112554 2180-06-26 15:54:00 2180-06-26 21:31:00   \n",
       "2    10000032  25742920.0  35968195 2180-05-08 20:58:00 2180-06-08 01:44:00   \n",
       "3    10000032  29079034.0  32952584 2180-07-22 16:24:00 2180-07-23 05:54:00   \n",
       "4    10000032  29079034.0  39399961 2180-07-23 05:54:00 2180-07-23 14:00:00   \n",
       "5    10000084  23052089.0  35203156 2160-11-20 20:36:00 2160-11-21 03:20:00   \n",
       "6    10000084  29888819.0  36954971 2160-12-27 18:32:00 2160-12-28 16:07:00   \n",
       "7    10000108  27250926.0  36533795 2163-09-27 16:18:00 2163-09-28 09:04:00   \n",
       "8    10000108         NaN  32522732 2163-09-16 16:34:00 2163-09-16 18:13:00   \n",
       "9    10000108         NaN  39513268 2163-09-24 16:14:00 2163-09-24 21:02:00   \n",
       "\n",
       "  gender   race arrival_transport disposition  disposition_binary  admitted  \\\n",
       "0      F  WHITE         AMBULANCE    ADMITTED                   0         1   \n",
       "1      F  WHITE         AMBULANCE    ADMITTED                   0         1   \n",
       "2      F  WHITE         AMBULANCE    ADMITTED                   0         1   \n",
       "3      F  WHITE         AMBULANCE        HOME                   0         0   \n",
       "4      F  WHITE         AMBULANCE    ADMITTED                   0         1   \n",
       "5      M  WHITE           WALK IN    ADMITTED                   0         1   \n",
       "6      M  WHITE         AMBULANCE        HOME                   0         0   \n",
       "7      M  WHITE           WALK IN        HOME                   0         0   \n",
       "8      M  WHITE           WALK IN        HOME                   0         0   \n",
       "9      M  WHITE           WALK IN        HOME                   0         0   \n",
       "\n",
       "          difftime  nights  hours  discharge_hour  admission_hour  \\\n",
       "0  0 days 04:13:00       0    4.2              23              19   \n",
       "1  0 days 05:37:00       0    5.6              21              15   \n",
       "2 30 days 04:46:00      30  724.8               1              20   \n",
       "3  0 days 13:30:00       0   13.5               5              16   \n",
       "4  0 days 08:06:00       0    8.1              14               5   \n",
       "5  0 days 06:44:00       0    6.7               3              20   \n",
       "6  0 days 21:35:00       0   21.6              16              18   \n",
       "7  0 days 16:46:00       0   16.8               9              16   \n",
       "8  0 days 01:39:00       0    1.6              18              16   \n",
       "9  0 days 04:48:00       0    4.8              21              16   \n",
       "\n",
       "  admission_date  admission_day  \n",
       "0     2180-06-05              5  \n",
       "1     2180-06-26             26  \n",
       "2     2180-05-08              8  \n",
       "3     2180-07-22             22  \n",
       "4     2180-07-23             23  \n",
       "5     2160-11-20             20  \n",
       "6     2160-12-27             27  \n",
       "7     2163-09-27             27  \n",
       "8     2163-09-16             16  \n",
       "9     2163-09-24             24  "
      ]
     },
     "execution_count": 26,
     "metadata": {},
     "output_type": "execute_result"
    }
   ],
   "source": [
    "# Author: Samuel Holt \n",
    "# url: https://github.com/ApacheStark/uwa-capstone-project\n",
    "# Thanks Samuel for providing code for data preprocessing\n",
    "if type(edstays['intime'][0]) == type('str'): \n",
    "    edstays['intime'] = pd.to_datetime(edstays['intime'])\n",
    "    edstays['outtime'] = pd.to_datetime(edstays['outtime'])\n",
    "\n",
    "    edstays['difftime'] = edstays['outtime'] - edstays['intime']\n",
    "    edstays['nights'] = [x.days for x in edstays.difftime]\n",
    "    edstays['hours'] = [round(x.total_seconds() / 60 / 60, 1) for x in edstays.difftime]\n",
    "\n",
    "    # need to ensure exact time of dishcarge has been maintained and only the date ambiguated \n",
    "    edstays['discharge_hour'] = [x.hour for x in edstays.outtime]\n",
    "    edstays['admission_hour'] = [x.hour for x in edstays.intime]\n",
    "\n",
    "    edstays['admission_date'] = [x.date() for x in edstays.intime]\n",
    "    edstays['admission_day'] = [x.day for x in edstays.intime]\n",
    "\n",
    "patients_seen = pd.DataFrame(edstays['admission_date'].value_counts()).reset_index()\n",
    "patients_seen = patients_seen.rename(columns={'index':'admission_date', 'admission_date':'patients_seen'})\n",
    "\n",
    "admitted_patients = edstays[edstays['admitted']==1]\n",
    "hospital_capacity = pd.DataFrame(admitted_patients['admission_date'].value_counts()).reset_index()\n",
    "hospital_capacity = hospital_capacity.rename(columns={'index':'admission_date', 'admission_date':'capacity'})\n",
    "\n",
    "edstays.head(10)"
   ]
  },
  {
   "cell_type": "code",
   "execution_count": 27,
   "id": "ec69c192",
   "metadata": {},
   "outputs": [
    {
     "data": {
      "text/html": [
       "<div><div id=741e12ea-9d6a-4d3a-9971-c3f709982a1b style=\"display:none; background-color:#9D6CFF; color:white; width:200px; height:30px; padding-left:5px; border-radius:4px; flex-direction:row; justify-content:space-around; align-items:center;\" onmouseover=\"this.style.backgroundColor='#BA9BF8'\" onmouseout=\"this.style.backgroundColor='#9D6CFF'\" onclick=\"window.commands?.execute('create-mitosheet-from-dataframe-output');\">See Full Dataframe in Mito</div> <script> if (window.commands?.hasCommand('create-mitosheet-from-dataframe-output')) document.getElementById('741e12ea-9d6a-4d3a-9971-c3f709982a1b').style.display = 'flex' </script> <table border=\"1\" class=\"dataframe\">\n",
       "  <thead>\n",
       "    <tr style=\"text-align: right;\">\n",
       "      <th></th>\n",
       "      <th>subject_id</th>\n",
       "      <th>hadm_id</th>\n",
       "      <th>stay_id</th>\n",
       "      <th>intime</th>\n",
       "      <th>outtime</th>\n",
       "      <th>gender</th>\n",
       "      <th>race</th>\n",
       "      <th>arrival_transport</th>\n",
       "      <th>disposition</th>\n",
       "      <th>disposition_binary</th>\n",
       "      <th>admitted</th>\n",
       "      <th>difftime</th>\n",
       "      <th>nights</th>\n",
       "      <th>hours</th>\n",
       "      <th>discharge_hour</th>\n",
       "      <th>admission_hour</th>\n",
       "      <th>admission_date</th>\n",
       "      <th>admission_day</th>\n",
       "    </tr>\n",
       "  </thead>\n",
       "  <tbody>\n",
       "    <tr>\n",
       "      <th>0</th>\n",
       "      <td>10000032</td>\n",
       "      <td>22595853.0</td>\n",
       "      <td>33258284</td>\n",
       "      <td>2180-06-05 19:17:00</td>\n",
       "      <td>2180-06-05 23:30:00</td>\n",
       "      <td>F</td>\n",
       "      <td>WHITE</td>\n",
       "      <td>AMBULANCE</td>\n",
       "      <td>ADMITTED</td>\n",
       "      <td>0</td>\n",
       "      <td>1</td>\n",
       "      <td>0 days 04:13:00</td>\n",
       "      <td>0</td>\n",
       "      <td>4.2</td>\n",
       "      <td>23</td>\n",
       "      <td>19</td>\n",
       "      <td>2180-06-05</td>\n",
       "      <td>5</td>\n",
       "    </tr>\n",
       "    <tr>\n",
       "      <th>1</th>\n",
       "      <td>10000032</td>\n",
       "      <td>22841357.0</td>\n",
       "      <td>38112554</td>\n",
       "      <td>2180-06-26 15:54:00</td>\n",
       "      <td>2180-06-26 21:31:00</td>\n",
       "      <td>F</td>\n",
       "      <td>WHITE</td>\n",
       "      <td>AMBULANCE</td>\n",
       "      <td>ADMITTED</td>\n",
       "      <td>0</td>\n",
       "      <td>1</td>\n",
       "      <td>0 days 05:37:00</td>\n",
       "      <td>0</td>\n",
       "      <td>5.6</td>\n",
       "      <td>21</td>\n",
       "      <td>15</td>\n",
       "      <td>2180-06-26</td>\n",
       "      <td>26</td>\n",
       "    </tr>\n",
       "    <tr>\n",
       "      <th>2</th>\n",
       "      <td>10000032</td>\n",
       "      <td>25742920.0</td>\n",
       "      <td>35968195</td>\n",
       "      <td>2180-05-08 20:58:00</td>\n",
       "      <td>2180-06-08 01:44:00</td>\n",
       "      <td>F</td>\n",
       "      <td>WHITE</td>\n",
       "      <td>AMBULANCE</td>\n",
       "      <td>ADMITTED</td>\n",
       "      <td>0</td>\n",
       "      <td>1</td>\n",
       "      <td>30 days 04:46:00</td>\n",
       "      <td>30</td>\n",
       "      <td>724.8</td>\n",
       "      <td>1</td>\n",
       "      <td>20</td>\n",
       "      <td>2180-05-08</td>\n",
       "      <td>8</td>\n",
       "    </tr>\n",
       "    <tr>\n",
       "      <th>3</th>\n",
       "      <td>10000032</td>\n",
       "      <td>29079034.0</td>\n",
       "      <td>32952584</td>\n",
       "      <td>2180-07-22 16:24:00</td>\n",
       "      <td>2180-07-23 05:54:00</td>\n",
       "      <td>F</td>\n",
       "      <td>WHITE</td>\n",
       "      <td>AMBULANCE</td>\n",
       "      <td>HOME</td>\n",
       "      <td>0</td>\n",
       "      <td>0</td>\n",
       "      <td>0 days 13:30:00</td>\n",
       "      <td>0</td>\n",
       "      <td>13.5</td>\n",
       "      <td>5</td>\n",
       "      <td>16</td>\n",
       "      <td>2180-07-22</td>\n",
       "      <td>22</td>\n",
       "    </tr>\n",
       "    <tr>\n",
       "      <th>4</th>\n",
       "      <td>10000032</td>\n",
       "      <td>29079034.0</td>\n",
       "      <td>39399961</td>\n",
       "      <td>2180-07-23 05:54:00</td>\n",
       "      <td>2180-07-23 14:00:00</td>\n",
       "      <td>F</td>\n",
       "      <td>WHITE</td>\n",
       "      <td>AMBULANCE</td>\n",
       "      <td>ADMITTED</td>\n",
       "      <td>0</td>\n",
       "      <td>1</td>\n",
       "      <td>0 days 08:06:00</td>\n",
       "      <td>0</td>\n",
       "      <td>8.1</td>\n",
       "      <td>14</td>\n",
       "      <td>5</td>\n",
       "      <td>2180-07-23</td>\n",
       "      <td>23</td>\n",
       "    </tr>\n",
       "  </tbody>\n",
       "</table></div>"
      ],
      "text/plain": [
       "   subject_id     hadm_id   stay_id              intime             outtime  \\\n",
       "0    10000032  22595853.0  33258284 2180-06-05 19:17:00 2180-06-05 23:30:00   \n",
       "1    10000032  22841357.0  38112554 2180-06-26 15:54:00 2180-06-26 21:31:00   \n",
       "2    10000032  25742920.0  35968195 2180-05-08 20:58:00 2180-06-08 01:44:00   \n",
       "3    10000032  29079034.0  32952584 2180-07-22 16:24:00 2180-07-23 05:54:00   \n",
       "4    10000032  29079034.0  39399961 2180-07-23 05:54:00 2180-07-23 14:00:00   \n",
       "\n",
       "  gender   race arrival_transport disposition  disposition_binary  admitted  \\\n",
       "0      F  WHITE         AMBULANCE    ADMITTED                   0         1   \n",
       "1      F  WHITE         AMBULANCE    ADMITTED                   0         1   \n",
       "2      F  WHITE         AMBULANCE    ADMITTED                   0         1   \n",
       "3      F  WHITE         AMBULANCE        HOME                   0         0   \n",
       "4      F  WHITE         AMBULANCE    ADMITTED                   0         1   \n",
       "\n",
       "          difftime  nights  hours  discharge_hour  admission_hour  \\\n",
       "0  0 days 04:13:00       0    4.2              23              19   \n",
       "1  0 days 05:37:00       0    5.6              21              15   \n",
       "2 30 days 04:46:00      30  724.8               1              20   \n",
       "3  0 days 13:30:00       0   13.5               5              16   \n",
       "4  0 days 08:06:00       0    8.1              14               5   \n",
       "\n",
       "  admission_date  admission_day  \n",
       "0     2180-06-05              5  \n",
       "1     2180-06-26             26  \n",
       "2     2180-05-08              8  \n",
       "3     2180-07-22             22  \n",
       "4     2180-07-23             23  "
      ]
     },
     "execution_count": 27,
     "metadata": {},
     "output_type": "execute_result"
    }
   ],
   "source": [
    "edstays.head(5)"
   ]
  },
  {
   "cell_type": "code",
   "execution_count": 28,
   "id": "669ec59d",
   "metadata": {},
   "outputs": [],
   "source": [
    "edstays['admission_day_of_week'] = [x.weekday() for x in edstays.intime]"
   ]
  },
  {
   "cell_type": "code",
   "execution_count": 29,
   "id": "acf0daac",
   "metadata": {},
   "outputs": [
    {
     "data": {
      "text/plain": [
       "disposition                  arrival_transport\n",
       "ADMITTED                     AMBULANCE             86800\n",
       "                             HELICOPTER              804\n",
       "                             OTHER                   428\n",
       "                             UNKNOWN                6702\n",
       "                             WALK IN               71569\n",
       "ELOPED                       AMBULANCE              1760\n",
       "                             HELICOPTER                1\n",
       "                             OTHER                    13\n",
       "                             UNKNOWN                1198\n",
       "                             WALK IN                3039\n",
       "EXPIRED                      AMBULANCE               312\n",
       "                             HELICOPTER               18\n",
       "                             UNKNOWN                  33\n",
       "                             WALK IN                  32\n",
       "HOME                         AMBULANCE             68335\n",
       "                             HELICOPTER               48\n",
       "                             OTHER                   856\n",
       "                             UNKNOWN                1184\n",
       "                             WALK IN              184122\n",
       "LEFT AGAINST MEDICAL ADVICE  AMBULANCE               783\n",
       "                             HELICOPTER                2\n",
       "                             OTHER                     4\n",
       "                             UNKNOWN                  81\n",
       "                             WALK IN                1116\n",
       "LEFT WITHOUT BEING SEEN      AMBULANCE               204\n",
       "                             OTHER                     1\n",
       "                             UNKNOWN                5104\n",
       "                             WALK IN                1207\n",
       "OTHER                        AMBULANCE              1585\n",
       "                             HELICOPTER               32\n",
       "                             OTHER                    12\n",
       "                             UNKNOWN                1596\n",
       "                             WALK IN                1295\n",
       "TRANSFER                     AMBULANCE              4159\n",
       "                             HELICOPTER                1\n",
       "                             OTHER                    46\n",
       "                             UNKNOWN                 272\n",
       "                             WALK IN                2958\n",
       "dtype: int64"
      ]
     },
     "execution_count": 29,
     "metadata": {},
     "output_type": "execute_result"
    }
   ],
   "source": [
    "edstays.groupby(['disposition', 'arrival_transport']).size()"
   ]
  },
  {
   "cell_type": "code",
   "execution_count": 30,
   "id": "e71ca34c",
   "metadata": {},
   "outputs": [],
   "source": [
    "edstays2  = edstays_triage = pd.merge(edstays, triage, on=['subject_id','stay_id'], how='inner')"
   ]
  },
  {
   "cell_type": "code",
   "execution_count": 31,
   "id": "da1fbb9b",
   "metadata": {},
   "outputs": [],
   "source": [
    "# merge edstays2 and diagnosis\n",
    "edstays3 = pd.merge(edstays2, diagnosis, on=['subject_id','stay_id'], how='inner')"
   ]
  },
  {
   "cell_type": "code",
   "execution_count": 32,
   "id": "a18d2c8d",
   "metadata": {},
   "outputs": [
    {
     "data": {
      "text/plain": [
       "(946692, 32)"
      ]
     },
     "execution_count": 32,
     "metadata": {},
     "output_type": "execute_result"
    }
   ],
   "source": [
    "edstays3.shape"
   ]
  },
  {
   "cell_type": "markdown",
   "id": "fb6b4e02",
   "metadata": {},
   "source": [
    "- Now the dataset have 32 columns and around 1,000,000 rows"
   ]
  },
  {
   "cell_type": "markdown",
   "id": "8ae83d1f",
   "metadata": {},
   "source": [
    "# Exploratory Data Analysis"
   ]
  },
  {
   "cell_type": "markdown",
   "id": "7a053c13",
   "metadata": {},
   "source": [
    "## Correlation Heatmap"
   ]
  },
  {
   "cell_type": "code",
   "execution_count": 33,
   "id": "299e3351",
   "metadata": {},
   "outputs": [
    {
     "data": {
      "text/plain": [
       "Text(0.5, 1.0, 'Correlation Heatmap')"
      ]
     },
     "execution_count": 33,
     "metadata": {},
     "output_type": "execute_result"
    },
    {
     "data": {
      "image/png": "[encoded data removed]",
      "text/plain": [
       "<Figure size 1296x1440 with 2 Axes>"
      ]
     },
     "metadata": {
      "needs_background": "light"
     },
     "output_type": "display_data"
    }
   ],
   "source": [
    "# Create correlation heatmap\n",
    "# set fig size\n",
    "plt.figure(figsize=(18, 20))\n",
    "plt = sns.heatmap(edstays3.corr(), cmap='coolwarm', annot=True)\n",
    "plt.set_title('Correlation Heatmap', fontsize=20)"
   ]
  },
  {
   "cell_type": "markdown",
   "id": "2478a601",
   "metadata": {},
   "source": [
    "- The main variable to look at is the disposition_binary, which is the binary version of the disposition column.\n",
    "- In general, this column have a very low correlation with other variables."
   ]
  },
  {
   "cell_type": "markdown",
   "id": "ce9af8d2",
   "metadata": {},
   "source": [
    "## Data visualization"
   ]
  },
  {
   "cell_type": "markdown",
   "id": "ab2945d8",
   "metadata": {},
   "source": [
    "- The code below use plotly to create, plotly is a library that can create interactive plots.\n",
    "- However, since the size of the dataset is too large, the plotly cannot be rendered in github.\n",
    "- Therefore, the code below is commented out and added the png file of the plotly plot."
   ]
  },
  {
   "cell_type": "code",
   "execution_count": 2,
   "id": "a61b9fb9",
   "metadata": {},
   "outputs": [],
   "source": [
    "# changed as comment since the picture size is too big\n",
    "\n",
    "# histogram of disposition_binary\n",
    "# fig = px.histogram(edstays3, x='disposition', template='plotly_white', text_auto=True, color='gender')\n",
    "# fig.update_layout(title='Histogram of Disposition')\n",
    "# fig.show()"
   ]
  },
  {
   "cell_type": "code",
   "execution_count": 3,
   "id": "77b697cc",
   "metadata": {},
   "outputs": [],
   "source": [
    "# changed as comment since the picture size is too big\n",
    "\n",
    "# fig = px.histogram(edstays3, x='disposition_binary' ,template='plotly_white', text_auto=True)\n",
    "# fig.update_layout(title='Histogram of Disposition')\n",
    "# fig.show()"
   ]
  },
  {
   "cell_type": "markdown",
   "id": "b26a96ad",
   "metadata": {},
   "source": [
    "- data imbalance issue is found\n",
    "- with 945.873k records are not expired patients vs only 819 expired patients records"
   ]
  },
  {
   "cell_type": "markdown",
   "id": "fa19648e",
   "metadata": {},
   "source": [
    "## Data visualization for EXPIRED patients to check hidden patterns "
   ]
  },
  {
   "cell_type": "code",
   "execution_count": 35,
   "id": "25713c6f",
   "metadata": {},
   "outputs": [],
   "source": [
    "# we would also like to see the EXPIRED patients pattern\n",
    "expired_df = edstays3[edstays3['disposition_binary'] == True]"
   ]
  },
  {
   "cell_type": "code",
   "execution_count": 61,
   "id": "1424f3b9",
   "metadata": {},
   "outputs": [],
   "source": [
    "# code to produce the figure, since the figure is too big, we comment it out and inserted the picture in markdown\n",
    "# fig = px.histogram(expired_df, y='disposition_binary', x='race' ,template='plotly_white', text_auto=True)\n",
    "# fig.update_layout(title='Histogram of Disposition patient (Group by Race)')\n",
    "# # sort the histogram by y-axis\n",
    "# fig.update_xaxes(categoryorder=\"total ascending\")\n",
    "# fig.show()"
   ]
  },
  {
   "cell_type": "markdown",
   "id": "d82cf308",
   "metadata": {},
   "source": [
    "<img src='figure/race_by_expirerd_hist.png' width=\"1000\" height=\"400\">"
   ]
  },
  {
   "cell_type": "markdown",
   "id": "829513bf",
   "metadata": {},
   "source": [
    "- majority of the expired race record is *WHITE*, second is *BLACK/AFRICAN AMERICAN*\n",
    "- The third majority is *UNKNOWN*, There are 70 records "
   ]
  },
  {
   "cell_type": "code",
   "execution_count": 62,
   "id": "84b99cee",
   "metadata": {},
   "outputs": [],
   "source": [
    "# fig = px.histogram(expired_df, y='disposition_binary', x='arrival_transport' ,template='plotly_white', text_auto=True)\n",
    "# fig.update_layout(title='Histogram of Disposition patient (Group by Arrival Transport)')\n",
    "# # sort the histogram by y-axis\n",
    "# fig.update_xaxes(categoryorder=\"total ascending\")\n",
    "# fig.show()"
   ]
  },
  {
   "cell_type": "markdown",
   "id": "d6cc4ae5",
   "metadata": {},
   "source": [
    "<img src='figure/arrival_hist.png' width=\"1000\" height=\"400\">"
   ]
  },
  {
   "cell_type": "markdown",
   "id": "8b78d382",
   "metadata": {},
   "source": [
    "- Majority of the expired patients are using *ambulance* as their arrival transport"
   ]
  },
  {
   "cell_type": "code",
   "execution_count": 63,
   "id": "be23c3f6",
   "metadata": {},
   "outputs": [],
   "source": [
    "# fig = px.histogram(expired_df, y='disposition_binary', x='acuity' ,template='plotly_white', text_auto=True)\n",
    "# fig.update_layout(title='Histogram of Disposition patient (Group by acuity)')\n",
    "# # sort the histogram by y-axis\n",
    "# fig.update_xaxes(categoryorder=\"total ascending\")\n",
    "# fig.show()"
   ]
  },
  {
   "cell_type": "markdown",
   "id": "77affb24",
   "metadata": {},
   "source": [
    "<img src='figure/acuity_hist.png' width=\"1000\" height=\"400\">"
   ]
  },
  {
   "cell_type": "markdown",
   "id": "2ff1a121",
   "metadata": {},
   "source": [
    "- The above figure the acuity of the patients who expired, we can see that the acuity of the patients who expired is mostly 1\n"
   ]
  },
  {
   "cell_type": "markdown",
   "id": "b24e5990",
   "metadata": {},
   "source": [
    "## Using boxplot to see the compare the patient diagnosis detail between EXPIRED and NOT EXPIRED "
   ]
  },
  {
   "cell_type": "code",
   "execution_count": 45,
   "id": "5b99ae3f",
   "metadata": {},
   "outputs": [],
   "source": [
    "# create new column 'abs_hours' for turning 'hours' to absolute value\n",
    "edstays3['abs_hours'] = edstays3['hours'].apply(lambda x: abs(x))"
   ]
  },
  {
   "cell_type": "code",
   "execution_count": 65,
   "id": "462dbfb1",
   "metadata": {},
   "outputs": [],
   "source": [
    "# fig = px.box(edstays3, x='disposition_binary', y='abs_hours')\n",
    "# fig.update_traces(boxpoints=False, boxmean=True)\n",
    "# fig.update_layout(title='Boxplot of Admission Hour by Disposition')\n",
    "# # update x-axis name, 0 = not expired, 1 = expired\n",
    "# fig.update_xaxes(title_text='Disposition', ticktext=['Not Expired', 'Expired'], tickvals=[0, 1])\n",
    "# fig.show()"
   ]
  },
  {
   "cell_type": "markdown",
   "id": "55838cd0",
   "metadata": {},
   "source": [
    "<img src='figure/abs_hours_box.png' width=\"1000\" height=\"400\">"
   ]
  },
  {
   "cell_type": "markdown",
   "id": "69782954",
   "metadata": {},
   "source": [
    "- a very skewed distribution is found in the data\n",
    "- the median admission total time for Not Expired patients is 5.9 , while for Expired patients is 6.1\n",
    "- the mean admission total time for Not Expired patients is 170, while for Expired patients is 181\n",
    "- generally, the admission total time for Expired patients is longer than Not Expired patients (skewed distribution so use median)"
   ]
  },
  {
   "cell_type": "code",
   "execution_count": 66,
   "id": "64ac0b10",
   "metadata": {},
   "outputs": [],
   "source": [
    "# fig = px.box(edstays3, x='disposition_binary', y='temperature')\n",
    "# fig.update_traces(boxpoints=False, boxmean=True)\n",
    "# fig.update_layout(title='Comparison of Temperature by Not Expired and Expired patients')\n",
    "# # update x-axis name, 0 = not expired, 1 = expired\n",
    "# fig.update_xaxes(title_text='Disposition', ticktext=['Not Expired', 'Expired'], tickvals=[0, 1])\n",
    "# fig.show()"
   ]
  },
  {
   "cell_type": "markdown",
   "id": "8723f2f6",
   "metadata": {},
   "source": [
    "<img src='figure/temperature_box.png' width=\"1000\" height=\"400\">"
   ]
  },
  {
   "cell_type": "markdown",
   "id": "9f5b25a2",
   "metadata": {},
   "source": [
    "- Not Expired patients have a large range of temperature, but the median and mean is around 98\n",
    "- Expired patients have a smaller range of temperature, but the median and mean is 97.9 and 97.25\n",
    "- Unusal temperature range is found in the Not Expired patients (986 temperature?)\n",
    "- Further data cleaning is needed to remove the outliers"
   ]
  },
  {
   "cell_type": "code",
   "execution_count": 68,
   "id": "86015d9e",
   "metadata": {},
   "outputs": [],
   "source": [
    "# fig = px.box(edstays3, x='disposition_binary', y='heartrate')\n",
    "# fig.update_traces(boxpoints=False, boxmean=True)\n",
    "# fig.update_layout(title='Comparison of Heart Rate by Not Expired and Expired patients')\n",
    "# # update x-axis name, 0 = not expired, 1 = expired\n",
    "# fig.update_xaxes(title_text='Disposition', ticktext=['Not Expired', 'Expired'], tickvals=[0, 1])\n",
    "# fig.show()"
   ]
  },
  {
   "cell_type": "markdown",
   "id": "d111d103",
   "metadata": {},
   "source": [
    "<img src='figure/heartrate_box.png' width=\"1000\" height=\"400\">"
   ]
  },
  {
   "cell_type": "markdown",
   "id": "effe35de",
   "metadata": {},
   "source": [
    "- Again, unusal values are present in Not Expired patients (1228 heart rate?), but not in Expired patients\n",
    "- Not Expired patients have 83 median heart rate, while Expired patients have 82 median heart rate\n",
    "- Further cleaning is needed (e.g remove records that have heart rate > certain value)\n",
    "- Further analysis of other columns *resprate*, *o2sat*, *sbp*, *dbp*, *resprate*"
   ]
  },
  {
   "cell_type": "code",
   "execution_count": 76,
   "id": "ed87f1dd",
   "metadata": {},
   "outputs": [
    {
     "data": {
      "text/plain": [
       "0                   309968\n",
       "8                    92180\n",
       "10                   90338\n",
       "7                    68408\n",
       "5                    65766\n",
       "                     ...  \n",
       "groaning                 1\n",
       "scratchy feeling         1\n",
       "unresp                   1\n",
       "no pain                  1\n",
       "bipap                    1\n",
       "Name: pain, Length: 875, dtype: int64"
      ]
     },
     "execution_count": 76,
     "metadata": {},
     "output_type": "execute_result"
    }
   ],
   "source": [
    "# count column pain\n",
    "edstays3['pain'].value_counts()"
   ]
  },
  {
   "cell_type": "markdown",
   "id": "6d85b2d6",
   "metadata": {},
   "source": [
    "- For the pain column, there are a total of 875 different reported levels of pain.\n"
   ]
  },
  {
   "cell_type": "code",
   "execution_count": 69,
   "id": "2c9d9342",
   "metadata": {},
   "outputs": [],
   "source": [
    "# fig = px.box(edstays3, x='disposition_binary', y='acuity')\n",
    "# fig.update_traces(boxpoints=False, boxmean=True)\n",
    "# fig.update_layout(title='Comparison of Acuity by Not Expired and Expired patients')\n",
    "# # update x-axis name, 0 = not expired, 1 = expired\n",
    "# fig.update_xaxes(title_text='Disposition', ticktext=['Not Expired', 'Expired'], tickvals=[0, 1])\n",
    "# fig.show()"
   ]
  },
  {
   "cell_type": "markdown",
   "id": "18177acf",
   "metadata": {},
   "source": [
    "<img src='figure/acuity_disposition_bin_box.png' width=\"1000\" height=\"400\">"
   ]
  },
  {
   "cell_type": "markdown",
   "id": "c21ee5e3",
   "metadata": {},
   "source": [
    "- Not Expired patients have higher acuity mean and median than Expired patients (2.6 and 3)\n",
    "- while Expired patients have 1.57 mean and 1 median\n",
    "- the inter quartile range of Not Expired patients is also higher than Expired patients"
   ]
  },
  {
   "cell_type": "markdown",
   "id": "0115b1b3",
   "metadata": {},
   "source": [
    "## Time Series Analysis\n",
    "- We would like to see the trend of Expired patients and Not Expired patients from time Series"
   ]
  },
  {
   "cell_type": "code",
   "execution_count": 72,
   "id": "8842fcc8",
   "metadata": {},
   "outputs": [],
   "source": [
    "# fig = px.histogram(edstays3[edstays3['disposition_binary'] == True], y='disposition_binary', x='admission_day_of_week' ,template='plotly_white', text_auto=True, marginal=\"box\")\n",
    "# fig.update_layout(title='Histogram of admission day of week (Expired Patients)')\n",
    "# # sort the histogram by y-axis\n",
    "# fig.update_xaxes(categoryorder=\"total ascending\")\n",
    "# # fig.show()"
   ]
  },
  {
   "cell_type": "markdown",
   "id": "a714a8ce",
   "metadata": {},
   "source": [
    "<img src='figure/adminday_vs_deposition_hist.png' width=\"1000\" height=\"400\">"
   ]
  },
  {
   "cell_type": "markdown",
   "id": "403f370f",
   "metadata": {},
   "source": [
    "- No special pattern is found for which day of week have any suspicious pattern"
   ]
  },
  {
   "cell_type": "code",
   "execution_count": 76,
   "id": "1d3e3ad0",
   "metadata": {},
   "outputs": [],
   "source": [
    "# fig = px.histogram(edstays3[edstays3['disposition_binary'] == True], y='disposition_binary', x='admission_hour' ,template='plotly_white', text_auto=True, marginal=\"rug\")\n",
    "# fig.update_layout(title='Histogram of admission hour (Expired Patients)')\n",
    "# # sort the histogram by y-axis\n",
    "# fig.update_xaxes(categoryorder=\"total ascending\")\n",
    "# fig.show()"
   ]
  },
  {
   "cell_type": "markdown",
   "id": "d97d30b7",
   "metadata": {},
   "source": [
    "<img src='figure/adminhr_vs_disposition_hist.png' width=\"1000\" height=\"400\">"
   ]
  },
  {
   "cell_type": "markdown",
   "id": "971d7ab8",
   "metadata": {},
   "source": [
    "- From 9:00 A.M to 5:00 P.M is peek time compared to other time\n",
    "- Especially 9:00 A.M to 10:00 A.M and 4:00 P.M to 5:00 P.M have more admission hour for expired patients compared to other time"
   ]
  }
 ],
 "metadata": {
  "kernelspec": {
   "display_name": "Python 3.8.5 ('base')",
   "language": "python",
   "name": "python3"
  },
  "language_info": {
   "codemirror_mode": {
    "name": "ipython",
    "version": 3
   },
   "file_extension": ".py",
   "mimetype": "text/x-python",
   "name": "python",
   "nbconvert_exporter": "python",
   "pygments_lexer": "ipython3",
   "version": "3.8.13"
  },
  "vscode": {
   "interpreter": {
    "hash": "49cb93f377a7abe7414b7b0f21fb3017538004a126cf690fb524202736b7fb92"
   }
  }
 },
 "nbformat": 4,
 "nbformat_minor": 5
}
